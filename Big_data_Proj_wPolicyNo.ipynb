{
  "nbformat": 4,
  "nbformat_minor": 0,
  "metadata": {
    "colab": {
      "name": "Big_data_Proj_wPolicyNo.ipynb",
      "provenance": []
    },
    "kernelspec": {
      "name": "python3",
      "display_name": "Python 3"
    }
  },
  "cells": [
    {
      "cell_type": "code",
      "metadata": {
        "id": "gxN_IpZjIdlo",
        "colab_type": "code",
        "colab": {}
      },
      "source": [
        "import random\n",
        "import pandas as pd\n",
        "import numpy as np\n",
        "import sklearn\n",
        "import math\n",
        "from sklearn import preprocessing\n",
        "from sklearn.metrics import mean_squared_error\n",
        "from sklearn.ensemble import RandomForestRegressor\n",
        "from sklearn.preprocessing import LabelEncoder\n",
        "from sklearn.model_selection import train_test_split\n",
        "from sklearn.metrics import mean_absolute_error\n",
        "from sklearn.utils import shuffle\n",
        "from sklearn.preprocessing import StandardScaler\n",
        "from sklearn.decomposition import PCA\n",
        "import matplotlib.pyplot as plt\n",
        "from sklearn.linear_model import Ridge, RidgeCV, LassoCV"
      ],
      "execution_count": 0,
      "outputs": []
    },
    {
      "cell_type": "code",
      "metadata": {
        "id": "5LOF15VqIk_Z",
        "colab_type": "code",
        "colab": {
          "base_uri": "https://localhost:8080/",
          "height": 72
        },
        "outputId": "08c75ea1-2646-4856-d335-ba4d3212e381"
      },
      "source": [
        "train_data = pd.read_csv('training_data.csv')"
      ],
      "execution_count": 2,
      "outputs": [
        {
          "output_type": "stream",
          "text": [
            "/usr/local/lib/python3.6/dist-packages/IPython/core/interactiveshell.py:2718: DtypeWarning: Columns (6,54) have mixed types. Specify dtype option on import or set low_memory=False.\n",
            "  interactivity=interactivity, compiler=compiler, result=result)\n"
          ],
          "name": "stderr"
        }
      ]
    },
    {
      "cell_type": "markdown",
      "metadata": {
        "id": "MtYaUx4UIhXs",
        "colab_type": "text"
      },
      "source": [
        "Replace the 'Unknown' to NA so as to make it recognizable as a missing value."
      ]
    },
    {
      "cell_type": "code",
      "metadata": {
        "id": "IDASKbyNJBdk",
        "colab_type": "code",
        "colab": {}
      },
      "source": [
        "missing=\"Unknown\"\n",
        "training_data=pd.read_csv('training_data.csv',na_values = missing)"
      ],
      "execution_count": 0,
      "outputs": []
    },
    {
      "cell_type": "markdown",
      "metadata": {
        "id": "5cWO2PIMJ2ox",
        "colab_type": "text"
      },
      "source": [
        "Drop the variables that are not required from the start."
      ]
    },
    {
      "cell_type": "code",
      "metadata": {
        "id": "WqGRl14GJ4eO",
        "colab_type": "code",
        "colab": {}
      },
      "source": [
        "training_data_copy=training_data.drop(['Policy_Zip_Code_Garaging_Location','EEA_Policy_Zip_Code_3','EEA_PolicyYear','Vehicle_Make_Description','Frequency','Severity','Loss_Ratio'], axis=1)"
      ],
      "execution_count": 0,
      "outputs": []
    },
    {
      "cell_type": "code",
      "metadata": {
        "id": "m951jsBNKTxe",
        "colab_type": "code",
        "colab": {
          "base_uri": "https://localhost:8080/",
          "height": 130
        },
        "outputId": "23e45ae8-6b19-4c50-e0d9-5eb9663c2c20"
      },
      "source": [
        "training_data_copy.head(2)"
      ],
      "execution_count": 5,
      "outputs": [
        {
          "output_type": "execute_result",
          "data": {
            "text/html": [
              "<div>\n",
              "<style scoped>\n",
              "    .dataframe tbody tr th:only-of-type {\n",
              "        vertical-align: middle;\n",
              "    }\n",
              "\n",
              "    .dataframe tbody tr th {\n",
              "        vertical-align: top;\n",
              "    }\n",
              "\n",
              "    .dataframe thead th {\n",
              "        text-align: right;\n",
              "    }\n",
              "</style>\n",
              "<table border=\"1\" class=\"dataframe\">\n",
              "  <thead>\n",
              "    <tr style=\"text-align: right;\">\n",
              "      <th></th>\n",
              "      <th>PolicyNo</th>\n",
              "      <th>Policy_Company</th>\n",
              "      <th>Policy_Installment_Term</th>\n",
              "      <th>Policy_Billing_Code</th>\n",
              "      <th>Policy_Method_Of_Payment</th>\n",
              "      <th>Policy_Reinstatement_Fee_Indicator</th>\n",
              "      <th>Vehicle_Territory</th>\n",
              "      <th>Vehicle_Make_Year</th>\n",
              "      <th>Vehicle_Performance</th>\n",
              "      <th>Vehicle_New_Cost_Amount</th>\n",
              "      <th>Vehicle_Symbol</th>\n",
              "      <th>Vehicle_Number_Of_Drivers_Assigned</th>\n",
              "      <th>Vehicle_Usage</th>\n",
              "      <th>Vehicle_Miles_To_Work</th>\n",
              "      <th>Vehicle_Days_Per_Week_Driven</th>\n",
              "      <th>Vehicle_Annual_Miles</th>\n",
              "      <th>Vehicle_Anti_Theft_Device</th>\n",
              "      <th>Vehicle_Passive_Restraint</th>\n",
              "      <th>Vehicle_Age_In_Years</th>\n",
              "      <th>Vehicle_Med_Pay_Limit</th>\n",
              "      <th>Vehicle_Bodily_Injury_Limit</th>\n",
              "      <th>Vehicle_Physical_Damage_Limit</th>\n",
              "      <th>Vehicle_Comprehensive_Coverage_Indicator</th>\n",
              "      <th>Vehicle_Comprehensive_Coverage_Limit</th>\n",
              "      <th>Vehicle_Collision_Coverage_Indicator</th>\n",
              "      <th>Vehicle_Collision_Coverage_Deductible</th>\n",
              "      <th>Driver_Total</th>\n",
              "      <th>Driver_Total_Male</th>\n",
              "      <th>Driver_Total_Female</th>\n",
              "      <th>Driver_Total_Single</th>\n",
              "      <th>Driver_Total_Married</th>\n",
              "      <th>Driver_Total_Related_To_Insured_Self</th>\n",
              "      <th>Driver_Total_Related_To_Insured_Spouse</th>\n",
              "      <th>Driver_Total_Related_To_Insured_Child</th>\n",
              "      <th>Driver_Total_Licensed_In_State</th>\n",
              "      <th>Driver_Minimum_Age</th>\n",
              "      <th>Driver_Maximum_Age</th>\n",
              "      <th>Driver_Total_Teenager_Age_15_19</th>\n",
              "      <th>Driver_Total_College_Ages_20_23</th>\n",
              "      <th>Driver_Total_Young_Adult_Ages_24_29</th>\n",
              "      <th>Driver_Total_Low_Middle_Adult_Ages_30_39</th>\n",
              "      <th>Driver_Total_Middle_Adult_Ages_40_49</th>\n",
              "      <th>Driver_Total_Adult_Ages_50_64</th>\n",
              "      <th>Driver_Total_Senior_Ages_65_69</th>\n",
              "      <th>Driver_Total_Upper_Senior_Ages_70_plus</th>\n",
              "      <th>Vehicle_Youthful_Driver_Indicator</th>\n",
              "      <th>Vehicle_Youthful_Driver_Training_Code</th>\n",
              "      <th>Vehicle_Youthful_Good_Student_Code</th>\n",
              "      <th>Vehicle_Driver_Points</th>\n",
              "      <th>Vehicle_Safe_Driver_Discount_Indicator</th>\n",
              "      <th>EEA_Liability_Coverage_Only_Indicator</th>\n",
              "      <th>EEA_Multi_Auto_Policies_Indicator</th>\n",
              "      <th>EEA_Policy_Tenure</th>\n",
              "      <th>EEA_Agency_Type</th>\n",
              "      <th>EEA_Packaged_Policy_Indicator</th>\n",
              "      <th>EEA_Full_Coverage_Indicator</th>\n",
              "      <th>EEA_Prior_Bodily_Injury_Limit</th>\n",
              "      <th>SYS_Renewed</th>\n",
              "      <th>SYS_New_Business</th>\n",
              "      <th>Annual_Premium</th>\n",
              "      <th>Claim_Count</th>\n",
              "      <th>Loss_Amount</th>\n",
              "    </tr>\n",
              "  </thead>\n",
              "  <tbody>\n",
              "    <tr>\n",
              "      <th>0</th>\n",
              "      <td>164532941</td>\n",
              "      <td>Standard</td>\n",
              "      <td>6</td>\n",
              "      <td>Direct Billed to Insured</td>\n",
              "      <td>Pre-paid</td>\n",
              "      <td>N</td>\n",
              "      <td>35</td>\n",
              "      <td>2004</td>\n",
              "      <td>Standard</td>\n",
              "      <td>-1</td>\n",
              "      <td>11</td>\n",
              "      <td>1</td>\n",
              "      <td>Farm</td>\n",
              "      <td>-1</td>\n",
              "      <td>5</td>\n",
              "      <td>NaN</td>\n",
              "      <td>Not Applicable</td>\n",
              "      <td>Y</td>\n",
              "      <td>3</td>\n",
              "      <td>1000</td>\n",
              "      <td>250-500</td>\n",
              "      <td>100000</td>\n",
              "      <td>N</td>\n",
              "      <td>-1</td>\n",
              "      <td>Y</td>\n",
              "      <td>500</td>\n",
              "      <td>1</td>\n",
              "      <td>0</td>\n",
              "      <td>1</td>\n",
              "      <td>0</td>\n",
              "      <td>0</td>\n",
              "      <td>1</td>\n",
              "      <td>0</td>\n",
              "      <td>0</td>\n",
              "      <td>1</td>\n",
              "      <td>75</td>\n",
              "      <td>75</td>\n",
              "      <td>0</td>\n",
              "      <td>0</td>\n",
              "      <td>0</td>\n",
              "      <td>0</td>\n",
              "      <td>0</td>\n",
              "      <td>0</td>\n",
              "      <td>0</td>\n",
              "      <td>1</td>\n",
              "      <td>N</td>\n",
              "      <td>Not Applicable</td>\n",
              "      <td>Not Eligible for Good Student Credit</td>\n",
              "      <td>0</td>\n",
              "      <td>Y</td>\n",
              "      <td>N</td>\n",
              "      <td>N</td>\n",
              "      <td>22.7</td>\n",
              "      <td>Standard</td>\n",
              "      <td>N</td>\n",
              "      <td>Y</td>\n",
              "      <td>100-400</td>\n",
              "      <td>Y</td>\n",
              "      <td>N</td>\n",
              "      <td>320.12</td>\n",
              "      <td>0</td>\n",
              "      <td>0.0</td>\n",
              "    </tr>\n",
              "    <tr>\n",
              "      <th>1</th>\n",
              "      <td>164533241</td>\n",
              "      <td>Standard</td>\n",
              "      <td>6</td>\n",
              "      <td>Direct Billed to Insured</td>\n",
              "      <td>Pre-paid</td>\n",
              "      <td>N</td>\n",
              "      <td>35</td>\n",
              "      <td>1980</td>\n",
              "      <td>Standard</td>\n",
              "      <td>-1</td>\n",
              "      <td>11</td>\n",
              "      <td>1</td>\n",
              "      <td>Farm</td>\n",
              "      <td>-1</td>\n",
              "      <td>5</td>\n",
              "      <td>NaN</td>\n",
              "      <td>Not Applicable</td>\n",
              "      <td>N</td>\n",
              "      <td>9</td>\n",
              "      <td>2000</td>\n",
              "      <td>100-300</td>\n",
              "      <td>50000</td>\n",
              "      <td>N</td>\n",
              "      <td>-1</td>\n",
              "      <td>Y</td>\n",
              "      <td>50</td>\n",
              "      <td>1</td>\n",
              "      <td>0</td>\n",
              "      <td>1</td>\n",
              "      <td>0</td>\n",
              "      <td>1</td>\n",
              "      <td>0</td>\n",
              "      <td>0</td>\n",
              "      <td>0</td>\n",
              "      <td>1</td>\n",
              "      <td>71</td>\n",
              "      <td>71</td>\n",
              "      <td>0</td>\n",
              "      <td>0</td>\n",
              "      <td>0</td>\n",
              "      <td>0</td>\n",
              "      <td>0</td>\n",
              "      <td>0</td>\n",
              "      <td>0</td>\n",
              "      <td>1</td>\n",
              "      <td>N</td>\n",
              "      <td>Not Applicable</td>\n",
              "      <td>Not Eligible for Good Student Credit</td>\n",
              "      <td>0</td>\n",
              "      <td>Y</td>\n",
              "      <td>N</td>\n",
              "      <td>N</td>\n",
              "      <td>47.1</td>\n",
              "      <td>Preferred</td>\n",
              "      <td>N</td>\n",
              "      <td>Y</td>\n",
              "      <td>100-200</td>\n",
              "      <td>Y</td>\n",
              "      <td>N</td>\n",
              "      <td>259.70</td>\n",
              "      <td>0</td>\n",
              "      <td>0.0</td>\n",
              "    </tr>\n",
              "  </tbody>\n",
              "</table>\n",
              "</div>"
            ],
            "text/plain": [
              "    PolicyNo Policy_Company  ...  Claim_Count Loss_Amount\n",
              "0  164532941      Standard   ...            0         0.0\n",
              "1  164533241      Standard   ...            0         0.0\n",
              "\n",
              "[2 rows x 62 columns]"
            ]
          },
          "metadata": {
            "tags": []
          },
          "execution_count": 5
        }
      ]
    },
    {
      "cell_type": "code",
      "metadata": {
        "id": "3lwtDZQKdiZ2",
        "colab_type": "code",
        "colab": {
          "base_uri": "https://localhost:8080/",
          "height": 35
        },
        "outputId": "1018a85a-575a-4685-9346-326bd3bacbdb"
      },
      "source": [
        "training_data_copy.shape"
      ],
      "execution_count": 6,
      "outputs": [
        {
          "output_type": "execute_result",
          "data": {
            "text/plain": [
              "(424431, 62)"
            ]
          },
          "metadata": {
            "tags": []
          },
          "execution_count": 6
        }
      ]
    },
    {
      "cell_type": "markdown",
      "metadata": {
        "id": "pITLjT3DPX6_",
        "colab_type": "text"
      },
      "source": [
        "Make bins for Policy Number."
      ]
    },
    {
      "cell_type": "code",
      "metadata": {
        "id": "Ictb_qb7PQIL",
        "colab_type": "code",
        "colab": {}
      },
      "source": [
        "training_data_copy['PolicyNo_<210']=training_data_copy.apply(lambda _: '', axis=1)\n",
        "training_data_copy['PolicyNo_210-300']=training_data_copy.apply(lambda _: '', axis=1)\n",
        "training_data_copy['PolicyNo_300-345']=training_data_copy.apply(lambda _: '', axis=1)\n",
        "training_data_copy['PolicyNo_>345']=training_data_copy.apply(lambda _: '', axis=1)"
      ],
      "execution_count": 0,
      "outputs": []
    },
    {
      "cell_type": "code",
      "metadata": {
        "id": "S2nKz3LMPq7n",
        "colab_type": "code",
        "colab": {
          "base_uri": "https://localhost:8080/",
          "height": 72
        },
        "outputId": "f06e9b57-61d8-48f3-eb53-7cc646be2e85"
      },
      "source": [
        "for i in training_data_copy.index:\n",
        "\n",
        "  record = training_data_copy.get_value(i,'PolicyNo')\n",
        "\n",
        "  if record <210000000:\n",
        "     training_data_copy.at[i,'PolicyNo_<210']=1\n",
        "  else:\n",
        "     training_data_copy.at[ i,'PolicyNo_<210']=0\n",
        "\n",
        "  if record >= 210000000 and record<300000000:\n",
        "     training_data_copy.at[ i,'PolicyNo_210-300']=1\n",
        "  else:\n",
        "     training_data_copy.at[ i,'PolicyNo_210-300']=0\n",
        "\n",
        "  if record >=300000000 and record<345000000:\n",
        "     training_data_copy.at[ i,'PolicyNo_300-345']=1\n",
        "  else:\n",
        "     training_data_copy.at[ i,'PolicyNo_300-345']=0\n",
        "\n",
        "  if record >=345000000:\n",
        "     training_data_copy.at[ i,'PolicyNo_>345']=1\n",
        "  else:\n",
        "     training_data_copy.at[ i,'PolicyNo_>345']=0\n"
      ],
      "execution_count": 8,
      "outputs": [
        {
          "output_type": "stream",
          "text": [
            "/usr/local/lib/python3.6/dist-packages/ipykernel_launcher.py:3: FutureWarning: get_value is deprecated and will be removed in a future release. Please use .at[] or .iat[] accessors instead\n",
            "  This is separate from the ipykernel package so we can avoid doing imports until\n"
          ],
          "name": "stderr"
        }
      ]
    },
    {
      "cell_type": "code",
      "metadata": {
        "id": "SitCI4nwRuug",
        "colab_type": "code",
        "colab": {
          "base_uri": "https://localhost:8080/",
          "height": 35
        },
        "outputId": "15668876-8f9d-4727-da1f-b2a19ad21384"
      },
      "source": [
        "training_data_copy.shape"
      ],
      "execution_count": 25,
      "outputs": [
        {
          "output_type": "execute_result",
          "data": {
            "text/plain": [
              "(424431, 66)"
            ]
          },
          "metadata": {
            "tags": []
          },
          "execution_count": 25
        }
      ]
    },
    {
      "cell_type": "markdown",
      "metadata": {
        "id": "R29q4HcSRC_D",
        "colab_type": "text"
      },
      "source": [
        "Drop PolicyNo after creating required bins."
      ]
    },
    {
      "cell_type": "code",
      "metadata": {
        "id": "B7LPIhNORJgc",
        "colab_type": "code",
        "colab": {}
      },
      "source": [
        "training_data_copy_2 = training_data_copy.drop(['PolicyNo'], axis=1)"
      ],
      "execution_count": 0,
      "outputs": []
    },
    {
      "cell_type": "code",
      "metadata": {
        "id": "ID_uJZtqW4H1",
        "colab_type": "code",
        "colab": {
          "base_uri": "https://localhost:8080/",
          "height": 35
        },
        "outputId": "3700d5c3-dffd-4362-89e5-59fb903d65ba"
      },
      "source": [
        "training_data_copy_2.shape"
      ],
      "execution_count": 27,
      "outputs": [
        {
          "output_type": "execute_result",
          "data": {
            "text/plain": [
              "(424431, 65)"
            ]
          },
          "metadata": {
            "tags": []
          },
          "execution_count": 27
        }
      ]
    },
    {
      "cell_type": "code",
      "metadata": {
        "id": "vLRXKK7SlIIV",
        "colab_type": "code",
        "colab": {}
      },
      "source": [
        "# list(training_data_copy_2.columns)"
      ],
      "execution_count": 0,
      "outputs": []
    },
    {
      "cell_type": "markdown",
      "metadata": {
        "id": "XKVEcFMRQ-CX",
        "colab_type": "text"
      },
      "source": [
        "Encode Data."
      ]
    },
    {
      "cell_type": "code",
      "metadata": {
        "id": "q0SgG8uDQ_41",
        "colab_type": "code",
        "colab": {}
      },
      "source": [
        "encod_train = pd.get_dummies(training_data_copy,dummy_na=False, columns=['Policy_Company',\n",
        " 'Policy_Installment_Term',\n",
        " 'Policy_Billing_Code',\n",
        " 'Policy_Method_Of_Payment',\n",
        " 'Policy_Reinstatement_Fee_Indicator',\n",
        " 'Vehicle_Territory',\n",
        " 'Vehicle_Performance',\n",
        " 'Vehicle_Symbol',\n",
        " 'Vehicle_Usage',\n",
        " 'Vehicle_Days_Per_Week_Driven',\n",
        " 'Vehicle_Anti_Theft_Device',\n",
        " 'Vehicle_Passive_Restraint',\n",
        " 'Vehicle_Age_In_Years',\n",
        " 'Vehicle_Med_Pay_Limit',\n",
        " 'Vehicle_Bodily_Injury_Limit',\n",
        " 'Vehicle_Physical_Damage_Limit',\n",
        " 'Vehicle_Comprehensive_Coverage_Indicator',\n",
        " 'Vehicle_Collision_Coverage_Indicator',\n",
        " 'Vehicle_Collision_Coverage_Deductible',\n",
        " 'Vehicle_Youthful_Driver_Indicator', \n",
        " 'Vehicle_Youthful_Driver_Training_Code',\n",
        " 'Vehicle_Youthful_Good_Student_Code',\n",
        " 'Vehicle_Driver_Points',\n",
        " 'Vehicle_Safe_Driver_Discount_Indicator',\n",
        " 'EEA_Liability_Coverage_Only_Indicator',\n",
        " 'EEA_Multi_Auto_Policies_Indicator',\n",
        " 'EEA_Agency_Type',\n",
        " 'EEA_Packaged_Policy_Indicator',\n",
        " 'EEA_Full_Coverage_Indicator',\n",
        " 'EEA_Prior_Bodily_Injury_Limit',\n",
        " 'SYS_Renewed',\n",
        " 'SYS_New_Business',\n",
        " ])"
      ],
      "execution_count": 0,
      "outputs": []
    },
    {
      "cell_type": "code",
      "metadata": {
        "id": "QK_3SacTW7wL",
        "colab_type": "code",
        "colab": {
          "base_uri": "https://localhost:8080/",
          "height": 35
        },
        "outputId": "c93b03da-a98c-4d71-f030-bb861f3c2a54"
      },
      "source": [
        "encod_train.shape"
      ],
      "execution_count": 31,
      "outputs": [
        {
          "output_type": "execute_result",
          "data": {
            "text/plain": [
              "(424431, 201)"
            ]
          },
          "metadata": {
            "tags": []
          },
          "execution_count": 31
        }
      ]
    },
    {
      "cell_type": "markdown",
      "metadata": {
        "id": "Vfeo7TWrUASi",
        "colab_type": "text"
      },
      "source": [
        "Create new variables to be added to the encod_train data."
      ]
    },
    {
      "cell_type": "code",
      "metadata": {
        "id": "eeheX-EMUDma",
        "colab_type": "code",
        "colab": {
          "base_uri": "https://localhost:8080/",
          "height": 143
        },
        "outputId": "8fd5e670-b053-4955-e1e5-80eedf2d4c3a"
      },
      "source": [
        "encod_train['Vehicle_Bodily_Injury_Limit_100-500_new']=encod_train['Vehicle_Bodily_Injury_Limit_100-300']+encod_train['Vehicle_Bodily_Injury_Limit_250-500']+encod_train['Vehicle_Bodily_Injury_Limit_300-500']+encod_train['Vehicle_Bodily_Injury_Limit_500-500']+encod_train['Vehicle_Bodily_Injury_Limit_100-500']\n",
        "encod_train['Vehicle_Bodily_Injury_Limit_25-100_new']=encod_train['Vehicle_Bodily_Injury_Limit_25-50  ']+encod_train['Vehicle_Bodily_Injury_Limit_50-100 ']\n",
        "\n",
        "encod_train['Vehicle_Make_Age']=encod_train.apply(lambda _: '', axis=1)\n",
        "encod_train['Vehicle_Make_Age']=abs(2009-encod_train['Vehicle_Make_Year'])\n",
        "encod_train['Vehicle_Make_Age_0-5']=encod_train.apply(lambda _: '', axis=1)\n",
        "encod_train['Vehicle_Make_Age_5-10']=encod_train.apply(lambda _: '', axis=1)\n",
        "encod_train['Vehicle_Make_Age_10-20']=encod_train.apply(lambda _: '', axis=1)\n",
        "encod_train['Vehicle_Make_Age_20-50']=encod_train.apply(lambda _: '', axis=1)\n",
        "encod_train['Vehicle_Make_Age_>50']=encod_train.apply(lambda _: '', axis=1)\n",
        "\n",
        "for i in encod_train.index:\n",
        "\n",
        "  record = encod_train.get_value(i,'Vehicle_Make_Age')\n",
        "\n",
        "  if record >= 0 and record<5:\n",
        "     encod_train.at[i,'Vehicle_Make_Age_0-5']=1\n",
        "  else:\n",
        "     encod_train.at[ i,'Vehicle_Make_Age_0-5']=0\n",
        "\n",
        "  if record >= 5 and record<10:\n",
        "     encod_train.at[ i,'Vehicle_Make_Age_5-10']=1\n",
        "  else:\n",
        "     encod_train.at[ i,'Vehicle_Make_Age_5-10']=0\n",
        "\n",
        "  if record >=10 and record<20:\n",
        "     encod_train.at[ i,'Vehicle_Make_Age_10-20']=1\n",
        "  else:\n",
        "     encod_train.at[ i,'Vehicle_Make_Age_10-20']=0\n",
        "\n",
        "  if record >=20 and record<50:\n",
        "     encod_train.at[ i,'Vehicle_Make_Age_20-50']=1\n",
        "  else:\n",
        "     encod_train.at[ i,'Vehicle_Make_Age_20-50']=0\n",
        "\n",
        "  if record >=50:\n",
        "     encod_train.at[ i,'Vehicle_Make_Age_>50']=1\n",
        "  else:\n",
        "     encod_train.at[ i,'Vehicle_Make_Age_>50']=0\n",
        "     \n",
        "encod_train['Vehicle_Number_Of_Drivers_Assigned_1']=encod_train.apply(lambda _: '', axis=1)\n",
        "encod_train['Vehicle_Number_Of_Drivers_Assigned_2-8']=encod_train.apply(lambda _: '', axis=1)\n",
        "encod_train['Vehicle_Number_Of_Drivers_Assigned_99']=encod_train.apply(lambda _: '', axis=1)\n",
        "\n",
        "for i in encod_train.index:\n",
        "\n",
        "  record = encod_train.get_value(i,'Vehicle_Number_Of_Drivers_Assigned')\n",
        "\n",
        "  if record == 1:\n",
        "    encod_train.at[ i,'Vehicle_Number_Of_Drivers_Assigned_1']=1\n",
        "  else:\n",
        "    encod_train.at[ i,'Vehicle_Number_Of_Drivers_Assigned_1']=0\n",
        "\n",
        "  if record >=2 and record<9:\n",
        "    encod_train.at[i,'Vehicle_Number_Of_Drivers_Assigned_2-8']=1\n",
        "  else:\n",
        "    encod_train.at[i,'Vehicle_Number_Of_Drivers_Assigned_2-8']=0\n",
        "\n",
        "  if record >= 99:\n",
        "    encod_train.at[i,'Vehicle_Number_Of_Drivers_Assigned_99']=1\n",
        "  else:\n",
        "    encod_train.at[i,'Vehicle_Number_Of_Drivers_Assigned_99']=0\n",
        "\n",
        "encod_train['EEA_Policy_Tenure_0-10']=encod_train.apply(lambda _: '', axis=1)\n",
        "encod_train['EEA_Policy_Tenure_10-20']=encod_train.apply(lambda _: '', axis=1)\n",
        "encod_train['EEA_Policy_Tenure_20-30']=encod_train.apply(lambda _: '', axis=1)\n",
        "encod_train['EEA_Policy_Tenure_30-40']=encod_train.apply(lambda _: '', axis=1)\n",
        "encod_train['EEA_Policy_Tenure_40-50']=encod_train.apply(lambda _: '', axis=1)\n",
        "encod_train['EEA_Policy_Tenure_50-60']=encod_train.apply(lambda _: '', axis=1)\n",
        "\n",
        "for i in encod_train.index:\n",
        "\n",
        "  record = encod_train.get_value(i,'EEA_Policy_Tenure')\n",
        "\n",
        "  if record >=0 and record < 10 :\n",
        "    encod_train.at[i,'EEA_Policy_Tenure_0-10']=1\n",
        "  else:\n",
        "    encod_train.at[i,'EEA_Policy_Tenure_0-10']=0\n",
        "\n",
        "  if record >=10 and record < 20 :\n",
        "    encod_train.at[i,'EEA_Policy_Tenure_10-20']=1\n",
        "  else:\n",
        "    encod_train.at[i,'EEA_Policy_Tenure_10-20']=0\n",
        "  \n",
        "  if record >=20 and record < 30 :\n",
        "    encod_train.at[i,'EEA_Policy_Tenure_20-30']=1\n",
        "  else:\n",
        "    encod_train.at[i,'EEA_Policy_Tenure_20-30']=0\n",
        "  \n",
        "  if record >=30 and record < 40 :\n",
        "    encod_train.at[i,'EEA_Policy_Tenure_30-40']=1\n",
        "  else:\n",
        "    encod_train.at[i,'EEA_Policy_Tenure_30-40']=0\n",
        "  \n",
        "  if record >=40 and record < 50 :\n",
        "    encod_train.at[i,'EEA_Policy_Tenure_40-50']=1\n",
        "  else:\n",
        "    encod_train.at[i,'EEA_Policy_Tenure_40-50']=0\n",
        "  \n",
        "  if record >=50 and record < 60 :\n",
        "    encod_train.at[i,'EEA_Policy_Tenure_50-60']=1\n",
        "  else:\n",
        "    encod_train.at[i,'EEA_Policy_Tenure_50-60']=0\n",
        "    \n",
        "encod_train['Annual_Premium_0-1000']=encod_train.apply(lambda _: '', axis=1)\n",
        "encod_train['Annual_Premium_1000-2000']=encod_train.apply(lambda _: '', axis=1)\n",
        "encod_train['Annual_Premium_2000-3000']=encod_train.apply(lambda _: '', axis=1)\n",
        "encod_train['Annual_Premium_3000-4000']=encod_train.apply(lambda _: '', axis=1)\n",
        "\n",
        "for i in encod_train.index:\n",
        "  \n",
        "  record = encod_train.get_value(i,'Annual_Premium')\n",
        "\n",
        "  if record >=0 and record < 1000 :\n",
        "    encod_train.at[i,'Annual_Premium_0-1000']=1\n",
        "  else:\n",
        "    encod_train.at[i,'Annual_Premium_0-1000']=0\n",
        "\n",
        "  if record >=1000 and record < 2000 :\n",
        "    encod_train.at[i,'Annual_Premium_1000-2000']=1\n",
        "  else:\n",
        "    encod_train.at[i,'Annual_Premium_1000-2000']=0\n",
        "\n",
        "  if record >=2000 and record < 3000 :\n",
        "    encod_train.at[i,'Annual_Premium_2000-3000']=1\n",
        "  else:\n",
        "    encod_train.at[i,'Annual_Premium_2000-3000']=0\n",
        "\n",
        "  if record >=3000:\n",
        "    encod_train.at[i,'Annual_Premium_3000-4000']=1\n",
        "  else:\n",
        "    encod_train.at[i,'Annual_Premium_3000-4000']=0\n",
        "\n",
        "\n",
        "encod_train['Vehicle_Miles_To_Work_0-10']=encod_train.apply(lambda _: '', axis=1)\n",
        "encod_train['Vehicle_Miles_To_Work_10-20']=encod_train.apply(lambda _: '', axis=1)\n",
        "encod_train['Vehicle_Miles_To_Work_20-30']=encod_train.apply(lambda _: '', axis=1)\n",
        "encod_train['Vehicle_Miles_To_Work_30-40']=encod_train.apply(lambda _: '', axis=1)\n",
        "encod_train['Vehicle_Miles_To_Work_40-50']=encod_train.apply(lambda _: '', axis=1)\n",
        "encod_train['Vehicle_Miles_To_Work_50-60']=encod_train.apply(lambda _: '', axis=1)\n",
        "encod_train['Vehicle_Miles_To_Work_60-70']=encod_train.apply(lambda _: '', axis=1)\n",
        "encod_train['Vehicle_Miles_To_Work_70-80']=encod_train.apply(lambda _: '', axis=1)\n",
        "encod_train['Vehicle_Miles_To_Work_80-90']=encod_train.apply(lambda _: '', axis=1)\n",
        "encod_train['Vehicle_Miles_To_Work_90-100']=encod_train.apply(lambda _: '', axis=1)\n",
        "\n",
        "for i in encod_train.index:\n",
        "\n",
        "  record = encod_train.get_value(i,'Vehicle_Miles_To_Work')\n",
        "\n",
        "  if record >=0 and record < 10 :\n",
        "    encod_train.at[i,'Vehicle_Miles_To_Work_0-10']=1\n",
        "  else:\n",
        "    encod_train.at[i,'Vehicle_Miles_To_Work_0-10']=0\n",
        "\n",
        "  if record >=10 and record < 20 :\n",
        "    encod_train.at[i,'Vehicle_Miles_To_Work_10-20']=1\n",
        "  else:\n",
        "    encod_train.at[i,'Vehicle_Miles_To_Work_10-20']=0\n",
        "  \n",
        "  if record >=20 and record < 30 :\n",
        "    encod_train.at[i,'Vehicle_Miles_To_Work_20-30']=1\n",
        "  else:\n",
        "    encod_train.at[i,'Vehicle_Miles_To_Work_20-30']=0\n",
        "  \n",
        "  if record >=30 and record < 40 :\n",
        "    encod_train.at[i,'Vehicle_Miles_To_Work_30-40']=1\n",
        "  else:\n",
        "    encod_train.at[i,'Vehicle_Miles_To_Work_30-40']=0\n",
        "  \n",
        "  if record >=40 and record < 50 :\n",
        "    encod_train.at[i,'Vehicle_Miles_To_Work_40-50']=1\n",
        "  else:\n",
        "    encod_train.at[i,'Vehicle_Miles_To_Work_40-50']=0\n",
        "  \n",
        "  if record >=50 and record < 60 :\n",
        "    encod_train.at[i,'Vehicle_Miles_To_Work_50-60']=1\n",
        "  else:\n",
        "    encod_train.at[i,'Vehicle_Miles_To_Work_50-60']=0\n",
        "\n",
        "  if record >=60 and record < 70 :\n",
        "    encod_train.at[i,'Vehicle_Miles_To_Work_60-70']=1\n",
        "  else:\n",
        "    encod_train.at[i,'Vehicle_Miles_To_Work_60-70']=0\n",
        "\n",
        "  if record >=70 and record < 80 :\n",
        "    encod_train.at[i,'Vehicle_Miles_To_Work_70-80']=1\n",
        "  else:\n",
        "    encod_train.at[i,'Vehicle_Miles_To_Work_70-80']=0\n",
        "\n",
        "  if record >=80 and record < 90 :\n",
        "    encod_train.at[i,'Vehicle_Miles_To_Work_80-90']=1\n",
        "  else:\n",
        "    encod_train.at[i,'Vehicle_Miles_To_Work_80-90']=0\n",
        "\n",
        "  if record >=90 and record < 100 :\n",
        "    encod_train.at[i,'Vehicle_Miles_To_Work_90-100']=1\n",
        "  else:\n",
        "    encod_train.at[i,'Vehicle_Miles_To_Work_90-100']=0    \n"
      ],
      "execution_count": 32,
      "outputs": [
        {
          "output_type": "stream",
          "text": [
            "/usr/local/lib/python3.6/dist-packages/ipykernel_launcher.py:14: FutureWarning: get_value is deprecated and will be removed in a future release. Please use .at[] or .iat[] accessors instead\n",
            "  \n",
            "/usr/local/lib/python3.6/dist-packages/ipykernel_launcher.py:47: FutureWarning: get_value is deprecated and will be removed in a future release. Please use .at[] or .iat[] accessors instead\n",
            "/usr/local/lib/python3.6/dist-packages/ipykernel_launcher.py:73: FutureWarning: get_value is deprecated and will be removed in a future release. Please use .at[] or .iat[] accessors instead\n",
            "/usr/local/lib/python3.6/dist-packages/ipykernel_launcher.py:112: FutureWarning: get_value is deprecated and will be removed in a future release. Please use .at[] or .iat[] accessors instead\n",
            "/usr/local/lib/python3.6/dist-packages/ipykernel_launcher.py:148: FutureWarning: get_value is deprecated and will be removed in a future release. Please use .at[] or .iat[] accessors instead\n"
          ],
          "name": "stderr"
        }
      ]
    },
    {
      "cell_type": "code",
      "metadata": {
        "id": "ws_7ThL4W_Av",
        "colab_type": "code",
        "colab": {
          "base_uri": "https://localhost:8080/",
          "height": 35
        },
        "outputId": "b3ff8a87-bed2-4026-fa04-1dbef68b3cb8"
      },
      "source": [
        "encod_train.shape"
      ],
      "execution_count": 33,
      "outputs": [
        {
          "output_type": "execute_result",
          "data": {
            "text/plain": [
              "(424431, 232)"
            ]
          },
          "metadata": {
            "tags": []
          },
          "execution_count": 33
        }
      ]
    },
    {
      "cell_type": "code",
      "metadata": {
        "id": "B1IS_-TUqVMD",
        "colab_type": "code",
        "colab": {}
      },
      "source": [
        "encod_train = encod_train.drop(['PolicyNo'], axis=1)"
      ],
      "execution_count": 0,
      "outputs": []
    },
    {
      "cell_type": "code",
      "metadata": {
        "id": "Xc2BOCXNqhGJ",
        "colab_type": "code",
        "colab": {
          "base_uri": "https://localhost:8080/",
          "height": 35
        },
        "outputId": "d28e73de-c9c7-4f0e-e45b-02e9b8b583fc"
      },
      "source": [
        "encod_train.shape"
      ],
      "execution_count": 37,
      "outputs": [
        {
          "output_type": "execute_result",
          "data": {
            "text/plain": [
              "(424431, 231)"
            ]
          },
          "metadata": {
            "tags": []
          },
          "execution_count": 37
        }
      ]
    },
    {
      "cell_type": "code",
      "metadata": {
        "id": "YPBb5laTlYTT",
        "colab_type": "code",
        "colab": {
          "base_uri": "https://localhost:8080/",
          "height": 1000
        },
        "outputId": "c580f03a-59d6-488c-a425-8a3da1610a35"
      },
      "source": [
        "list(encod_train.columns)"
      ],
      "execution_count": 36,
      "outputs": [
        {
          "output_type": "execute_result",
          "data": {
            "text/plain": [
              "['Vehicle_Make_Year',\n",
              " 'Vehicle_New_Cost_Amount',\n",
              " 'Vehicle_Number_Of_Drivers_Assigned',\n",
              " 'Vehicle_Miles_To_Work',\n",
              " 'Vehicle_Annual_Miles',\n",
              " 'Vehicle_Comprehensive_Coverage_Limit',\n",
              " 'Driver_Total',\n",
              " 'Driver_Total_Male',\n",
              " 'Driver_Total_Female',\n",
              " 'Driver_Total_Single',\n",
              " 'Driver_Total_Married',\n",
              " 'Driver_Total_Related_To_Insured_Self',\n",
              " 'Driver_Total_Related_To_Insured_Spouse',\n",
              " 'Driver_Total_Related_To_Insured_Child',\n",
              " 'Driver_Total_Licensed_In_State',\n",
              " 'Driver_Minimum_Age',\n",
              " 'Driver_Maximum_Age',\n",
              " 'Driver_Total_Teenager_Age_15_19',\n",
              " 'Driver_Total_College_Ages_20_23',\n",
              " 'Driver_Total_Young_Adult_Ages_24_29',\n",
              " 'Driver_Total_Low_Middle_Adult_Ages_30_39',\n",
              " 'Driver_Total_Middle_Adult_Ages_40_49',\n",
              " 'Driver_Total_Adult_Ages_50_64',\n",
              " 'Driver_Total_Senior_Ages_65_69',\n",
              " 'Driver_Total_Upper_Senior_Ages_70_plus',\n",
              " 'EEA_Policy_Tenure',\n",
              " 'Annual_Premium',\n",
              " 'Claim_Count',\n",
              " 'Loss_Amount',\n",
              " 'PolicyNo_<210',\n",
              " 'PolicyNo_210-300',\n",
              " 'PolicyNo_300-345',\n",
              " 'PolicyNo_>345',\n",
              " 'Policy_Company_Preferred',\n",
              " 'Policy_Company_Standard ',\n",
              " 'Policy_Installment_Term_6',\n",
              " 'Policy_Installment_Term_12',\n",
              " 'Policy_Billing_Code_Direct Billed to Insured',\n",
              " 'Policy_Billing_Code_Premium Finance',\n",
              " 'Policy_Method_Of_Payment_Installment',\n",
              " 'Policy_Method_Of_Payment_Pre-paid',\n",
              " 'Policy_Reinstatement_Fee_Indicator_N',\n",
              " 'Policy_Reinstatement_Fee_Indicator_Y',\n",
              " 'Vehicle_Territory_13',\n",
              " 'Vehicle_Territory_15',\n",
              " 'Vehicle_Territory_16',\n",
              " 'Vehicle_Territory_17',\n",
              " 'Vehicle_Territory_18',\n",
              " 'Vehicle_Territory_19',\n",
              " 'Vehicle_Territory_20',\n",
              " 'Vehicle_Territory_22',\n",
              " 'Vehicle_Territory_26',\n",
              " 'Vehicle_Territory_27',\n",
              " 'Vehicle_Territory_30',\n",
              " 'Vehicle_Territory_31',\n",
              " 'Vehicle_Territory_32',\n",
              " 'Vehicle_Territory_35',\n",
              " 'Vehicle_Territory_36',\n",
              " 'Vehicle_Territory_37',\n",
              " 'Vehicle_Performance_High',\n",
              " 'Vehicle_Performance_Intermediate',\n",
              " 'Vehicle_Performance_Sports',\n",
              " 'Vehicle_Performance_Sports Premium',\n",
              " 'Vehicle_Performance_Standard',\n",
              " 'Vehicle_Symbol_-1',\n",
              " 'Vehicle_Symbol_1',\n",
              " 'Vehicle_Symbol_2',\n",
              " 'Vehicle_Symbol_3',\n",
              " 'Vehicle_Symbol_4',\n",
              " 'Vehicle_Symbol_5',\n",
              " 'Vehicle_Symbol_6',\n",
              " 'Vehicle_Symbol_7',\n",
              " 'Vehicle_Symbol_8',\n",
              " 'Vehicle_Symbol_9',\n",
              " 'Vehicle_Symbol_10',\n",
              " 'Vehicle_Symbol_11',\n",
              " 'Vehicle_Symbol_12',\n",
              " 'Vehicle_Symbol_13',\n",
              " 'Vehicle_Symbol_14',\n",
              " 'Vehicle_Symbol_15',\n",
              " 'Vehicle_Symbol_16',\n",
              " 'Vehicle_Symbol_17',\n",
              " 'Vehicle_Symbol_18',\n",
              " 'Vehicle_Symbol_19',\n",
              " 'Vehicle_Symbol_20',\n",
              " 'Vehicle_Symbol_21',\n",
              " 'Vehicle_Symbol_22',\n",
              " 'Vehicle_Symbol_23',\n",
              " 'Vehicle_Symbol_24',\n",
              " 'Vehicle_Symbol_25',\n",
              " 'Vehicle_Symbol_26',\n",
              " 'Vehicle_Symbol_27',\n",
              " 'Vehicle_Usage_Business',\n",
              " 'Vehicle_Usage_Farm    ',\n",
              " 'Vehicle_Usage_Pleasure',\n",
              " 'Vehicle_Usage_Work    ',\n",
              " 'Vehicle_Days_Per_Week_Driven_-1',\n",
              " 'Vehicle_Days_Per_Week_Driven_0',\n",
              " 'Vehicle_Days_Per_Week_Driven_1',\n",
              " 'Vehicle_Days_Per_Week_Driven_2',\n",
              " 'Vehicle_Days_Per_Week_Driven_3',\n",
              " 'Vehicle_Days_Per_Week_Driven_4',\n",
              " 'Vehicle_Days_Per_Week_Driven_5',\n",
              " 'Vehicle_Days_Per_Week_Driven_6',\n",
              " 'Vehicle_Days_Per_Week_Driven_7',\n",
              " 'Vehicle_Days_Per_Week_Driven_8',\n",
              " 'Vehicle_Days_Per_Week_Driven_9',\n",
              " 'Vehicle_Anti_Theft_Device_Active Disabling',\n",
              " 'Vehicle_Anti_Theft_Device_Alarm Only',\n",
              " 'Vehicle_Anti_Theft_Device_Not Applicable',\n",
              " 'Vehicle_Anti_Theft_Device_Passive Disabling-Vehicle Recovery',\n",
              " 'Vehicle_Passive_Restraint_N',\n",
              " 'Vehicle_Passive_Restraint_Y',\n",
              " 'Vehicle_Age_In_Years_1',\n",
              " 'Vehicle_Age_In_Years_2',\n",
              " 'Vehicle_Age_In_Years_3',\n",
              " 'Vehicle_Age_In_Years_4',\n",
              " 'Vehicle_Age_In_Years_5',\n",
              " 'Vehicle_Age_In_Years_6',\n",
              " 'Vehicle_Age_In_Years_7',\n",
              " 'Vehicle_Age_In_Years_8',\n",
              " 'Vehicle_Age_In_Years_9',\n",
              " 'Vehicle_Med_Pay_Limit_-1',\n",
              " 'Vehicle_Med_Pay_Limit_1000',\n",
              " 'Vehicle_Med_Pay_Limit_2000',\n",
              " 'Vehicle_Med_Pay_Limit_5000',\n",
              " 'Vehicle_Med_Pay_Limit_10000',\n",
              " 'Vehicle_Med_Pay_Limit_25000',\n",
              " 'Vehicle_Med_Pay_Limit_50000',\n",
              " 'Vehicle_Bodily_Injury_Limit_100-300',\n",
              " 'Vehicle_Bodily_Injury_Limit_100-500',\n",
              " 'Vehicle_Bodily_Injury_Limit_1M-1M  ',\n",
              " 'Vehicle_Bodily_Injury_Limit_25-50  ',\n",
              " 'Vehicle_Bodily_Injury_Limit_250-500',\n",
              " 'Vehicle_Bodily_Injury_Limit_300-500',\n",
              " 'Vehicle_Bodily_Injury_Limit_50-100 ',\n",
              " 'Vehicle_Bodily_Injury_Limit_500-500',\n",
              " 'Vehicle_Physical_Damage_Limit_-1',\n",
              " 'Vehicle_Physical_Damage_Limit_25000',\n",
              " 'Vehicle_Physical_Damage_Limit_35000',\n",
              " 'Vehicle_Physical_Damage_Limit_50000',\n",
              " 'Vehicle_Physical_Damage_Limit_100000',\n",
              " 'Vehicle_Physical_Damage_Limit_250000',\n",
              " 'Vehicle_Physical_Damage_Limit_500000',\n",
              " 'Vehicle_Physical_Damage_Limit_1000000',\n",
              " 'Vehicle_Comprehensive_Coverage_Indicator_N',\n",
              " 'Vehicle_Comprehensive_Coverage_Indicator_Y',\n",
              " 'Vehicle_Collision_Coverage_Indicator_N',\n",
              " 'Vehicle_Collision_Coverage_Indicator_Y',\n",
              " 'Vehicle_Collision_Coverage_Deductible_-1',\n",
              " 'Vehicle_Collision_Coverage_Deductible_50',\n",
              " 'Vehicle_Collision_Coverage_Deductible_100',\n",
              " 'Vehicle_Collision_Coverage_Deductible_200',\n",
              " 'Vehicle_Collision_Coverage_Deductible_250',\n",
              " 'Vehicle_Collision_Coverage_Deductible_500',\n",
              " 'Vehicle_Collision_Coverage_Deductible_1000',\n",
              " 'Vehicle_Collision_Coverage_Deductible_2000',\n",
              " 'Vehicle_Collision_Coverage_Deductible_3000',\n",
              " 'Vehicle_Youthful_Driver_Indicator_N',\n",
              " 'Vehicle_Youthful_Driver_Indicator_Y',\n",
              " 'Vehicle_Youthful_Driver_Training_Code_Not Applicable                 ',\n",
              " 'Vehicle_Youthful_Driver_Training_Code_With Driver Training           ',\n",
              " 'Vehicle_Youthful_Driver_Training_Code_With or Without Driver Training',\n",
              " 'Vehicle_Youthful_Driver_Training_Code_Without Driver Training        ',\n",
              " 'Vehicle_Youthful_Good_Student_Code_Eligible for Good Student Credit    ',\n",
              " 'Vehicle_Youthful_Good_Student_Code_Not Eligible for Good Student Credit',\n",
              " 'Vehicle_Driver_Points_0',\n",
              " 'Vehicle_Driver_Points_1',\n",
              " 'Vehicle_Driver_Points_2',\n",
              " 'Vehicle_Driver_Points_3',\n",
              " 'Vehicle_Driver_Points_4',\n",
              " 'Vehicle_Driver_Points_5',\n",
              " 'Vehicle_Driver_Points_6',\n",
              " 'Vehicle_Driver_Points_7',\n",
              " 'Vehicle_Safe_Driver_Discount_Indicator_N',\n",
              " 'Vehicle_Safe_Driver_Discount_Indicator_Y',\n",
              " 'EEA_Liability_Coverage_Only_Indicator_N',\n",
              " 'EEA_Liability_Coverage_Only_Indicator_Y',\n",
              " 'EEA_Multi_Auto_Policies_Indicator_N',\n",
              " 'EEA_Multi_Auto_Policies_Indicator_Y',\n",
              " 'EEA_Agency_Type_Hybrid',\n",
              " 'EEA_Agency_Type_Non-standard',\n",
              " 'EEA_Agency_Type_Preferred',\n",
              " 'EEA_Agency_Type_Standard',\n",
              " 'EEA_Packaged_Policy_Indicator_N',\n",
              " 'EEA_Packaged_Policy_Indicator_Y',\n",
              " 'EEA_Full_Coverage_Indicator_N',\n",
              " 'EEA_Full_Coverage_Indicator_Y',\n",
              " 'EEA_Prior_Bodily_Injury_Limit_100-200',\n",
              " 'EEA_Prior_Bodily_Injury_Limit_100-400',\n",
              " 'EEA_Prior_Bodily_Injury_Limit_20-50',\n",
              " 'EEA_Prior_Bodily_Injury_Limit_200-400',\n",
              " 'EEA_Prior_Bodily_Injury_Limit_300-300',\n",
              " 'EEA_Prior_Bodily_Injury_Limit_40-100 ',\n",
              " 'EEA_Prior_Bodily_Injury_Limit_75-300',\n",
              " 'EEA_Prior_Bodily_Injury_Limit_750-750',\n",
              " 'SYS_Renewed_N',\n",
              " 'SYS_Renewed_Y',\n",
              " 'SYS_New_Business_N',\n",
              " 'SYS_New_Business_Y',\n",
              " 'Vehicle_Bodily_Injury_Limit_100-500_new',\n",
              " 'Vehicle_Bodily_Injury_Limit_25-100_new',\n",
              " 'Vehicle_Make_Age',\n",
              " 'Vehicle_Make_Age_0-5',\n",
              " 'Vehicle_Make_Age_5-10',\n",
              " 'Vehicle_Make_Age_10-20',\n",
              " 'Vehicle_Make_Age_20-50',\n",
              " 'Vehicle_Make_Age_>50',\n",
              " 'Vehicle_Number_Of_Drivers_Assigned_1',\n",
              " 'Vehicle_Number_Of_Drivers_Assigned_2-8',\n",
              " 'Vehicle_Number_Of_Drivers_Assigned_99',\n",
              " 'EEA_Policy_Tenure_0-10',\n",
              " 'EEA_Policy_Tenure_10-20',\n",
              " 'EEA_Policy_Tenure_20-30',\n",
              " 'EEA_Policy_Tenure_30-40',\n",
              " 'EEA_Policy_Tenure_40-50',\n",
              " 'EEA_Policy_Tenure_50-60',\n",
              " 'Annual_Premium_0-1000',\n",
              " 'Annual_Premium_1000-2000',\n",
              " 'Annual_Premium_2000-3000',\n",
              " 'Annual_Premium_3000-4000',\n",
              " 'Vehicle_Miles_To_Work_0-10',\n",
              " 'Vehicle_Miles_To_Work_10-20',\n",
              " 'Vehicle_Miles_To_Work_20-30',\n",
              " 'Vehicle_Miles_To_Work_30-40',\n",
              " 'Vehicle_Miles_To_Work_40-50',\n",
              " 'Vehicle_Miles_To_Work_50-60',\n",
              " 'Vehicle_Miles_To_Work_60-70',\n",
              " 'Vehicle_Miles_To_Work_70-80',\n",
              " 'Vehicle_Miles_To_Work_80-90',\n",
              " 'Vehicle_Miles_To_Work_90-100']"
            ]
          },
          "metadata": {
            "tags": []
          },
          "execution_count": 36
        }
      ]
    },
    {
      "cell_type": "markdown",
      "metadata": {
        "id": "xTUD_V3ZVdYP",
        "colab_type": "text"
      },
      "source": [
        "Drop 'Vehicle_Make_Year' as not needed anymore."
      ]
    },
    {
      "cell_type": "code",
      "metadata": {
        "id": "YvF6W-VIVeXp",
        "colab_type": "code",
        "colab": {}
      },
      "source": [
        "encod_train = encod_train.drop(['Vehicle_Make_Year'], axis=1)"
      ],
      "execution_count": 0,
      "outputs": []
    },
    {
      "cell_type": "code",
      "metadata": {
        "id": "fsFwTm1MXBqy",
        "colab_type": "code",
        "colab": {
          "base_uri": "https://localhost:8080/",
          "height": 35
        },
        "outputId": "aa3381d0-717f-4c61-efa8-41121e15b28d"
      },
      "source": [
        "encod_train.shape"
      ],
      "execution_count": 39,
      "outputs": [
        {
          "output_type": "execute_result",
          "data": {
            "text/plain": [
              "(424431, 230)"
            ]
          },
          "metadata": {
            "tags": []
          },
          "execution_count": 39
        }
      ]
    },
    {
      "cell_type": "code",
      "metadata": {
        "id": "FuomCjL4gDdU",
        "colab_type": "code",
        "colab": {
          "base_uri": "https://localhost:8080/",
          "height": 1000
        },
        "outputId": "686e3133-01d7-49bb-dcce-d7ad9c368bec"
      },
      "source": [
        "list(encod_train.columns)"
      ],
      "execution_count": 40,
      "outputs": [
        {
          "output_type": "execute_result",
          "data": {
            "text/plain": [
              "['Vehicle_New_Cost_Amount',\n",
              " 'Vehicle_Number_Of_Drivers_Assigned',\n",
              " 'Vehicle_Miles_To_Work',\n",
              " 'Vehicle_Annual_Miles',\n",
              " 'Vehicle_Comprehensive_Coverage_Limit',\n",
              " 'Driver_Total',\n",
              " 'Driver_Total_Male',\n",
              " 'Driver_Total_Female',\n",
              " 'Driver_Total_Single',\n",
              " 'Driver_Total_Married',\n",
              " 'Driver_Total_Related_To_Insured_Self',\n",
              " 'Driver_Total_Related_To_Insured_Spouse',\n",
              " 'Driver_Total_Related_To_Insured_Child',\n",
              " 'Driver_Total_Licensed_In_State',\n",
              " 'Driver_Minimum_Age',\n",
              " 'Driver_Maximum_Age',\n",
              " 'Driver_Total_Teenager_Age_15_19',\n",
              " 'Driver_Total_College_Ages_20_23',\n",
              " 'Driver_Total_Young_Adult_Ages_24_29',\n",
              " 'Driver_Total_Low_Middle_Adult_Ages_30_39',\n",
              " 'Driver_Total_Middle_Adult_Ages_40_49',\n",
              " 'Driver_Total_Adult_Ages_50_64',\n",
              " 'Driver_Total_Senior_Ages_65_69',\n",
              " 'Driver_Total_Upper_Senior_Ages_70_plus',\n",
              " 'EEA_Policy_Tenure',\n",
              " 'Annual_Premium',\n",
              " 'Claim_Count',\n",
              " 'Loss_Amount',\n",
              " 'PolicyNo_<210',\n",
              " 'PolicyNo_210-300',\n",
              " 'PolicyNo_300-345',\n",
              " 'PolicyNo_>345',\n",
              " 'Policy_Company_Preferred',\n",
              " 'Policy_Company_Standard ',\n",
              " 'Policy_Installment_Term_6',\n",
              " 'Policy_Installment_Term_12',\n",
              " 'Policy_Billing_Code_Direct Billed to Insured',\n",
              " 'Policy_Billing_Code_Premium Finance',\n",
              " 'Policy_Method_Of_Payment_Installment',\n",
              " 'Policy_Method_Of_Payment_Pre-paid',\n",
              " 'Policy_Reinstatement_Fee_Indicator_N',\n",
              " 'Policy_Reinstatement_Fee_Indicator_Y',\n",
              " 'Vehicle_Territory_13',\n",
              " 'Vehicle_Territory_15',\n",
              " 'Vehicle_Territory_16',\n",
              " 'Vehicle_Territory_17',\n",
              " 'Vehicle_Territory_18',\n",
              " 'Vehicle_Territory_19',\n",
              " 'Vehicle_Territory_20',\n",
              " 'Vehicle_Territory_22',\n",
              " 'Vehicle_Territory_26',\n",
              " 'Vehicle_Territory_27',\n",
              " 'Vehicle_Territory_30',\n",
              " 'Vehicle_Territory_31',\n",
              " 'Vehicle_Territory_32',\n",
              " 'Vehicle_Territory_35',\n",
              " 'Vehicle_Territory_36',\n",
              " 'Vehicle_Territory_37',\n",
              " 'Vehicle_Performance_High',\n",
              " 'Vehicle_Performance_Intermediate',\n",
              " 'Vehicle_Performance_Sports',\n",
              " 'Vehicle_Performance_Sports Premium',\n",
              " 'Vehicle_Performance_Standard',\n",
              " 'Vehicle_Symbol_-1',\n",
              " 'Vehicle_Symbol_1',\n",
              " 'Vehicle_Symbol_2',\n",
              " 'Vehicle_Symbol_3',\n",
              " 'Vehicle_Symbol_4',\n",
              " 'Vehicle_Symbol_5',\n",
              " 'Vehicle_Symbol_6',\n",
              " 'Vehicle_Symbol_7',\n",
              " 'Vehicle_Symbol_8',\n",
              " 'Vehicle_Symbol_9',\n",
              " 'Vehicle_Symbol_10',\n",
              " 'Vehicle_Symbol_11',\n",
              " 'Vehicle_Symbol_12',\n",
              " 'Vehicle_Symbol_13',\n",
              " 'Vehicle_Symbol_14',\n",
              " 'Vehicle_Symbol_15',\n",
              " 'Vehicle_Symbol_16',\n",
              " 'Vehicle_Symbol_17',\n",
              " 'Vehicle_Symbol_18',\n",
              " 'Vehicle_Symbol_19',\n",
              " 'Vehicle_Symbol_20',\n",
              " 'Vehicle_Symbol_21',\n",
              " 'Vehicle_Symbol_22',\n",
              " 'Vehicle_Symbol_23',\n",
              " 'Vehicle_Symbol_24',\n",
              " 'Vehicle_Symbol_25',\n",
              " 'Vehicle_Symbol_26',\n",
              " 'Vehicle_Symbol_27',\n",
              " 'Vehicle_Usage_Business',\n",
              " 'Vehicle_Usage_Farm    ',\n",
              " 'Vehicle_Usage_Pleasure',\n",
              " 'Vehicle_Usage_Work    ',\n",
              " 'Vehicle_Days_Per_Week_Driven_-1',\n",
              " 'Vehicle_Days_Per_Week_Driven_0',\n",
              " 'Vehicle_Days_Per_Week_Driven_1',\n",
              " 'Vehicle_Days_Per_Week_Driven_2',\n",
              " 'Vehicle_Days_Per_Week_Driven_3',\n",
              " 'Vehicle_Days_Per_Week_Driven_4',\n",
              " 'Vehicle_Days_Per_Week_Driven_5',\n",
              " 'Vehicle_Days_Per_Week_Driven_6',\n",
              " 'Vehicle_Days_Per_Week_Driven_7',\n",
              " 'Vehicle_Days_Per_Week_Driven_8',\n",
              " 'Vehicle_Days_Per_Week_Driven_9',\n",
              " 'Vehicle_Anti_Theft_Device_Active Disabling',\n",
              " 'Vehicle_Anti_Theft_Device_Alarm Only',\n",
              " 'Vehicle_Anti_Theft_Device_Not Applicable',\n",
              " 'Vehicle_Anti_Theft_Device_Passive Disabling-Vehicle Recovery',\n",
              " 'Vehicle_Passive_Restraint_N',\n",
              " 'Vehicle_Passive_Restraint_Y',\n",
              " 'Vehicle_Age_In_Years_1',\n",
              " 'Vehicle_Age_In_Years_2',\n",
              " 'Vehicle_Age_In_Years_3',\n",
              " 'Vehicle_Age_In_Years_4',\n",
              " 'Vehicle_Age_In_Years_5',\n",
              " 'Vehicle_Age_In_Years_6',\n",
              " 'Vehicle_Age_In_Years_7',\n",
              " 'Vehicle_Age_In_Years_8',\n",
              " 'Vehicle_Age_In_Years_9',\n",
              " 'Vehicle_Med_Pay_Limit_-1',\n",
              " 'Vehicle_Med_Pay_Limit_1000',\n",
              " 'Vehicle_Med_Pay_Limit_2000',\n",
              " 'Vehicle_Med_Pay_Limit_5000',\n",
              " 'Vehicle_Med_Pay_Limit_10000',\n",
              " 'Vehicle_Med_Pay_Limit_25000',\n",
              " 'Vehicle_Med_Pay_Limit_50000',\n",
              " 'Vehicle_Bodily_Injury_Limit_100-300',\n",
              " 'Vehicle_Bodily_Injury_Limit_100-500',\n",
              " 'Vehicle_Bodily_Injury_Limit_1M-1M  ',\n",
              " 'Vehicle_Bodily_Injury_Limit_25-50  ',\n",
              " 'Vehicle_Bodily_Injury_Limit_250-500',\n",
              " 'Vehicle_Bodily_Injury_Limit_300-500',\n",
              " 'Vehicle_Bodily_Injury_Limit_50-100 ',\n",
              " 'Vehicle_Bodily_Injury_Limit_500-500',\n",
              " 'Vehicle_Physical_Damage_Limit_-1',\n",
              " 'Vehicle_Physical_Damage_Limit_25000',\n",
              " 'Vehicle_Physical_Damage_Limit_35000',\n",
              " 'Vehicle_Physical_Damage_Limit_50000',\n",
              " 'Vehicle_Physical_Damage_Limit_100000',\n",
              " 'Vehicle_Physical_Damage_Limit_250000',\n",
              " 'Vehicle_Physical_Damage_Limit_500000',\n",
              " 'Vehicle_Physical_Damage_Limit_1000000',\n",
              " 'Vehicle_Comprehensive_Coverage_Indicator_N',\n",
              " 'Vehicle_Comprehensive_Coverage_Indicator_Y',\n",
              " 'Vehicle_Collision_Coverage_Indicator_N',\n",
              " 'Vehicle_Collision_Coverage_Indicator_Y',\n",
              " 'Vehicle_Collision_Coverage_Deductible_-1',\n",
              " 'Vehicle_Collision_Coverage_Deductible_50',\n",
              " 'Vehicle_Collision_Coverage_Deductible_100',\n",
              " 'Vehicle_Collision_Coverage_Deductible_200',\n",
              " 'Vehicle_Collision_Coverage_Deductible_250',\n",
              " 'Vehicle_Collision_Coverage_Deductible_500',\n",
              " 'Vehicle_Collision_Coverage_Deductible_1000',\n",
              " 'Vehicle_Collision_Coverage_Deductible_2000',\n",
              " 'Vehicle_Collision_Coverage_Deductible_3000',\n",
              " 'Vehicle_Youthful_Driver_Indicator_N',\n",
              " 'Vehicle_Youthful_Driver_Indicator_Y',\n",
              " 'Vehicle_Youthful_Driver_Training_Code_Not Applicable                 ',\n",
              " 'Vehicle_Youthful_Driver_Training_Code_With Driver Training           ',\n",
              " 'Vehicle_Youthful_Driver_Training_Code_With or Without Driver Training',\n",
              " 'Vehicle_Youthful_Driver_Training_Code_Without Driver Training        ',\n",
              " 'Vehicle_Youthful_Good_Student_Code_Eligible for Good Student Credit    ',\n",
              " 'Vehicle_Youthful_Good_Student_Code_Not Eligible for Good Student Credit',\n",
              " 'Vehicle_Driver_Points_0',\n",
              " 'Vehicle_Driver_Points_1',\n",
              " 'Vehicle_Driver_Points_2',\n",
              " 'Vehicle_Driver_Points_3',\n",
              " 'Vehicle_Driver_Points_4',\n",
              " 'Vehicle_Driver_Points_5',\n",
              " 'Vehicle_Driver_Points_6',\n",
              " 'Vehicle_Driver_Points_7',\n",
              " 'Vehicle_Safe_Driver_Discount_Indicator_N',\n",
              " 'Vehicle_Safe_Driver_Discount_Indicator_Y',\n",
              " 'EEA_Liability_Coverage_Only_Indicator_N',\n",
              " 'EEA_Liability_Coverage_Only_Indicator_Y',\n",
              " 'EEA_Multi_Auto_Policies_Indicator_N',\n",
              " 'EEA_Multi_Auto_Policies_Indicator_Y',\n",
              " 'EEA_Agency_Type_Hybrid',\n",
              " 'EEA_Agency_Type_Non-standard',\n",
              " 'EEA_Agency_Type_Preferred',\n",
              " 'EEA_Agency_Type_Standard',\n",
              " 'EEA_Packaged_Policy_Indicator_N',\n",
              " 'EEA_Packaged_Policy_Indicator_Y',\n",
              " 'EEA_Full_Coverage_Indicator_N',\n",
              " 'EEA_Full_Coverage_Indicator_Y',\n",
              " 'EEA_Prior_Bodily_Injury_Limit_100-200',\n",
              " 'EEA_Prior_Bodily_Injury_Limit_100-400',\n",
              " 'EEA_Prior_Bodily_Injury_Limit_20-50',\n",
              " 'EEA_Prior_Bodily_Injury_Limit_200-400',\n",
              " 'EEA_Prior_Bodily_Injury_Limit_300-300',\n",
              " 'EEA_Prior_Bodily_Injury_Limit_40-100 ',\n",
              " 'EEA_Prior_Bodily_Injury_Limit_75-300',\n",
              " 'EEA_Prior_Bodily_Injury_Limit_750-750',\n",
              " 'SYS_Renewed_N',\n",
              " 'SYS_Renewed_Y',\n",
              " 'SYS_New_Business_N',\n",
              " 'SYS_New_Business_Y',\n",
              " 'Vehicle_Bodily_Injury_Limit_100-500_new',\n",
              " 'Vehicle_Bodily_Injury_Limit_25-100_new',\n",
              " 'Vehicle_Make_Age',\n",
              " 'Vehicle_Make_Age_0-5',\n",
              " 'Vehicle_Make_Age_5-10',\n",
              " 'Vehicle_Make_Age_10-20',\n",
              " 'Vehicle_Make_Age_20-50',\n",
              " 'Vehicle_Make_Age_>50',\n",
              " 'Vehicle_Number_Of_Drivers_Assigned_1',\n",
              " 'Vehicle_Number_Of_Drivers_Assigned_2-8',\n",
              " 'Vehicle_Number_Of_Drivers_Assigned_99',\n",
              " 'EEA_Policy_Tenure_0-10',\n",
              " 'EEA_Policy_Tenure_10-20',\n",
              " 'EEA_Policy_Tenure_20-30',\n",
              " 'EEA_Policy_Tenure_30-40',\n",
              " 'EEA_Policy_Tenure_40-50',\n",
              " 'EEA_Policy_Tenure_50-60',\n",
              " 'Annual_Premium_0-1000',\n",
              " 'Annual_Premium_1000-2000',\n",
              " 'Annual_Premium_2000-3000',\n",
              " 'Annual_Premium_3000-4000',\n",
              " 'Vehicle_Miles_To_Work_0-10',\n",
              " 'Vehicle_Miles_To_Work_10-20',\n",
              " 'Vehicle_Miles_To_Work_20-30',\n",
              " 'Vehicle_Miles_To_Work_30-40',\n",
              " 'Vehicle_Miles_To_Work_40-50',\n",
              " 'Vehicle_Miles_To_Work_50-60',\n",
              " 'Vehicle_Miles_To_Work_60-70',\n",
              " 'Vehicle_Miles_To_Work_70-80',\n",
              " 'Vehicle_Miles_To_Work_80-90',\n",
              " 'Vehicle_Miles_To_Work_90-100']"
            ]
          },
          "metadata": {
            "tags": []
          },
          "execution_count": 40
        }
      ]
    },
    {
      "cell_type": "markdown",
      "metadata": {
        "id": "TKcZykpnVjCA",
        "colab_type": "text"
      },
      "source": [
        "Reorder encod_train df after adding all the new variables."
      ]
    },
    {
      "cell_type": "code",
      "metadata": {
        "id": "yi6-ovEeVlzT",
        "colab_type": "code",
        "colab": {}
      },
      "source": [
        "encod_train_temp=encod_train[['PolicyNo_<210',\n",
        " 'PolicyNo_210-300',\n",
        " 'PolicyNo_300-345',\n",
        " 'PolicyNo_>345',\n",
        " 'Policy_Company_Preferred',\n",
        " 'Policy_Company_Standard ',\n",
        " 'Policy_Installment_Term_6',\n",
        " 'Policy_Installment_Term_12',\n",
        " 'Policy_Billing_Code_Direct Billed to Insured',\n",
        " 'Policy_Billing_Code_Premium Finance',\n",
        " 'Policy_Method_Of_Payment_Installment',\n",
        " 'Policy_Method_Of_Payment_Pre-paid',\n",
        " 'Policy_Reinstatement_Fee_Indicator_N',\n",
        " 'Policy_Reinstatement_Fee_Indicator_Y',\n",
        " 'Vehicle_Territory_13',\n",
        " 'Vehicle_Territory_15',\n",
        " 'Vehicle_Territory_16',\n",
        " 'Vehicle_Territory_17',\n",
        " 'Vehicle_Territory_18',\n",
        " 'Vehicle_Territory_19',\n",
        " 'Vehicle_Territory_20',\n",
        " 'Vehicle_Territory_22',\n",
        " 'Vehicle_Territory_26',\n",
        " 'Vehicle_Territory_27',\n",
        " 'Vehicle_Territory_30',\n",
        " 'Vehicle_Territory_31',\n",
        " 'Vehicle_Territory_32',\n",
        " 'Vehicle_Territory_35',\n",
        " 'Vehicle_Territory_36',\n",
        " 'Vehicle_Territory_37',\n",
        " 'Vehicle_Make_Age',\n",
        " 'Vehicle_Make_Age_0-5',\n",
        " 'Vehicle_Make_Age_5-10',\n",
        " 'Vehicle_Make_Age_10-20',\n",
        " 'Vehicle_Make_Age_20-50',\n",
        " 'Vehicle_Make_Age_>50',\n",
        " 'Vehicle_Performance_High',\n",
        " 'Vehicle_Performance_Intermediate',\n",
        " 'Vehicle_Performance_Sports',\n",
        " 'Vehicle_Performance_Sports Premium',\n",
        " 'Vehicle_Performance_Standard',\n",
        " 'Vehicle_New_Cost_Amount',\n",
        " 'Vehicle_Symbol_-1',\n",
        " 'Vehicle_Symbol_1',\n",
        " 'Vehicle_Symbol_2',\n",
        " 'Vehicle_Symbol_3',\n",
        " 'Vehicle_Symbol_4',\n",
        " 'Vehicle_Symbol_5',\n",
        " 'Vehicle_Symbol_6',\n",
        " 'Vehicle_Symbol_7',\n",
        " 'Vehicle_Symbol_8',\n",
        " 'Vehicle_Symbol_9',\n",
        " 'Vehicle_Symbol_10',\n",
        " 'Vehicle_Symbol_11',\n",
        " 'Vehicle_Symbol_12',\n",
        " 'Vehicle_Symbol_13',\n",
        " 'Vehicle_Symbol_14',\n",
        " 'Vehicle_Symbol_15',\n",
        " 'Vehicle_Symbol_16',\n",
        " 'Vehicle_Symbol_17',\n",
        " 'Vehicle_Symbol_18',\n",
        " 'Vehicle_Symbol_19',\n",
        " 'Vehicle_Symbol_20',\n",
        " 'Vehicle_Symbol_21',\n",
        " 'Vehicle_Symbol_22',\n",
        " 'Vehicle_Symbol_23',\n",
        " 'Vehicle_Symbol_24',\n",
        " 'Vehicle_Symbol_25',\n",
        " 'Vehicle_Symbol_26',\n",
        " 'Vehicle_Symbol_27',\n",
        " 'Vehicle_Number_Of_Drivers_Assigned',\n",
        " 'Vehicle_Number_Of_Drivers_Assigned_1',\n",
        " 'Vehicle_Number_Of_Drivers_Assigned_2-8',\n",
        " 'Vehicle_Number_Of_Drivers_Assigned_99',\n",
        " 'Vehicle_Usage_Business',\n",
        " 'Vehicle_Usage_Farm    ',\n",
        " 'Vehicle_Usage_Pleasure',\n",
        " 'Vehicle_Usage_Work    ',\n",
        " 'Vehicle_Miles_To_Work',\n",
        " 'Vehicle_Miles_To_Work_0-10',\n",
        " 'Vehicle_Miles_To_Work_10-20',\n",
        " 'Vehicle_Miles_To_Work_20-30',\n",
        " 'Vehicle_Miles_To_Work_30-40',\n",
        " 'Vehicle_Miles_To_Work_40-50',\n",
        " 'Vehicle_Miles_To_Work_50-60',\n",
        " 'Vehicle_Miles_To_Work_60-70',\n",
        " 'Vehicle_Miles_To_Work_70-80',\n",
        " 'Vehicle_Miles_To_Work_80-90',\n",
        " 'Vehicle_Miles_To_Work_90-100',\n",
        " 'Vehicle_Days_Per_Week_Driven_-1',\n",
        " 'Vehicle_Days_Per_Week_Driven_0',\n",
        " 'Vehicle_Days_Per_Week_Driven_1',\n",
        " 'Vehicle_Days_Per_Week_Driven_2',\n",
        " 'Vehicle_Days_Per_Week_Driven_3',\n",
        " 'Vehicle_Days_Per_Week_Driven_4',\n",
        " 'Vehicle_Days_Per_Week_Driven_5',\n",
        " 'Vehicle_Days_Per_Week_Driven_6',\n",
        " 'Vehicle_Days_Per_Week_Driven_7',\n",
        " 'Vehicle_Days_Per_Week_Driven_8',\n",
        " 'Vehicle_Days_Per_Week_Driven_9',\n",
        " 'Vehicle_Annual_Miles',\n",
        " 'Vehicle_Anti_Theft_Device_Active Disabling',\n",
        " 'Vehicle_Anti_Theft_Device_Alarm Only',\n",
        " 'Vehicle_Anti_Theft_Device_Not Applicable',\n",
        " 'Vehicle_Anti_Theft_Device_Passive Disabling-Vehicle Recovery',\n",
        " 'Vehicle_Passive_Restraint_N',\n",
        " 'Vehicle_Passive_Restraint_Y',\n",
        " 'Vehicle_Age_In_Years_1',\n",
        " 'Vehicle_Age_In_Years_2',\n",
        " 'Vehicle_Age_In_Years_3',\n",
        " 'Vehicle_Age_In_Years_4',\n",
        " 'Vehicle_Age_In_Years_5',\n",
        " 'Vehicle_Age_In_Years_6',\n",
        " 'Vehicle_Age_In_Years_7',\n",
        " 'Vehicle_Age_In_Years_8',\n",
        " 'Vehicle_Age_In_Years_9',\n",
        " 'Vehicle_Med_Pay_Limit_-1',\n",
        " 'Vehicle_Med_Pay_Limit_1000',\n",
        " 'Vehicle_Med_Pay_Limit_2000',\n",
        " 'Vehicle_Med_Pay_Limit_5000',\n",
        " 'Vehicle_Med_Pay_Limit_10000',\n",
        " 'Vehicle_Med_Pay_Limit_25000',\n",
        " 'Vehicle_Med_Pay_Limit_50000',\n",
        " 'Vehicle_Bodily_Injury_Limit_25-100_new',\n",
        " 'Vehicle_Bodily_Injury_Limit_25-50  ',\n",
        " 'Vehicle_Bodily_Injury_Limit_50-100 ',\n",
        " 'Vehicle_Bodily_Injury_Limit_100-500',\n",
        " 'Vehicle_Bodily_Injury_Limit_100-500_new',\n",
        " 'Vehicle_Bodily_Injury_Limit_100-300',\n",
        " 'Vehicle_Bodily_Injury_Limit_250-500',\n",
        " 'Vehicle_Bodily_Injury_Limit_300-500',\n",
        " 'Vehicle_Bodily_Injury_Limit_500-500',\n",
        " 'Vehicle_Bodily_Injury_Limit_1M-1M  ',\n",
        " 'Vehicle_Physical_Damage_Limit_-1',\n",
        " 'Vehicle_Physical_Damage_Limit_25000',\n",
        " 'Vehicle_Physical_Damage_Limit_35000',\n",
        " 'Vehicle_Physical_Damage_Limit_50000',\n",
        " 'Vehicle_Physical_Damage_Limit_100000',\n",
        " 'Vehicle_Physical_Damage_Limit_250000',\n",
        " 'Vehicle_Physical_Damage_Limit_500000',\n",
        " 'Vehicle_Physical_Damage_Limit_1000000',\n",
        " 'Vehicle_Comprehensive_Coverage_Indicator_N',\n",
        " 'Vehicle_Comprehensive_Coverage_Indicator_Y',\n",
        " 'Vehicle_Comprehensive_Coverage_Limit',\n",
        " 'Vehicle_Collision_Coverage_Indicator_N',\n",
        " 'Vehicle_Collision_Coverage_Indicator_Y',\n",
        " 'Vehicle_Collision_Coverage_Deductible_-1',\n",
        " 'Vehicle_Collision_Coverage_Deductible_50',\n",
        " 'Vehicle_Collision_Coverage_Deductible_100',\n",
        " 'Vehicle_Collision_Coverage_Deductible_200',\n",
        " 'Vehicle_Collision_Coverage_Deductible_250',\n",
        " 'Vehicle_Collision_Coverage_Deductible_500',\n",
        " 'Vehicle_Collision_Coverage_Deductible_1000',\n",
        " 'Vehicle_Collision_Coverage_Deductible_2000',\n",
        " 'Vehicle_Collision_Coverage_Deductible_3000',\n",
        " 'Driver_Total',\n",
        " 'Driver_Total_Male',\n",
        " 'Driver_Total_Female',\n",
        " 'Driver_Total_Single',\n",
        " 'Driver_Total_Married',\n",
        " 'Driver_Total_Related_To_Insured_Self',\n",
        " 'Driver_Total_Related_To_Insured_Spouse',\n",
        " 'Driver_Total_Related_To_Insured_Child',\n",
        " 'Driver_Total_Licensed_In_State',\n",
        " 'Driver_Minimum_Age',\n",
        " 'Driver_Maximum_Age',\n",
        " 'Driver_Total_Teenager_Age_15_19',\n",
        " 'Driver_Total_College_Ages_20_23',\n",
        " 'Driver_Total_Young_Adult_Ages_24_29',\n",
        " 'Driver_Total_Low_Middle_Adult_Ages_30_39',\n",
        " 'Driver_Total_Middle_Adult_Ages_40_49',\n",
        " 'Driver_Total_Adult_Ages_50_64',\n",
        " 'Driver_Total_Senior_Ages_65_69',\n",
        " 'Driver_Total_Upper_Senior_Ages_70_plus',\n",
        " 'Vehicle_Youthful_Driver_Indicator_N',\n",
        " 'Vehicle_Youthful_Driver_Indicator_Y',\n",
        " 'Vehicle_Youthful_Driver_Training_Code_Not Applicable                 ',\n",
        " 'Vehicle_Youthful_Driver_Training_Code_With Driver Training           ',\n",
        " 'Vehicle_Youthful_Driver_Training_Code_With or Without Driver Training',\n",
        " 'Vehicle_Youthful_Driver_Training_Code_Without Driver Training        ',\n",
        " 'Vehicle_Youthful_Good_Student_Code_Eligible for Good Student Credit    ',\n",
        " 'Vehicle_Youthful_Good_Student_Code_Not Eligible for Good Student Credit',\n",
        " 'Vehicle_Driver_Points_0',\n",
        " 'Vehicle_Driver_Points_1',\n",
        " 'Vehicle_Driver_Points_2',\n",
        " 'Vehicle_Driver_Points_3',\n",
        " 'Vehicle_Driver_Points_4',\n",
        " 'Vehicle_Driver_Points_5',\n",
        " 'Vehicle_Driver_Points_6',\n",
        " 'Vehicle_Driver_Points_7',\n",
        " 'Vehicle_Safe_Driver_Discount_Indicator_N',\n",
        " 'Vehicle_Safe_Driver_Discount_Indicator_Y',\n",
        " 'EEA_Liability_Coverage_Only_Indicator_N',\n",
        " 'EEA_Liability_Coverage_Only_Indicator_Y',\n",
        " 'EEA_Multi_Auto_Policies_Indicator_N',\n",
        " 'EEA_Multi_Auto_Policies_Indicator_Y',\n",
        " 'EEA_Policy_Tenure',\n",
        " 'EEA_Policy_Tenure_0-10',\n",
        " 'EEA_Policy_Tenure_10-20',\n",
        " 'EEA_Policy_Tenure_20-30',\n",
        " 'EEA_Policy_Tenure_30-40',\n",
        " 'EEA_Policy_Tenure_40-50',\n",
        " 'EEA_Policy_Tenure_50-60',\n",
        " 'EEA_Agency_Type_Hybrid',\n",
        " 'EEA_Agency_Type_Non-standard',\n",
        " 'EEA_Agency_Type_Preferred',\n",
        " 'EEA_Agency_Type_Standard',\n",
        " 'EEA_Packaged_Policy_Indicator_N',\n",
        " 'EEA_Packaged_Policy_Indicator_Y',\n",
        " 'EEA_Full_Coverage_Indicator_N',\n",
        " 'EEA_Full_Coverage_Indicator_Y',\n",
        " 'EEA_Prior_Bodily_Injury_Limit_100-200',\n",
        " 'EEA_Prior_Bodily_Injury_Limit_100-400',\n",
        " 'EEA_Prior_Bodily_Injury_Limit_20-50',\n",
        " 'EEA_Prior_Bodily_Injury_Limit_200-400',\n",
        " 'EEA_Prior_Bodily_Injury_Limit_300-300',\n",
        " 'EEA_Prior_Bodily_Injury_Limit_40-100 ',\n",
        " 'EEA_Prior_Bodily_Injury_Limit_75-300',\n",
        " 'EEA_Prior_Bodily_Injury_Limit_750-750',\n",
        " 'SYS_Renewed_N',\n",
        " 'SYS_Renewed_Y',\n",
        " 'SYS_New_Business_N',\n",
        " 'SYS_New_Business_Y',\n",
        " 'Annual_Premium',\n",
        " 'Annual_Premium_0-1000',\n",
        " 'Annual_Premium_1000-2000',\n",
        " 'Annual_Premium_2000-3000',\n",
        " 'Annual_Premium_3000-4000',\n",
        " 'Claim_Count',\n",
        " 'Loss_Amount'\n",
        "]]\n"
      ],
      "execution_count": 0,
      "outputs": []
    },
    {
      "cell_type": "code",
      "metadata": {
        "id": "bu7thTCyXEjK",
        "colab_type": "code",
        "colab": {
          "base_uri": "https://localhost:8080/",
          "height": 177
        },
        "outputId": "77bb9f16-835e-462b-cc17-4dcf0d3026fe"
      },
      "source": [
        "encod_train_temp.head(2)"
      ],
      "execution_count": 43,
      "outputs": [
        {
          "output_type": "execute_result",
          "data": {
            "text/html": [
              "<div>\n",
              "<style scoped>\n",
              "    .dataframe tbody tr th:only-of-type {\n",
              "        vertical-align: middle;\n",
              "    }\n",
              "\n",
              "    .dataframe tbody tr th {\n",
              "        vertical-align: top;\n",
              "    }\n",
              "\n",
              "    .dataframe thead th {\n",
              "        text-align: right;\n",
              "    }\n",
              "</style>\n",
              "<table border=\"1\" class=\"dataframe\">\n",
              "  <thead>\n",
              "    <tr style=\"text-align: right;\">\n",
              "      <th></th>\n",
              "      <th>PolicyNo_&lt;210</th>\n",
              "      <th>PolicyNo_210-300</th>\n",
              "      <th>PolicyNo_300-345</th>\n",
              "      <th>PolicyNo_&gt;345</th>\n",
              "      <th>Policy_Company_Preferred</th>\n",
              "      <th>Policy_Company_Standard</th>\n",
              "      <th>Policy_Installment_Term_6</th>\n",
              "      <th>Policy_Installment_Term_12</th>\n",
              "      <th>Policy_Billing_Code_Direct Billed to Insured</th>\n",
              "      <th>Policy_Billing_Code_Premium Finance</th>\n",
              "      <th>Policy_Method_Of_Payment_Installment</th>\n",
              "      <th>Policy_Method_Of_Payment_Pre-paid</th>\n",
              "      <th>Policy_Reinstatement_Fee_Indicator_N</th>\n",
              "      <th>Policy_Reinstatement_Fee_Indicator_Y</th>\n",
              "      <th>Vehicle_Territory_13</th>\n",
              "      <th>Vehicle_Territory_15</th>\n",
              "      <th>Vehicle_Territory_16</th>\n",
              "      <th>Vehicle_Territory_17</th>\n",
              "      <th>Vehicle_Territory_18</th>\n",
              "      <th>Vehicle_Territory_19</th>\n",
              "      <th>Vehicle_Territory_20</th>\n",
              "      <th>Vehicle_Territory_22</th>\n",
              "      <th>Vehicle_Territory_26</th>\n",
              "      <th>Vehicle_Territory_27</th>\n",
              "      <th>Vehicle_Territory_30</th>\n",
              "      <th>Vehicle_Territory_31</th>\n",
              "      <th>Vehicle_Territory_32</th>\n",
              "      <th>Vehicle_Territory_35</th>\n",
              "      <th>Vehicle_Territory_36</th>\n",
              "      <th>Vehicle_Territory_37</th>\n",
              "      <th>Vehicle_Make_Age</th>\n",
              "      <th>Vehicle_Make_Age_0-5</th>\n",
              "      <th>Vehicle_Make_Age_5-10</th>\n",
              "      <th>Vehicle_Make_Age_10-20</th>\n",
              "      <th>Vehicle_Make_Age_20-50</th>\n",
              "      <th>Vehicle_Make_Age_&gt;50</th>\n",
              "      <th>Vehicle_Performance_High</th>\n",
              "      <th>Vehicle_Performance_Intermediate</th>\n",
              "      <th>Vehicle_Performance_Sports</th>\n",
              "      <th>Vehicle_Performance_Sports Premium</th>\n",
              "      <th>...</th>\n",
              "      <th>Vehicle_Safe_Driver_Discount_Indicator_N</th>\n",
              "      <th>Vehicle_Safe_Driver_Discount_Indicator_Y</th>\n",
              "      <th>EEA_Liability_Coverage_Only_Indicator_N</th>\n",
              "      <th>EEA_Liability_Coverage_Only_Indicator_Y</th>\n",
              "      <th>EEA_Multi_Auto_Policies_Indicator_N</th>\n",
              "      <th>EEA_Multi_Auto_Policies_Indicator_Y</th>\n",
              "      <th>EEA_Policy_Tenure</th>\n",
              "      <th>EEA_Policy_Tenure_0-10</th>\n",
              "      <th>EEA_Policy_Tenure_10-20</th>\n",
              "      <th>EEA_Policy_Tenure_20-30</th>\n",
              "      <th>EEA_Policy_Tenure_30-40</th>\n",
              "      <th>EEA_Policy_Tenure_40-50</th>\n",
              "      <th>EEA_Policy_Tenure_50-60</th>\n",
              "      <th>EEA_Agency_Type_Hybrid</th>\n",
              "      <th>EEA_Agency_Type_Non-standard</th>\n",
              "      <th>EEA_Agency_Type_Preferred</th>\n",
              "      <th>EEA_Agency_Type_Standard</th>\n",
              "      <th>EEA_Packaged_Policy_Indicator_N</th>\n",
              "      <th>EEA_Packaged_Policy_Indicator_Y</th>\n",
              "      <th>EEA_Full_Coverage_Indicator_N</th>\n",
              "      <th>EEA_Full_Coverage_Indicator_Y</th>\n",
              "      <th>EEA_Prior_Bodily_Injury_Limit_100-200</th>\n",
              "      <th>EEA_Prior_Bodily_Injury_Limit_100-400</th>\n",
              "      <th>EEA_Prior_Bodily_Injury_Limit_20-50</th>\n",
              "      <th>EEA_Prior_Bodily_Injury_Limit_200-400</th>\n",
              "      <th>EEA_Prior_Bodily_Injury_Limit_300-300</th>\n",
              "      <th>EEA_Prior_Bodily_Injury_Limit_40-100</th>\n",
              "      <th>EEA_Prior_Bodily_Injury_Limit_75-300</th>\n",
              "      <th>EEA_Prior_Bodily_Injury_Limit_750-750</th>\n",
              "      <th>SYS_Renewed_N</th>\n",
              "      <th>SYS_Renewed_Y</th>\n",
              "      <th>SYS_New_Business_N</th>\n",
              "      <th>SYS_New_Business_Y</th>\n",
              "      <th>Annual_Premium</th>\n",
              "      <th>Annual_Premium_0-1000</th>\n",
              "      <th>Annual_Premium_1000-2000</th>\n",
              "      <th>Annual_Premium_2000-3000</th>\n",
              "      <th>Annual_Premium_3000-4000</th>\n",
              "      <th>Claim_Count</th>\n",
              "      <th>Loss_Amount</th>\n",
              "    </tr>\n",
              "  </thead>\n",
              "  <tbody>\n",
              "    <tr>\n",
              "      <th>0</th>\n",
              "      <td>1</td>\n",
              "      <td>0</td>\n",
              "      <td>0</td>\n",
              "      <td>0</td>\n",
              "      <td>0</td>\n",
              "      <td>1</td>\n",
              "      <td>1</td>\n",
              "      <td>0</td>\n",
              "      <td>1</td>\n",
              "      <td>0</td>\n",
              "      <td>0</td>\n",
              "      <td>1</td>\n",
              "      <td>1</td>\n",
              "      <td>0</td>\n",
              "      <td>0</td>\n",
              "      <td>0</td>\n",
              "      <td>0</td>\n",
              "      <td>0</td>\n",
              "      <td>0</td>\n",
              "      <td>0</td>\n",
              "      <td>0</td>\n",
              "      <td>0</td>\n",
              "      <td>0</td>\n",
              "      <td>0</td>\n",
              "      <td>0</td>\n",
              "      <td>0</td>\n",
              "      <td>0</td>\n",
              "      <td>1</td>\n",
              "      <td>0</td>\n",
              "      <td>0</td>\n",
              "      <td>5</td>\n",
              "      <td>0</td>\n",
              "      <td>1</td>\n",
              "      <td>0</td>\n",
              "      <td>0</td>\n",
              "      <td>0</td>\n",
              "      <td>0</td>\n",
              "      <td>0</td>\n",
              "      <td>0</td>\n",
              "      <td>0</td>\n",
              "      <td>...</td>\n",
              "      <td>0</td>\n",
              "      <td>1</td>\n",
              "      <td>1</td>\n",
              "      <td>0</td>\n",
              "      <td>1</td>\n",
              "      <td>0</td>\n",
              "      <td>22.7</td>\n",
              "      <td>0</td>\n",
              "      <td>0</td>\n",
              "      <td>1</td>\n",
              "      <td>0</td>\n",
              "      <td>0</td>\n",
              "      <td>0</td>\n",
              "      <td>0</td>\n",
              "      <td>0</td>\n",
              "      <td>0</td>\n",
              "      <td>1</td>\n",
              "      <td>1</td>\n",
              "      <td>0</td>\n",
              "      <td>0</td>\n",
              "      <td>1</td>\n",
              "      <td>0</td>\n",
              "      <td>1</td>\n",
              "      <td>0</td>\n",
              "      <td>0</td>\n",
              "      <td>0</td>\n",
              "      <td>0</td>\n",
              "      <td>0</td>\n",
              "      <td>0</td>\n",
              "      <td>0</td>\n",
              "      <td>1</td>\n",
              "      <td>1</td>\n",
              "      <td>0</td>\n",
              "      <td>320.12</td>\n",
              "      <td>1</td>\n",
              "      <td>0</td>\n",
              "      <td>0</td>\n",
              "      <td>0</td>\n",
              "      <td>0</td>\n",
              "      <td>0.0</td>\n",
              "    </tr>\n",
              "    <tr>\n",
              "      <th>1</th>\n",
              "      <td>1</td>\n",
              "      <td>0</td>\n",
              "      <td>0</td>\n",
              "      <td>0</td>\n",
              "      <td>0</td>\n",
              "      <td>1</td>\n",
              "      <td>1</td>\n",
              "      <td>0</td>\n",
              "      <td>1</td>\n",
              "      <td>0</td>\n",
              "      <td>0</td>\n",
              "      <td>1</td>\n",
              "      <td>1</td>\n",
              "      <td>0</td>\n",
              "      <td>0</td>\n",
              "      <td>0</td>\n",
              "      <td>0</td>\n",
              "      <td>0</td>\n",
              "      <td>0</td>\n",
              "      <td>0</td>\n",
              "      <td>0</td>\n",
              "      <td>0</td>\n",
              "      <td>0</td>\n",
              "      <td>0</td>\n",
              "      <td>0</td>\n",
              "      <td>0</td>\n",
              "      <td>0</td>\n",
              "      <td>1</td>\n",
              "      <td>0</td>\n",
              "      <td>0</td>\n",
              "      <td>29</td>\n",
              "      <td>0</td>\n",
              "      <td>0</td>\n",
              "      <td>0</td>\n",
              "      <td>1</td>\n",
              "      <td>0</td>\n",
              "      <td>0</td>\n",
              "      <td>0</td>\n",
              "      <td>0</td>\n",
              "      <td>0</td>\n",
              "      <td>...</td>\n",
              "      <td>0</td>\n",
              "      <td>1</td>\n",
              "      <td>1</td>\n",
              "      <td>0</td>\n",
              "      <td>1</td>\n",
              "      <td>0</td>\n",
              "      <td>47.1</td>\n",
              "      <td>0</td>\n",
              "      <td>0</td>\n",
              "      <td>0</td>\n",
              "      <td>0</td>\n",
              "      <td>1</td>\n",
              "      <td>0</td>\n",
              "      <td>0</td>\n",
              "      <td>0</td>\n",
              "      <td>1</td>\n",
              "      <td>0</td>\n",
              "      <td>1</td>\n",
              "      <td>0</td>\n",
              "      <td>0</td>\n",
              "      <td>1</td>\n",
              "      <td>1</td>\n",
              "      <td>0</td>\n",
              "      <td>0</td>\n",
              "      <td>0</td>\n",
              "      <td>0</td>\n",
              "      <td>0</td>\n",
              "      <td>0</td>\n",
              "      <td>0</td>\n",
              "      <td>0</td>\n",
              "      <td>1</td>\n",
              "      <td>1</td>\n",
              "      <td>0</td>\n",
              "      <td>259.70</td>\n",
              "      <td>1</td>\n",
              "      <td>0</td>\n",
              "      <td>0</td>\n",
              "      <td>0</td>\n",
              "      <td>0</td>\n",
              "      <td>0.0</td>\n",
              "    </tr>\n",
              "  </tbody>\n",
              "</table>\n",
              "<p>2 rows × 230 columns</p>\n",
              "</div>"
            ],
            "text/plain": [
              "  PolicyNo_<210 PolicyNo_210-300  ... Claim_Count Loss_Amount\n",
              "0             1                0  ...           0         0.0\n",
              "1             1                0  ...           0         0.0\n",
              "\n",
              "[2 rows x 230 columns]"
            ]
          },
          "metadata": {
            "tags": []
          },
          "execution_count": 43
        }
      ]
    },
    {
      "cell_type": "code",
      "metadata": {
        "id": "lwUbvBNWWc_X",
        "colab_type": "code",
        "colab": {}
      },
      "source": [
        "#Save as csv\n",
        "\n",
        "encod_train_temp.to_csv('encod_train_wPolicyNo.csv', index=False)"
      ],
      "execution_count": 0,
      "outputs": []
    },
    {
      "cell_type": "markdown",
      "metadata": {
        "id": "E0uJe15TYZjD",
        "colab_type": "text"
      },
      "source": [
        "Divide into portfolios."
      ]
    },
    {
      "cell_type": "code",
      "metadata": {
        "id": "J8UpjLSqYap0",
        "colab_type": "code",
        "colab": {}
      },
      "source": [
        "data_with_loss=encod_train.loc[encod_train['Claim_Count'] != 0]\n",
        "data_with_loss=data_with_loss.reset_index(drop=True)\n",
        "data_without_loss=encod_train.loc[encod_train['Claim_Count'] == 0]\n",
        "data_without_loss=data_without_loss.reset_index(drop=True)"
      ],
      "execution_count": 0,
      "outputs": []
    },
    {
      "cell_type": "code",
      "metadata": {
        "id": "ZYeMUn0KYeKp",
        "colab_type": "code",
        "colab": {}
      },
      "source": [
        "percentage_list=[1,2,3,4,5,6,7,8,9,10,20]\n",
        "size_list=[1000,3000,5000]\n",
        "list_of_dataframes=[]\n",
        "\n",
        "def generate_dataframe(percentage,size):\n",
        "      \n",
        "      df_final=pd.DataFrame()\n",
        "      df_with_loss=pd.DataFrame()\n",
        "\n",
        "      with_loss_size=int((size*(percentage/100)))\n",
        "      without_loss_size=size-with_loss_size\n",
        "\n",
        "      df_with_loss=data_with_loss.iloc[random.sample(range(0, len(data_with_loss)), with_loss_size),:]\n",
        "      df_final=data_without_loss.iloc[random.sample(range(0, len(data_without_loss)), without_loss_size),:]\n",
        "\n",
        "      df_final=df_final.append(df_with_loss, ignore_index=True)\n",
        "      \n",
        "      return shuffle(df_final)\n",
        "\n",
        "for percentage in percentage_list:\n",
        "  for size in size_list:\n",
        "    for i in range(10):\n",
        "      list_of_dataframes.append(generate_dataframe(percentage,size)) \n"
      ],
      "execution_count": 0,
      "outputs": []
    },
    {
      "cell_type": "code",
      "metadata": {
        "id": "kxK2JxRjwcEI",
        "colab_type": "code",
        "colab": {
          "base_uri": "https://localhost:8080/",
          "height": 35
        },
        "outputId": "f2d14ad1-1d9b-4805-c561-39992f29b635"
      },
      "source": [
        "len(list_of_dataframes)"
      ],
      "execution_count": 48,
      "outputs": [
        {
          "output_type": "execute_result",
          "data": {
            "text/plain": [
              "330"
            ]
          },
          "metadata": {
            "tags": []
          },
          "execution_count": 48
        }
      ]
    },
    {
      "cell_type": "markdown",
      "metadata": {
        "id": "pARdYtlRYrZD",
        "colab_type": "text"
      },
      "source": [
        "Helper functions to summarize the portfolios."
      ]
    },
    {
      "cell_type": "code",
      "metadata": {
        "id": "7ixGHkumYuyY",
        "colab_type": "code",
        "colab": {}
      },
      "source": [
        "#For finding sum\n",
        "def portfolio_sum(portfolio,column_name):\n",
        "  sum=0\n",
        "  for record in portfolio[column_name]:\n",
        "    if  (not np.isnan(record)) and record !=-1:\n",
        "      sum+=record\n",
        "  # print(sum)\n",
        "  return sum"
      ],
      "execution_count": 0,
      "outputs": []
    },
    {
      "cell_type": "code",
      "metadata": {
        "id": "WAVr0Rp7Yz_u",
        "colab_type": "code",
        "colab": {}
      },
      "source": [
        "def summarize_portfolio(portfolio):\n",
        "  new_port=pd.DataFrame()\n",
        "  #For finding percentage\n",
        "  for record in portfolio:\n",
        "    new_port[record]=new_port.apply(lambda _: '', axis=1)\n",
        "    if set([0,1]).issubset(set(portfolio[record].value_counts(normalize=True).keys())) and len(portfolio[record].value_counts(normalize=True))==2:\n",
        "        new_port.at[0,record]=round(portfolio[record].value_counts(normalize=True)[1]*100,2)\n",
        "    if (portfolio[record]==0).all():\n",
        "        new_port.at[0,record]=0\n",
        "    if (portfolio[record]==1).all():\n",
        "        new_port.at[0,record]=1\n",
        "  #For finding mean and median\n",
        "  new_port['Vehicle_Make_Age']=portfolio['Vehicle_Make_Age'].mean()\n",
        "  new_port['Vehicle_Make_Age_Median']=portfolio['Vehicle_Make_Age'].median()\n",
        "  new_port['Driver_Minimum_Age']=portfolio['Driver_Minimum_Age'].mean()\n",
        "  new_port['Driver_Minimum_Age_Median']=portfolio['Driver_Minimum_Age'].median()\n",
        "  new_port['Driver_Maximum_Age']=portfolio['Driver_Maximum_Age'].mean()\n",
        "  new_port['Driver_Maximum_Age_Median']=portfolio['Driver_Maximum_Age'].median()\n",
        "  #For finding sum\n",
        "  new_port['Vehicle_New_Cost_Amount']=portfolio_sum(portfolio,'Vehicle_New_Cost_Amount')\n",
        "  new_port['Vehicle_Number_Of_Drivers_Assigned']=portfolio_sum(portfolio,'Vehicle_Number_Of_Drivers_Assigned')\n",
        "  new_port['Vehicle_Miles_To_Work']=portfolio_sum(portfolio,'Vehicle_Miles_To_Work')\n",
        "  new_port['Vehicle_Annual_Miles']=portfolio_sum(portfolio,'Vehicle_Annual_Miles')\n",
        "  new_port['Vehicle_Comprehensive_Coverage_Limit']=portfolio_sum(portfolio,'Vehicle_Comprehensive_Coverage_Limit')\n",
        "  new_port['Driver_Total']=portfolio_sum(portfolio,'Driver_Total')\n",
        "  new_port['Driver_Total_Male']=portfolio_sum(portfolio,'Driver_Total_Male')\n",
        "  new_port['Driver_Total_Female']=portfolio_sum(portfolio,'Driver_Total_Female')\n",
        "  new_port['Driver_Total_Single']=portfolio_sum(portfolio,'Driver_Total_Single')\n",
        "  new_port['Driver_Total_Married']=portfolio_sum(portfolio,'Driver_Total_Married')\n",
        "  new_port['Driver_Total_Related_To_Insured_Self']=portfolio_sum(portfolio,'Driver_Total_Related_To_Insured_Self')\n",
        "  new_port['Driver_Total_Related_To_Insured_Spouse']=portfolio_sum(portfolio,'Driver_Total_Related_To_Insured_Spouse')\n",
        "  new_port['Driver_Total_Related_To_Insured_Child']=portfolio_sum(portfolio,'Driver_Total_Related_To_Insured_Child')\n",
        "  new_port['Driver_Total_Licensed_In_State']=portfolio_sum(portfolio,'Driver_Total_Licensed_In_State')\n",
        "  new_port['Driver_Total_Teenager_Age_15_19']=portfolio_sum(portfolio,'Driver_Total_Teenager_Age_15_19')\n",
        "  new_port['Driver_Total_College_Ages_20_23']=portfolio_sum(portfolio,'Driver_Total_College_Ages_20_23')\n",
        "  new_port['Driver_Total_Young_Adult_Ages_24_29']=portfolio_sum(portfolio,'Driver_Total_Young_Adult_Ages_24_29')\n",
        "  new_port['Driver_Total_Low_Middle_Adult_Ages_30_39']=portfolio_sum(portfolio,'Driver_Total_Low_Middle_Adult_Ages_30_39')\n",
        "  new_port['Driver_Total_Middle_Adult_Ages_40_49']=portfolio_sum(portfolio,'Driver_Total_Middle_Adult_Ages_40_49')\n",
        "  new_port['Driver_Total_Adult_Ages_50_64']=portfolio_sum(portfolio,'Driver_Total_Adult_Ages_50_64')\n",
        "  new_port['Driver_Total_Senior_Ages_65_69']=portfolio_sum(portfolio,'Driver_Total_Senior_Ages_65_69')\n",
        "  new_port['Driver_Total_Upper_Senior_Ages_70_plus']=portfolio_sum(portfolio,'Driver_Total_Upper_Senior_Ages_70_plus')\n",
        "  new_port['EEA_Policy_Tenure']=portfolio_sum(portfolio,'EEA_Policy_Tenure')\n",
        "  new_port['Annual_Premium']=portfolio_sum(portfolio,'Annual_Premium')\n",
        "  new_port['Loss_Amount']=portfolio_sum(portfolio,'Loss_Amount')\n",
        "  return new_port"
      ],
      "execution_count": 0,
      "outputs": []
    },
    {
      "cell_type": "markdown",
      "metadata": {
        "id": "SntmCNiUY8ho",
        "colab_type": "text"
      },
      "source": [
        "Summarize the portfolios."
      ]
    },
    {
      "cell_type": "code",
      "metadata": {
        "id": "cCtTNL4wZATh",
        "colab_type": "code",
        "colab": {}
      },
      "source": [
        "summarized_dataframes=pd.DataFrame()\n",
        "i=0\n",
        "for dataframe in list_of_dataframes:\n",
        "  \n",
        "  new=pd.DataFrame()\n",
        "  # print(i)\n",
        "  new=summarize_portfolio(dataframe)\n",
        "  new['Portfolio']=\"Portfolio_\"+str(i)\n",
        "  new['Loss_Ratio'] = new['Loss_Amount']/new['Annual_Premium']\n",
        "  new['ln_LR'] = np.log(new['Loss_Ratio'])\n",
        "  summarized_dataframes=summarized_dataframes.append(new)\n",
        "  i+=1"
      ],
      "execution_count": 0,
      "outputs": []
    },
    {
      "cell_type": "code",
      "metadata": {
        "id": "x4d8ElCi4Qv4",
        "colab_type": "code",
        "colab": {
          "base_uri": "https://localhost:8080/",
          "height": 35
        },
        "outputId": "4d57b392-794e-4f0c-becd-54f47ae0a421"
      },
      "source": [
        "summarized_dataframes.shape"
      ],
      "execution_count": 55,
      "outputs": [
        {
          "output_type": "execute_result",
          "data": {
            "text/plain": [
              "(330, 236)"
            ]
          },
          "metadata": {
            "tags": []
          },
          "execution_count": 55
        }
      ]
    },
    {
      "cell_type": "markdown",
      "metadata": {
        "id": "D3Tpk7FAZLtf",
        "colab_type": "text"
      },
      "source": [
        "Save summarized data to csv"
      ]
    },
    {
      "cell_type": "code",
      "metadata": {
        "id": "9NGcSVc5ZOp9",
        "colab_type": "code",
        "colab": {}
      },
      "source": [
        "summarized_dataframes.to_csv('summarized_dataframes_2.csv',index=False)"
      ],
      "execution_count": 0,
      "outputs": []
    },
    {
      "cell_type": "markdown",
      "metadata": {
        "id": "-K_IFDfeZzRV",
        "colab_type": "text"
      },
      "source": [
        "Read summarized data."
      ]
    },
    {
      "cell_type": "code",
      "metadata": {
        "id": "YH0gsIo1Z3Ro",
        "colab_type": "code",
        "colab": {}
      },
      "source": [
        "summarized_dataframes_2 = pd.read_csv('summarized_dataframes_2.csv')"
      ],
      "execution_count": 0,
      "outputs": []
    },
    {
      "cell_type": "code",
      "metadata": {
        "id": "AQt-qJxBaB3J",
        "colab_type": "code",
        "colab": {}
      },
      "source": [
        "summarized_dataframes_wo_portfolio = summarized_dataframes.drop(['Portfolio'], axis = 1)"
      ],
      "execution_count": 0,
      "outputs": []
    },
    {
      "cell_type": "code",
      "metadata": {
        "id": "H3r5DEPrb7xJ",
        "colab_type": "code",
        "colab": {
          "base_uri": "https://localhost:8080/",
          "height": 35
        },
        "outputId": "0ba5aea8-a26c-4899-9855-7b6098f30882"
      },
      "source": [
        "#Shape of the summarized data\n",
        "\n",
        "summarized_dataframes_wo_portfolio.shape"
      ],
      "execution_count": 58,
      "outputs": [
        {
          "output_type": "execute_result",
          "data": {
            "text/plain": [
              "(330, 235)"
            ]
          },
          "metadata": {
            "tags": []
          },
          "execution_count": 58
        }
      ]
    },
    {
      "cell_type": "code",
      "metadata": {
        "id": "EEasel915Sin",
        "colab_type": "code",
        "colab": {
          "base_uri": "https://localhost:8080/",
          "height": 1000
        },
        "outputId": "9e4c4b77-c273-4c95-95d1-7293177f80ad"
      },
      "source": [
        "list(summarized_dataframes_wo_portfolio.columns)"
      ],
      "execution_count": 59,
      "outputs": [
        {
          "output_type": "execute_result",
          "data": {
            "text/plain": [
              "['Vehicle_New_Cost_Amount',\n",
              " 'Vehicle_Number_Of_Drivers_Assigned',\n",
              " 'Vehicle_Miles_To_Work',\n",
              " 'Vehicle_Annual_Miles',\n",
              " 'Vehicle_Comprehensive_Coverage_Limit',\n",
              " 'Driver_Total',\n",
              " 'Driver_Total_Male',\n",
              " 'Driver_Total_Female',\n",
              " 'Driver_Total_Single',\n",
              " 'Driver_Total_Married',\n",
              " 'Driver_Total_Related_To_Insured_Self',\n",
              " 'Driver_Total_Related_To_Insured_Spouse',\n",
              " 'Driver_Total_Related_To_Insured_Child',\n",
              " 'Driver_Total_Licensed_In_State',\n",
              " 'Driver_Minimum_Age',\n",
              " 'Driver_Maximum_Age',\n",
              " 'Driver_Total_Teenager_Age_15_19',\n",
              " 'Driver_Total_College_Ages_20_23',\n",
              " 'Driver_Total_Young_Adult_Ages_24_29',\n",
              " 'Driver_Total_Low_Middle_Adult_Ages_30_39',\n",
              " 'Driver_Total_Middle_Adult_Ages_40_49',\n",
              " 'Driver_Total_Adult_Ages_50_64',\n",
              " 'Driver_Total_Senior_Ages_65_69',\n",
              " 'Driver_Total_Upper_Senior_Ages_70_plus',\n",
              " 'EEA_Policy_Tenure',\n",
              " 'Annual_Premium',\n",
              " 'Claim_Count',\n",
              " 'Loss_Amount',\n",
              " 'PolicyNo_<210',\n",
              " 'PolicyNo_210-300',\n",
              " 'PolicyNo_300-345',\n",
              " 'PolicyNo_>345',\n",
              " 'Policy_Company_Preferred',\n",
              " 'Policy_Company_Standard ',\n",
              " 'Policy_Installment_Term_6',\n",
              " 'Policy_Installment_Term_12',\n",
              " 'Policy_Billing_Code_Direct Billed to Insured',\n",
              " 'Policy_Billing_Code_Premium Finance',\n",
              " 'Policy_Method_Of_Payment_Installment',\n",
              " 'Policy_Method_Of_Payment_Pre-paid',\n",
              " 'Policy_Reinstatement_Fee_Indicator_N',\n",
              " 'Policy_Reinstatement_Fee_Indicator_Y',\n",
              " 'Vehicle_Territory_13',\n",
              " 'Vehicle_Territory_15',\n",
              " 'Vehicle_Territory_16',\n",
              " 'Vehicle_Territory_17',\n",
              " 'Vehicle_Territory_18',\n",
              " 'Vehicle_Territory_19',\n",
              " 'Vehicle_Territory_20',\n",
              " 'Vehicle_Territory_22',\n",
              " 'Vehicle_Territory_26',\n",
              " 'Vehicle_Territory_27',\n",
              " 'Vehicle_Territory_30',\n",
              " 'Vehicle_Territory_31',\n",
              " 'Vehicle_Territory_32',\n",
              " 'Vehicle_Territory_35',\n",
              " 'Vehicle_Territory_36',\n",
              " 'Vehicle_Territory_37',\n",
              " 'Vehicle_Performance_High',\n",
              " 'Vehicle_Performance_Intermediate',\n",
              " 'Vehicle_Performance_Sports',\n",
              " 'Vehicle_Performance_Sports Premium',\n",
              " 'Vehicle_Performance_Standard',\n",
              " 'Vehicle_Symbol_-1',\n",
              " 'Vehicle_Symbol_1',\n",
              " 'Vehicle_Symbol_2',\n",
              " 'Vehicle_Symbol_3',\n",
              " 'Vehicle_Symbol_4',\n",
              " 'Vehicle_Symbol_5',\n",
              " 'Vehicle_Symbol_6',\n",
              " 'Vehicle_Symbol_7',\n",
              " 'Vehicle_Symbol_8',\n",
              " 'Vehicle_Symbol_9',\n",
              " 'Vehicle_Symbol_10',\n",
              " 'Vehicle_Symbol_11',\n",
              " 'Vehicle_Symbol_12',\n",
              " 'Vehicle_Symbol_13',\n",
              " 'Vehicle_Symbol_14',\n",
              " 'Vehicle_Symbol_15',\n",
              " 'Vehicle_Symbol_16',\n",
              " 'Vehicle_Symbol_17',\n",
              " 'Vehicle_Symbol_18',\n",
              " 'Vehicle_Symbol_19',\n",
              " 'Vehicle_Symbol_20',\n",
              " 'Vehicle_Symbol_21',\n",
              " 'Vehicle_Symbol_22',\n",
              " 'Vehicle_Symbol_23',\n",
              " 'Vehicle_Symbol_24',\n",
              " 'Vehicle_Symbol_25',\n",
              " 'Vehicle_Symbol_26',\n",
              " 'Vehicle_Symbol_27',\n",
              " 'Vehicle_Usage_Business',\n",
              " 'Vehicle_Usage_Farm    ',\n",
              " 'Vehicle_Usage_Pleasure',\n",
              " 'Vehicle_Usage_Work    ',\n",
              " 'Vehicle_Days_Per_Week_Driven_-1',\n",
              " 'Vehicle_Days_Per_Week_Driven_0',\n",
              " 'Vehicle_Days_Per_Week_Driven_1',\n",
              " 'Vehicle_Days_Per_Week_Driven_2',\n",
              " 'Vehicle_Days_Per_Week_Driven_3',\n",
              " 'Vehicle_Days_Per_Week_Driven_4',\n",
              " 'Vehicle_Days_Per_Week_Driven_5',\n",
              " 'Vehicle_Days_Per_Week_Driven_6',\n",
              " 'Vehicle_Days_Per_Week_Driven_7',\n",
              " 'Vehicle_Days_Per_Week_Driven_8',\n",
              " 'Vehicle_Days_Per_Week_Driven_9',\n",
              " 'Vehicle_Anti_Theft_Device_Active Disabling',\n",
              " 'Vehicle_Anti_Theft_Device_Alarm Only',\n",
              " 'Vehicle_Anti_Theft_Device_Not Applicable',\n",
              " 'Vehicle_Anti_Theft_Device_Passive Disabling-Vehicle Recovery',\n",
              " 'Vehicle_Passive_Restraint_N',\n",
              " 'Vehicle_Passive_Restraint_Y',\n",
              " 'Vehicle_Age_In_Years_1',\n",
              " 'Vehicle_Age_In_Years_2',\n",
              " 'Vehicle_Age_In_Years_3',\n",
              " 'Vehicle_Age_In_Years_4',\n",
              " 'Vehicle_Age_In_Years_5',\n",
              " 'Vehicle_Age_In_Years_6',\n",
              " 'Vehicle_Age_In_Years_7',\n",
              " 'Vehicle_Age_In_Years_8',\n",
              " 'Vehicle_Age_In_Years_9',\n",
              " 'Vehicle_Med_Pay_Limit_-1',\n",
              " 'Vehicle_Med_Pay_Limit_1000',\n",
              " 'Vehicle_Med_Pay_Limit_2000',\n",
              " 'Vehicle_Med_Pay_Limit_5000',\n",
              " 'Vehicle_Med_Pay_Limit_10000',\n",
              " 'Vehicle_Med_Pay_Limit_25000',\n",
              " 'Vehicle_Med_Pay_Limit_50000',\n",
              " 'Vehicle_Bodily_Injury_Limit_100-300',\n",
              " 'Vehicle_Bodily_Injury_Limit_100-500',\n",
              " 'Vehicle_Bodily_Injury_Limit_1M-1M  ',\n",
              " 'Vehicle_Bodily_Injury_Limit_25-50  ',\n",
              " 'Vehicle_Bodily_Injury_Limit_250-500',\n",
              " 'Vehicle_Bodily_Injury_Limit_300-500',\n",
              " 'Vehicle_Bodily_Injury_Limit_50-100 ',\n",
              " 'Vehicle_Bodily_Injury_Limit_500-500',\n",
              " 'Vehicle_Physical_Damage_Limit_-1',\n",
              " 'Vehicle_Physical_Damage_Limit_25000',\n",
              " 'Vehicle_Physical_Damage_Limit_35000',\n",
              " 'Vehicle_Physical_Damage_Limit_50000',\n",
              " 'Vehicle_Physical_Damage_Limit_100000',\n",
              " 'Vehicle_Physical_Damage_Limit_250000',\n",
              " 'Vehicle_Physical_Damage_Limit_500000',\n",
              " 'Vehicle_Physical_Damage_Limit_1000000',\n",
              " 'Vehicle_Comprehensive_Coverage_Indicator_N',\n",
              " 'Vehicle_Comprehensive_Coverage_Indicator_Y',\n",
              " 'Vehicle_Collision_Coverage_Indicator_N',\n",
              " 'Vehicle_Collision_Coverage_Indicator_Y',\n",
              " 'Vehicle_Collision_Coverage_Deductible_-1',\n",
              " 'Vehicle_Collision_Coverage_Deductible_50',\n",
              " 'Vehicle_Collision_Coverage_Deductible_100',\n",
              " 'Vehicle_Collision_Coverage_Deductible_200',\n",
              " 'Vehicle_Collision_Coverage_Deductible_250',\n",
              " 'Vehicle_Collision_Coverage_Deductible_500',\n",
              " 'Vehicle_Collision_Coverage_Deductible_1000',\n",
              " 'Vehicle_Collision_Coverage_Deductible_2000',\n",
              " 'Vehicle_Collision_Coverage_Deductible_3000',\n",
              " 'Vehicle_Youthful_Driver_Indicator_N',\n",
              " 'Vehicle_Youthful_Driver_Indicator_Y',\n",
              " 'Vehicle_Youthful_Driver_Training_Code_Not Applicable                 ',\n",
              " 'Vehicle_Youthful_Driver_Training_Code_With Driver Training           ',\n",
              " 'Vehicle_Youthful_Driver_Training_Code_With or Without Driver Training',\n",
              " 'Vehicle_Youthful_Driver_Training_Code_Without Driver Training        ',\n",
              " 'Vehicle_Youthful_Good_Student_Code_Eligible for Good Student Credit    ',\n",
              " 'Vehicle_Youthful_Good_Student_Code_Not Eligible for Good Student Credit',\n",
              " 'Vehicle_Driver_Points_0',\n",
              " 'Vehicle_Driver_Points_1',\n",
              " 'Vehicle_Driver_Points_2',\n",
              " 'Vehicle_Driver_Points_3',\n",
              " 'Vehicle_Driver_Points_4',\n",
              " 'Vehicle_Driver_Points_5',\n",
              " 'Vehicle_Driver_Points_6',\n",
              " 'Vehicle_Driver_Points_7',\n",
              " 'Vehicle_Safe_Driver_Discount_Indicator_N',\n",
              " 'Vehicle_Safe_Driver_Discount_Indicator_Y',\n",
              " 'EEA_Liability_Coverage_Only_Indicator_N',\n",
              " 'EEA_Liability_Coverage_Only_Indicator_Y',\n",
              " 'EEA_Multi_Auto_Policies_Indicator_N',\n",
              " 'EEA_Multi_Auto_Policies_Indicator_Y',\n",
              " 'EEA_Agency_Type_Hybrid',\n",
              " 'EEA_Agency_Type_Non-standard',\n",
              " 'EEA_Agency_Type_Preferred',\n",
              " 'EEA_Agency_Type_Standard',\n",
              " 'EEA_Packaged_Policy_Indicator_N',\n",
              " 'EEA_Packaged_Policy_Indicator_Y',\n",
              " 'EEA_Full_Coverage_Indicator_N',\n",
              " 'EEA_Full_Coverage_Indicator_Y',\n",
              " 'EEA_Prior_Bodily_Injury_Limit_100-200',\n",
              " 'EEA_Prior_Bodily_Injury_Limit_100-400',\n",
              " 'EEA_Prior_Bodily_Injury_Limit_20-50',\n",
              " 'EEA_Prior_Bodily_Injury_Limit_200-400',\n",
              " 'EEA_Prior_Bodily_Injury_Limit_300-300',\n",
              " 'EEA_Prior_Bodily_Injury_Limit_40-100 ',\n",
              " 'EEA_Prior_Bodily_Injury_Limit_75-300',\n",
              " 'EEA_Prior_Bodily_Injury_Limit_750-750',\n",
              " 'SYS_Renewed_N',\n",
              " 'SYS_Renewed_Y',\n",
              " 'SYS_New_Business_N',\n",
              " 'SYS_New_Business_Y',\n",
              " 'Vehicle_Bodily_Injury_Limit_100-500_new',\n",
              " 'Vehicle_Bodily_Injury_Limit_25-100_new',\n",
              " 'Vehicle_Make_Age',\n",
              " 'Vehicle_Make_Age_0-5',\n",
              " 'Vehicle_Make_Age_5-10',\n",
              " 'Vehicle_Make_Age_10-20',\n",
              " 'Vehicle_Make_Age_20-50',\n",
              " 'Vehicle_Make_Age_>50',\n",
              " 'Vehicle_Number_Of_Drivers_Assigned_1',\n",
              " 'Vehicle_Number_Of_Drivers_Assigned_2-8',\n",
              " 'Vehicle_Number_Of_Drivers_Assigned_99',\n",
              " 'EEA_Policy_Tenure_0-10',\n",
              " 'EEA_Policy_Tenure_10-20',\n",
              " 'EEA_Policy_Tenure_20-30',\n",
              " 'EEA_Policy_Tenure_30-40',\n",
              " 'EEA_Policy_Tenure_40-50',\n",
              " 'EEA_Policy_Tenure_50-60',\n",
              " 'Annual_Premium_0-1000',\n",
              " 'Annual_Premium_1000-2000',\n",
              " 'Annual_Premium_2000-3000',\n",
              " 'Annual_Premium_3000-4000',\n",
              " 'Vehicle_Miles_To_Work_0-10',\n",
              " 'Vehicle_Miles_To_Work_10-20',\n",
              " 'Vehicle_Miles_To_Work_20-30',\n",
              " 'Vehicle_Miles_To_Work_30-40',\n",
              " 'Vehicle_Miles_To_Work_40-50',\n",
              " 'Vehicle_Miles_To_Work_50-60',\n",
              " 'Vehicle_Miles_To_Work_60-70',\n",
              " 'Vehicle_Miles_To_Work_70-80',\n",
              " 'Vehicle_Miles_To_Work_80-90',\n",
              " 'Vehicle_Miles_To_Work_90-100',\n",
              " 'Vehicle_Make_Age_Median',\n",
              " 'Driver_Minimum_Age_Median',\n",
              " 'Driver_Maximum_Age_Median',\n",
              " 'Loss_Ratio',\n",
              " 'ln_LR']"
            ]
          },
          "metadata": {
            "tags": []
          },
          "execution_count": 59
        }
      ]
    },
    {
      "cell_type": "markdown",
      "metadata": {
        "id": "P3hq1XmWaTnN",
        "colab_type": "text"
      },
      "source": [
        "Drop all the desired variables."
      ]
    },
    {
      "cell_type": "code",
      "metadata": {
        "id": "FfMMkFrjaUD7",
        "colab_type": "code",
        "colab": {}
      },
      "source": [
        "summarized_dataframes_wo_portfolio_All=summarized_dataframes_wo_portfolio.drop(['Policy_Company_Standard ','Policy_Installment_Term_6','Policy_Billing_Code_Direct Billed to Insured','Policy_Method_Of_Payment_Pre-paid','Policy_Reinstatement_Fee_Indicator_N','Vehicle_Passive_Restraint_N','Vehicle_Med_Pay_Limit_-1','Vehicle_Bodily_Injury_Limit_25-100_new','Vehicle_Bodily_Injury_Limit_100-500_new','Vehicle_Physical_Damage_Limit_-1','Vehicle_Comprehensive_Coverage_Indicator_N','Vehicle_Collision_Coverage_Indicator_N','Vehicle_Collision_Coverage_Deductible_-1','Vehicle_Youthful_Driver_Indicator_N','Vehicle_Youthful_Driver_Training_Code_Not Applicable                 ','Vehicle_Youthful_Good_Student_Code_Not Eligible for Good Student Credit','Vehicle_Safe_Driver_Discount_Indicator_Y','EEA_Liability_Coverage_Only_Indicator_Y','EEA_Multi_Auto_Policies_Indicator_Y','EEA_Packaged_Policy_Indicator_N','EEA_Full_Coverage_Indicator_N','SYS_Renewed_Y','SYS_New_Business_N','Claim_Count','Loss_Amount','Vehicle_Make_Age_Median','Driver_Minimum_Age_Median','Driver_Maximum_Age_Median','Loss_Ratio'], axis=1)"
      ],
      "execution_count": 0,
      "outputs": []
    },
    {
      "cell_type": "code",
      "metadata": {
        "id": "CgnCk4dzOVUe",
        "colab_type": "code",
        "colab": {}
      },
      "source": [
        "# summarized_dataframes_wo_portfolio_All = summarized_dataframes_wo_portfolio_All.drop(['Driver_Total','Driver_Total_Female','Driver_Total_Licensed_In_State','Driver_Total_Male','Driver_Total_Married','Driver_Total_Related_To_Insured_Child','Driver_Total_Related_To_Insured_Self','Driver_Total_Related_To_Insured_Spouse','Driver_Total_Single','Vehicle_Annual_Miles','Vehicle_Days_Per_Week_Driven_0','Vehicle_Days_Per_Week_Driven_1','Vehicle_Days_Per_Week_Driven_1','Vehicle_Days_Per_Week_Driven_2','Vehicle_Days_Per_Week_Driven_3','Vehicle_Days_Per_Week_Driven_4','Vehicle_Days_Per_Week_Driven_5','Vehicle_Days_Per_Week_Driven_6','Vehicle_Days_Per_Week_Driven_7','Vehicle_Days_Per_Week_Driven_8','Vehicle_Days_Per_Week_Driven_9','Vehicle_Symbol_-1','Vehicle_Symbol_9'],axis=1)"
      ],
      "execution_count": 0,
      "outputs": []
    },
    {
      "cell_type": "code",
      "metadata": {
        "id": "VMFODqPNQfqM",
        "colab_type": "code",
        "colab": {}
      },
      "source": [
        "summarized_dataframes_wo_portfolio_All = summarized_dataframes_wo_portfolio_All.drop(['Vehicle_Days_Per_Week_Driven_-1'],axis=1)"
      ],
      "execution_count": 0,
      "outputs": []
    },
    {
      "cell_type": "code",
      "metadata": {
        "id": "HUq_zUU4Odcx",
        "colab_type": "code",
        "colab": {
          "base_uri": "https://localhost:8080/",
          "height": 35
        },
        "outputId": "033a56e1-645e-47dd-e551-7ea4c72bf8b9"
      },
      "source": [
        "summarized_dataframes_wo_portfolio_All.shape"
      ],
      "execution_count": 70,
      "outputs": [
        {
          "output_type": "execute_result",
          "data": {
            "text/plain": [
              "(330, 183)"
            ]
          },
          "metadata": {
            "tags": []
          },
          "execution_count": 70
        }
      ]
    },
    {
      "cell_type": "code",
      "metadata": {
        "id": "s6yi7-bPJ9zw",
        "colab_type": "code",
        "colab": {}
      },
      "source": [
        "# list(summarized_dataframes_wo_portfolio_All.columns)"
      ],
      "execution_count": 0,
      "outputs": []
    },
    {
      "cell_type": "code",
      "metadata": {
        "id": "hyaRCEEsbiNc",
        "colab_type": "code",
        "colab": {
          "base_uri": "https://localhost:8080/",
          "height": 35
        },
        "outputId": "33507e46-194b-4f34-a0a5-2783f7ee932d"
      },
      "source": [
        "#Shape of the summarized data after dropping\n",
        "\n",
        "summarized_dataframes_wo_portfolio_All.shape"
      ],
      "execution_count": 61,
      "outputs": [
        {
          "output_type": "execute_result",
          "data": {
            "text/plain": [
              "(330, 206)"
            ]
          },
          "metadata": {
            "tags": []
          },
          "execution_count": 61
        }
      ]
    },
    {
      "cell_type": "markdown",
      "metadata": {
        "id": "KUWLYJMmbXIy",
        "colab_type": "text"
      },
      "source": [
        "Separate out target and remaining data."
      ]
    },
    {
      "cell_type": "code",
      "metadata": {
        "id": "0HH5bPgebX64",
        "colab_type": "code",
        "colab": {}
      },
      "source": [
        "target_tst = summarized_dataframes_wo_portfolio['ln_LR']\n",
        "summarized_dataframes_wo_portfolio_org = summarized_dataframes_wo_portfolio_All.drop(['ln_LR'], axis=1)"
      ],
      "execution_count": 0,
      "outputs": []
    },
    {
      "cell_type": "markdown",
      "metadata": {
        "id": "aYtBBIQDQz8o",
        "colab_type": "text"
      },
      "source": [
        "Reorder the column names."
      ]
    },
    {
      "cell_type": "code",
      "metadata": {
        "id": "O3UdDdRaQzN0",
        "colab_type": "code",
        "colab": {}
      },
      "source": [
        "summarized_dataframes_wo_portfolio_All=summarized_dataframes_wo_portfolio_All[['PolicyNo_<210',\n",
        "'PolicyNo_210-300',\n",
        "'PolicyNo_300-345',\n",
        "'PolicyNo_>345',\n",
        "'Policy_Company_Preferred',\n",
        "'Policy_Installment_Term_12',\n",
        "'Policy_Billing_Code_Premium Finance',\n",
        "'Policy_Method_Of_Payment_Installment',\n",
        "'Policy_Reinstatement_Fee_Indicator_Y',\n",
        "'Vehicle_Territory_13',\n",
        "'Vehicle_Territory_15',\n",
        "'Vehicle_Territory_16',\n",
        "'Vehicle_Territory_17',\n",
        "'Vehicle_Territory_18',\n",
        "'Vehicle_Territory_19',\n",
        "'Vehicle_Territory_20',\n",
        "'Vehicle_Territory_22',\n",
        "'Vehicle_Territory_26',\n",
        "'Vehicle_Territory_27',\n",
        "'Vehicle_Territory_30',\n",
        "'Vehicle_Territory_31',\n",
        "'Vehicle_Territory_32',\n",
        "'Vehicle_Territory_35',\n",
        "'Vehicle_Territory_36',\n",
        "'Vehicle_Territory_37',\n",
        "'Vehicle_Make_Age',\n",
        "'Vehicle_Make_Age_0-5',\n",
        "'Vehicle_Make_Age_5-10',\n",
        "'Vehicle_Make_Age_10-20',\n",
        "'Vehicle_Make_Age_20-50',\n",
        "'Vehicle_Make_Age_>50',\n",
        "'Vehicle_Performance_High',\n",
        "'Vehicle_Performance_Intermediate',\n",
        "'Vehicle_Performance_Sports',\n",
        "'Vehicle_Performance_Sports Premium',\n",
        "'Vehicle_Performance_Standard',\n",
        "'Vehicle_New_Cost_Amount',\n",
        "'Vehicle_Symbol_1',\n",
        "'Vehicle_Symbol_2',\n",
        "'Vehicle_Symbol_3',\n",
        "'Vehicle_Symbol_4',\n",
        "'Vehicle_Symbol_5',\n",
        "'Vehicle_Symbol_6',\n",
        "'Vehicle_Symbol_7',\n",
        "'Vehicle_Symbol_8',\n",
        "'Vehicle_Symbol_10',\n",
        "'Vehicle_Symbol_11',\n",
        "'Vehicle_Symbol_12',\n",
        "'Vehicle_Symbol_13',\n",
        "'Vehicle_Symbol_14',\n",
        "'Vehicle_Symbol_15',\n",
        "'Vehicle_Symbol_16',\n",
        "'Vehicle_Symbol_17',\n",
        "'Vehicle_Symbol_18',\n",
        "'Vehicle_Symbol_19',\n",
        "'Vehicle_Symbol_20',\n",
        "'Vehicle_Symbol_21',\n",
        "'Vehicle_Symbol_22',\n",
        "'Vehicle_Symbol_23',\n",
        "'Vehicle_Symbol_24',\n",
        "'Vehicle_Symbol_25',\n",
        "'Vehicle_Symbol_26',\n",
        "'Vehicle_Symbol_27',\n",
        "'Vehicle_Number_Of_Drivers_Assigned',\n",
        "'Vehicle_Number_Of_Drivers_Assigned_1',\n",
        "'Vehicle_Number_Of_Drivers_Assigned_2-8',\n",
        "'Vehicle_Number_Of_Drivers_Assigned_99',\n",
        "'Vehicle_Usage_Business',\n",
        "'Vehicle_Usage_Farm    ',\n",
        "'Vehicle_Usage_Pleasure',\n",
        "'Vehicle_Usage_Work    ',\n",
        "'Vehicle_Miles_To_Work',\n",
        "'Vehicle_Miles_To_Work_0-10',\n",
        "'Vehicle_Miles_To_Work_10-20',\n",
        "'Vehicle_Miles_To_Work_20-30',\n",
        "'Vehicle_Miles_To_Work_30-40',\n",
        "'Vehicle_Miles_To_Work_40-50',\n",
        "'Vehicle_Miles_To_Work_50-60',\n",
        "'Vehicle_Miles_To_Work_60-70',\n",
        "'Vehicle_Miles_To_Work_70-80',\n",
        "'Vehicle_Miles_To_Work_80-90',\n",
        "'Vehicle_Miles_To_Work_90-100',\n",
        "'Vehicle_Anti_Theft_Device_Active Disabling',\n",
        "'Vehicle_Anti_Theft_Device_Alarm Only',\n",
        "'Vehicle_Anti_Theft_Device_Not Applicable',\n",
        "'Vehicle_Anti_Theft_Device_Passive Disabling-Vehicle Recovery',\n",
        "'Vehicle_Passive_Restraint_Y',\n",
        "'Vehicle_Age_In_Years_1',\n",
        "'Vehicle_Age_In_Years_2',\n",
        "'Vehicle_Age_In_Years_3',\n",
        "'Vehicle_Age_In_Years_4',\n",
        "'Vehicle_Age_In_Years_5',\n",
        "'Vehicle_Age_In_Years_6',\n",
        "'Vehicle_Age_In_Years_7',\n",
        "'Vehicle_Age_In_Years_8',\n",
        "'Vehicle_Age_In_Years_9',\n",
        "'Vehicle_Med_Pay_Limit_1000',\n",
        "'Vehicle_Med_Pay_Limit_2000',\n",
        "'Vehicle_Med_Pay_Limit_5000',\n",
        "'Vehicle_Med_Pay_Limit_10000',\n",
        "'Vehicle_Med_Pay_Limit_25000',\n",
        "'Vehicle_Med_Pay_Limit_50000',\n",
        "'Vehicle_Bodily_Injury_Limit_25-50  ',\n",
        "'Vehicle_Bodily_Injury_Limit_50-100 ',\n",
        "'Vehicle_Bodily_Injury_Limit_100-500',\n",
        "'Vehicle_Bodily_Injury_Limit_100-300',\n",
        "'Vehicle_Bodily_Injury_Limit_250-500',\n",
        "'Vehicle_Bodily_Injury_Limit_300-500',\n",
        "'Vehicle_Bodily_Injury_Limit_500-500',\n",
        "'Vehicle_Bodily_Injury_Limit_1M-1M  ',\n",
        "'Vehicle_Physical_Damage_Limit_25000',\n",
        "'Vehicle_Physical_Damage_Limit_35000',\n",
        "'Vehicle_Physical_Damage_Limit_50000',\n",
        "'Vehicle_Physical_Damage_Limit_100000',\n",
        "'Vehicle_Physical_Damage_Limit_250000',\n",
        "'Vehicle_Physical_Damage_Limit_500000',\n",
        "'Vehicle_Physical_Damage_Limit_1000000',\n",
        "'Vehicle_Comprehensive_Coverage_Indicator_Y',\n",
        "'Vehicle_Comprehensive_Coverage_Limit',\n",
        "'Vehicle_Collision_Coverage_Indicator_Y',\n",
        "'Vehicle_Collision_Coverage_Deductible_50',\n",
        "'Vehicle_Collision_Coverage_Deductible_100',\n",
        "'Vehicle_Collision_Coverage_Deductible_200',\n",
        "'Vehicle_Collision_Coverage_Deductible_250',\n",
        "'Vehicle_Collision_Coverage_Deductible_500',\n",
        "'Vehicle_Collision_Coverage_Deductible_1000',\n",
        "'Vehicle_Collision_Coverage_Deductible_2000',\n",
        "'Vehicle_Collision_Coverage_Deductible_3000',\n",
        "'Driver_Minimum_Age',\n",
        "'Driver_Maximum_Age',\n",
        "'Driver_Total_Teenager_Age_15_19',\n",
        "'Driver_Total_College_Ages_20_23',\n",
        "'Driver_Total_Young_Adult_Ages_24_29',\n",
        "'Driver_Total_Low_Middle_Adult_Ages_30_39',\n",
        "'Driver_Total_Middle_Adult_Ages_40_49',\n",
        "'Driver_Total_Adult_Ages_50_64',\n",
        "'Driver_Total_Senior_Ages_65_69',\n",
        "'Driver_Total_Upper_Senior_Ages_70_plus',\n",
        "'Vehicle_Youthful_Driver_Indicator_Y',\n",
        "'Vehicle_Youthful_Driver_Training_Code_With Driver Training           ',\n",
        "'Vehicle_Youthful_Driver_Training_Code_With or Without Driver Training',\n",
        "'Vehicle_Youthful_Driver_Training_Code_Without Driver Training        ',\n",
        "'Vehicle_Youthful_Good_Student_Code_Eligible for Good Student Credit    ',\n",
        "'Vehicle_Driver_Points_0',\n",
        "'Vehicle_Driver_Points_1',\n",
        "'Vehicle_Driver_Points_2',\n",
        "'Vehicle_Driver_Points_3',\n",
        "'Vehicle_Driver_Points_4',\n",
        "'Vehicle_Driver_Points_5',\n",
        "'Vehicle_Driver_Points_6',\n",
        "'Vehicle_Driver_Points_7',\n",
        "'Vehicle_Safe_Driver_Discount_Indicator_N',\n",
        "'EEA_Liability_Coverage_Only_Indicator_N',\n",
        "'EEA_Multi_Auto_Policies_Indicator_N',\n",
        "'EEA_Policy_Tenure',\n",
        "'EEA_Policy_Tenure_0-10',\n",
        "'EEA_Policy_Tenure_10-20',\n",
        "'EEA_Policy_Tenure_20-30',\n",
        "'EEA_Policy_Tenure_30-40',\n",
        "'EEA_Policy_Tenure_40-50',\n",
        "'EEA_Policy_Tenure_50-60',\n",
        "'EEA_Agency_Type_Hybrid',\n",
        "'EEA_Agency_Type_Non-standard',\n",
        "'EEA_Agency_Type_Preferred',\n",
        "'EEA_Agency_Type_Standard',\n",
        "'EEA_Packaged_Policy_Indicator_Y',\n",
        "'EEA_Full_Coverage_Indicator_Y',\n",
        "'EEA_Prior_Bodily_Injury_Limit_100-200',\n",
        "'EEA_Prior_Bodily_Injury_Limit_100-400',\n",
        "'EEA_Prior_Bodily_Injury_Limit_20-50',\n",
        "'EEA_Prior_Bodily_Injury_Limit_200-400',\n",
        "'EEA_Prior_Bodily_Injury_Limit_300-300',\n",
        "'EEA_Prior_Bodily_Injury_Limit_40-100 ',\n",
        "'EEA_Prior_Bodily_Injury_Limit_75-300',\n",
        "'EEA_Prior_Bodily_Injury_Limit_750-750',\n",
        "'SYS_Renewed_N',\n",
        "'SYS_New_Business_Y',\n",
        "'Annual_Premium',\n",
        "'Annual_Premium_0-1000',\n",
        "'Annual_Premium_1000-2000',\n",
        "'Annual_Premium_2000-3000',\n",
        "'Annual_Premium_3000-4000',\n",
        "'ln_LR'\n",
        "]]"
      ],
      "execution_count": 0,
      "outputs": []
    },
    {
      "cell_type": "code",
      "metadata": {
        "id": "MZyD_8JdRsQS",
        "colab_type": "code",
        "colab": {
          "base_uri": "https://localhost:8080/",
          "height": 35
        },
        "outputId": "13af4502-8fb3-491e-8d58-64133f4388a4"
      },
      "source": [
        "summarized_dataframes_wo_portfolio_All.shape"
      ],
      "execution_count": 73,
      "outputs": [
        {
          "output_type": "execute_result",
          "data": {
            "text/plain": [
              "(330, 183)"
            ]
          },
          "metadata": {
            "tags": []
          },
          "execution_count": 73
        }
      ]
    },
    {
      "cell_type": "code",
      "metadata": {
        "id": "hx19OdwQRu0l",
        "colab_type": "code",
        "colab": {
          "base_uri": "https://localhost:8080/",
          "height": 177
        },
        "outputId": "c6689d6c-d106-4761-ee60-83ac2c756dca"
      },
      "source": [
        "summarized_dataframes_wo_portfolio_All.head(2)"
      ],
      "execution_count": 74,
      "outputs": [
        {
          "output_type": "execute_result",
          "data": {
            "text/html": [
              "<div>\n",
              "<style scoped>\n",
              "    .dataframe tbody tr th:only-of-type {\n",
              "        vertical-align: middle;\n",
              "    }\n",
              "\n",
              "    .dataframe tbody tr th {\n",
              "        vertical-align: top;\n",
              "    }\n",
              "\n",
              "    .dataframe thead th {\n",
              "        text-align: right;\n",
              "    }\n",
              "</style>\n",
              "<table border=\"1\" class=\"dataframe\">\n",
              "  <thead>\n",
              "    <tr style=\"text-align: right;\">\n",
              "      <th></th>\n",
              "      <th>PolicyNo_&lt;210</th>\n",
              "      <th>PolicyNo_210-300</th>\n",
              "      <th>PolicyNo_300-345</th>\n",
              "      <th>PolicyNo_&gt;345</th>\n",
              "      <th>Policy_Company_Preferred</th>\n",
              "      <th>Policy_Installment_Term_12</th>\n",
              "      <th>Policy_Billing_Code_Premium Finance</th>\n",
              "      <th>Policy_Method_Of_Payment_Installment</th>\n",
              "      <th>Policy_Reinstatement_Fee_Indicator_Y</th>\n",
              "      <th>Vehicle_Territory_13</th>\n",
              "      <th>Vehicle_Territory_15</th>\n",
              "      <th>Vehicle_Territory_16</th>\n",
              "      <th>Vehicle_Territory_17</th>\n",
              "      <th>Vehicle_Territory_18</th>\n",
              "      <th>Vehicle_Territory_19</th>\n",
              "      <th>Vehicle_Territory_20</th>\n",
              "      <th>Vehicle_Territory_22</th>\n",
              "      <th>Vehicle_Territory_26</th>\n",
              "      <th>Vehicle_Territory_27</th>\n",
              "      <th>Vehicle_Territory_30</th>\n",
              "      <th>Vehicle_Territory_31</th>\n",
              "      <th>Vehicle_Territory_32</th>\n",
              "      <th>Vehicle_Territory_35</th>\n",
              "      <th>Vehicle_Territory_36</th>\n",
              "      <th>Vehicle_Territory_37</th>\n",
              "      <th>Vehicle_Make_Age</th>\n",
              "      <th>Vehicle_Make_Age_0-5</th>\n",
              "      <th>Vehicle_Make_Age_5-10</th>\n",
              "      <th>Vehicle_Make_Age_10-20</th>\n",
              "      <th>Vehicle_Make_Age_20-50</th>\n",
              "      <th>Vehicle_Make_Age_&gt;50</th>\n",
              "      <th>Vehicle_Performance_High</th>\n",
              "      <th>Vehicle_Performance_Intermediate</th>\n",
              "      <th>Vehicle_Performance_Sports</th>\n",
              "      <th>Vehicle_Performance_Sports Premium</th>\n",
              "      <th>Vehicle_Performance_Standard</th>\n",
              "      <th>Vehicle_New_Cost_Amount</th>\n",
              "      <th>Vehicle_Symbol_1</th>\n",
              "      <th>Vehicle_Symbol_2</th>\n",
              "      <th>Vehicle_Symbol_3</th>\n",
              "      <th>...</th>\n",
              "      <th>Vehicle_Driver_Points_0</th>\n",
              "      <th>Vehicle_Driver_Points_1</th>\n",
              "      <th>Vehicle_Driver_Points_2</th>\n",
              "      <th>Vehicle_Driver_Points_3</th>\n",
              "      <th>Vehicle_Driver_Points_4</th>\n",
              "      <th>Vehicle_Driver_Points_5</th>\n",
              "      <th>Vehicle_Driver_Points_6</th>\n",
              "      <th>Vehicle_Driver_Points_7</th>\n",
              "      <th>Vehicle_Safe_Driver_Discount_Indicator_N</th>\n",
              "      <th>EEA_Liability_Coverage_Only_Indicator_N</th>\n",
              "      <th>EEA_Multi_Auto_Policies_Indicator_N</th>\n",
              "      <th>EEA_Policy_Tenure</th>\n",
              "      <th>EEA_Policy_Tenure_0-10</th>\n",
              "      <th>EEA_Policy_Tenure_10-20</th>\n",
              "      <th>EEA_Policy_Tenure_20-30</th>\n",
              "      <th>EEA_Policy_Tenure_30-40</th>\n",
              "      <th>EEA_Policy_Tenure_40-50</th>\n",
              "      <th>EEA_Policy_Tenure_50-60</th>\n",
              "      <th>EEA_Agency_Type_Hybrid</th>\n",
              "      <th>EEA_Agency_Type_Non-standard</th>\n",
              "      <th>EEA_Agency_Type_Preferred</th>\n",
              "      <th>EEA_Agency_Type_Standard</th>\n",
              "      <th>EEA_Packaged_Policy_Indicator_Y</th>\n",
              "      <th>EEA_Full_Coverage_Indicator_Y</th>\n",
              "      <th>EEA_Prior_Bodily_Injury_Limit_100-200</th>\n",
              "      <th>EEA_Prior_Bodily_Injury_Limit_100-400</th>\n",
              "      <th>EEA_Prior_Bodily_Injury_Limit_20-50</th>\n",
              "      <th>EEA_Prior_Bodily_Injury_Limit_200-400</th>\n",
              "      <th>EEA_Prior_Bodily_Injury_Limit_300-300</th>\n",
              "      <th>EEA_Prior_Bodily_Injury_Limit_40-100</th>\n",
              "      <th>EEA_Prior_Bodily_Injury_Limit_75-300</th>\n",
              "      <th>EEA_Prior_Bodily_Injury_Limit_750-750</th>\n",
              "      <th>SYS_Renewed_N</th>\n",
              "      <th>SYS_New_Business_Y</th>\n",
              "      <th>Annual_Premium</th>\n",
              "      <th>Annual_Premium_0-1000</th>\n",
              "      <th>Annual_Premium_1000-2000</th>\n",
              "      <th>Annual_Premium_2000-3000</th>\n",
              "      <th>Annual_Premium_3000-4000</th>\n",
              "      <th>ln_LR</th>\n",
              "    </tr>\n",
              "  </thead>\n",
              "  <tbody>\n",
              "    <tr>\n",
              "      <th>0</th>\n",
              "      <td>9</td>\n",
              "      <td>24.5</td>\n",
              "      <td>26.6</td>\n",
              "      <td>39.9</td>\n",
              "      <td>5.6</td>\n",
              "      <td>2.7</td>\n",
              "      <td>1.3</td>\n",
              "      <td>49.2</td>\n",
              "      <td>12</td>\n",
              "      <td>1.3</td>\n",
              "      <td>0.1</td>\n",
              "      <td>0.6</td>\n",
              "      <td>1</td>\n",
              "      <td>0.3</td>\n",
              "      <td>0.5</td>\n",
              "      <td>0.4</td>\n",
              "      <td>0.4</td>\n",
              "      <td>1.2</td>\n",
              "      <td>5</td>\n",
              "      <td>17.1</td>\n",
              "      <td>40.5</td>\n",
              "      <td>2</td>\n",
              "      <td>26.4</td>\n",
              "      <td>1.1</td>\n",
              "      <td>2.1</td>\n",
              "      <td>12.316</td>\n",
              "      <td>11.6</td>\n",
              "      <td>31.5</td>\n",
              "      <td>42.1</td>\n",
              "      <td>14.6</td>\n",
              "      <td>0.2</td>\n",
              "      <td>1.3</td>\n",
              "      <td>3.1</td>\n",
              "      <td>0.1</td>\n",
              "      <td>0.3</td>\n",
              "      <td>95.2</td>\n",
              "      <td>484010</td>\n",
              "      <td>0.2</td>\n",
              "      <td>0.5</td>\n",
              "      <td>0.7</td>\n",
              "      <td>...</td>\n",
              "      <td>91.8</td>\n",
              "      <td>7</td>\n",
              "      <td>1.2</td>\n",
              "      <td>0</td>\n",
              "      <td>0</td>\n",
              "      <td>0</td>\n",
              "      <td>0</td>\n",
              "      <td>0</td>\n",
              "      <td>38.5</td>\n",
              "      <td>74</td>\n",
              "      <td>13.7</td>\n",
              "      <td>6006.0</td>\n",
              "      <td>78.6</td>\n",
              "      <td>16.4</td>\n",
              "      <td>4.2</td>\n",
              "      <td>0.8</td>\n",
              "      <td>0</td>\n",
              "      <td>0</td>\n",
              "      <td>31</td>\n",
              "      <td>18.3</td>\n",
              "      <td>25.9</td>\n",
              "      <td>24.8</td>\n",
              "      <td>48.6</td>\n",
              "      <td>62.8</td>\n",
              "      <td>30</td>\n",
              "      <td>4.9</td>\n",
              "      <td>33.3</td>\n",
              "      <td>0.1</td>\n",
              "      <td>0.1</td>\n",
              "      <td>25.5</td>\n",
              "      <td>0.2</td>\n",
              "      <td>0</td>\n",
              "      <td>8.9</td>\n",
              "      <td>9.7</td>\n",
              "      <td>328510.99</td>\n",
              "      <td>99.3</td>\n",
              "      <td>0.7</td>\n",
              "      <td>0</td>\n",
              "      <td>0</td>\n",
              "      <td>-1.738229</td>\n",
              "    </tr>\n",
              "    <tr>\n",
              "      <th>0</th>\n",
              "      <td>7.5</td>\n",
              "      <td>26.4</td>\n",
              "      <td>24.9</td>\n",
              "      <td>41.2</td>\n",
              "      <td>6</td>\n",
              "      <td>2.9</td>\n",
              "      <td>1.6</td>\n",
              "      <td>51.3</td>\n",
              "      <td>11.5</td>\n",
              "      <td>0.7</td>\n",
              "      <td>0.5</td>\n",
              "      <td>1</td>\n",
              "      <td>1.9</td>\n",
              "      <td>0.5</td>\n",
              "      <td>0.5</td>\n",
              "      <td>0.7</td>\n",
              "      <td>0</td>\n",
              "      <td>0.7</td>\n",
              "      <td>4.3</td>\n",
              "      <td>17.8</td>\n",
              "      <td>40.2</td>\n",
              "      <td>2.7</td>\n",
              "      <td>25.2</td>\n",
              "      <td>0.9</td>\n",
              "      <td>2.4</td>\n",
              "      <td>12.298</td>\n",
              "      <td>10</td>\n",
              "      <td>30.7</td>\n",
              "      <td>44.1</td>\n",
              "      <td>15.1</td>\n",
              "      <td>0.1</td>\n",
              "      <td>0.7</td>\n",
              "      <td>2.8</td>\n",
              "      <td>0.3</td>\n",
              "      <td>0.2</td>\n",
              "      <td>96</td>\n",
              "      <td>112000</td>\n",
              "      <td>0.2</td>\n",
              "      <td>0.3</td>\n",
              "      <td>1.5</td>\n",
              "      <td>...</td>\n",
              "      <td>89.5</td>\n",
              "      <td>8.7</td>\n",
              "      <td>1.7</td>\n",
              "      <td>0.1</td>\n",
              "      <td>0</td>\n",
              "      <td>0</td>\n",
              "      <td>0</td>\n",
              "      <td>0</td>\n",
              "      <td>38.7</td>\n",
              "      <td>70.8</td>\n",
              "      <td>10.7</td>\n",
              "      <td>5842.0</td>\n",
              "      <td>79.5</td>\n",
              "      <td>16.6</td>\n",
              "      <td>3.5</td>\n",
              "      <td>0.3</td>\n",
              "      <td>0.1</td>\n",
              "      <td>0</td>\n",
              "      <td>29.7</td>\n",
              "      <td>20.8</td>\n",
              "      <td>24.1</td>\n",
              "      <td>25.4</td>\n",
              "      <td>46.7</td>\n",
              "      <td>61.2</td>\n",
              "      <td>32.4</td>\n",
              "      <td>4.6</td>\n",
              "      <td>35.3</td>\n",
              "      <td>0.2</td>\n",
              "      <td>0</td>\n",
              "      <td>23.7</td>\n",
              "      <td>0</td>\n",
              "      <td>0</td>\n",
              "      <td>11.7</td>\n",
              "      <td>9.6</td>\n",
              "      <td>328708.33</td>\n",
              "      <td>99</td>\n",
              "      <td>1</td>\n",
              "      <td>0</td>\n",
              "      <td>0</td>\n",
              "      <td>-2.184304</td>\n",
              "    </tr>\n",
              "  </tbody>\n",
              "</table>\n",
              "<p>2 rows × 183 columns</p>\n",
              "</div>"
            ],
            "text/plain": [
              "  PolicyNo_<210 PolicyNo_210-300  ... Annual_Premium_3000-4000     ln_LR\n",
              "0             9             24.5  ...                        0 -1.738229\n",
              "0           7.5             26.4  ...                        0 -2.184304\n",
              "\n",
              "[2 rows x 183 columns]"
            ]
          },
          "metadata": {
            "tags": []
          },
          "execution_count": 74
        }
      ]
    },
    {
      "cell_type": "markdown",
      "metadata": {
        "id": "gW-3I8nhSSfA",
        "colab_type": "text"
      },
      "source": [
        "Separate out target and remaining data."
      ]
    },
    {
      "cell_type": "code",
      "metadata": {
        "id": "NbCg37c-STW_",
        "colab_type": "code",
        "colab": {}
      },
      "source": [
        "target_tst = summarized_dataframes_wo_portfolio['ln_LR']\n",
        "summarized_dataframes_wo_portfolio_org = summarized_dataframes_wo_portfolio_All.drop(['ln_LR'], axis=1)"
      ],
      "execution_count": 0,
      "outputs": []
    },
    {
      "cell_type": "markdown",
      "metadata": {
        "id": "s4ngV6KHSlQs",
        "colab_type": "text"
      },
      "source": [
        "L2 CV"
      ]
    },
    {
      "cell_type": "code",
      "metadata": {
        "id": "p6KHeZCYSmzG",
        "colab_type": "code",
        "colab": {}
      },
      "source": [
        "#Scale the independent data\n",
        "\n",
        "from sklearn.preprocessing import StandardScaler\n",
        "\n",
        "scale =StandardScaler()\n",
        "scaled_data = scale.fit_transform(summarized_dataframes_wo_portfolio_org)"
      ],
      "execution_count": 0,
      "outputs": []
    },
    {
      "cell_type": "code",
      "metadata": {
        "id": "BxPIFPKTULBH",
        "colab_type": "code",
        "colab": {
          "base_uri": "https://localhost:8080/",
          "height": 35
        },
        "outputId": "354292b9-a294-4d49-c74b-c15c9465fe4b"
      },
      "source": [
        "l2_cv = RidgeCV(alphas = np.linspace(0.1,1000,num=100), cv=None, store_cv_values=True)\n",
        "l2_cv.fit(scaled_data, target_tst)\n",
        "pred_train_l2=l2_cv.predict(scaled_data)\n",
        "mae_train_l2 = mean_absolute_error(target_tst, pred_train_l2)\n",
        "print(\"MAE on training data = \", mae_train_l2)"
      ],
      "execution_count": 77,
      "outputs": [
        {
          "output_type": "stream",
          "text": [
            "Predicted MAE on training data =  0.4133859557906583\n"
          ],
          "name": "stdout"
        }
      ]
    },
    {
      "cell_type": "markdown",
      "metadata": {
        "id": "B-cWqzQuURaY",
        "colab_type": "text"
      },
      "source": [
        "Expected MAE"
      ]
    },
    {
      "cell_type": "code",
      "metadata": {
        "id": "OQexjDTlUTei",
        "colab_type": "code",
        "colab": {
          "base_uri": "https://localhost:8080/",
          "height": 35
        },
        "outputId": "a6d62a78-b482-4ef0-eefd-274785843fb8"
      },
      "source": [
        "cv_values_sqrt = np.sqrt(l2_cv.cv_values_)\n",
        "\n",
        "l2_pred_mean = cv_values_sqrt.mean(axis=0)\n",
        "l2_pred_mae = min(l2_pred_mean)\n",
        "print(l2_pred_mae)"
      ],
      "execution_count": 78,
      "outputs": [
        {
          "output_type": "stream",
          "text": [
            "0.48782953918361666\n"
          ],
          "name": "stdout"
        }
      ]
    }
  ]
}