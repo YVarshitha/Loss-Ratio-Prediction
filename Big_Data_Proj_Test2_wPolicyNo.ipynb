{
  "nbformat": 4,
  "nbformat_minor": 0,
  "metadata": {
    "colab": {
      "name": "Big_Data_Proj_Test2_wPolicyNo.ipynb",
      "provenance": []
    },
    "kernelspec": {
      "name": "python3",
      "display_name": "Python 3"
    }
  },
  "cells": [
    {
      "cell_type": "code",
      "metadata": {
        "id": "E3iW2PKJUwe_",
        "colab_type": "code",
        "colab": {}
      },
      "source": [
        "import random\n",
        "import pandas as pd\n",
        "import numpy as np\n",
        "import sklearn\n",
        "import math\n",
        "from sklearn import preprocessing\n",
        "from sklearn.metrics import mean_squared_error\n",
        "from sklearn.ensemble import RandomForestRegressor\n",
        "from sklearn.preprocessing import LabelEncoder\n",
        "from sklearn.model_selection import train_test_split\n",
        "from sklearn.metrics import mean_absolute_error\n",
        "from sklearn.utils import shuffle\n",
        "from sklearn.preprocessing import StandardScaler\n",
        "from sklearn.decomposition import PCA\n",
        "import matplotlib.pyplot as plt\n",
        "from sklearn.linear_model import Ridge, RidgeCV, LassoCV"
      ],
      "execution_count": 0,
      "outputs": []
    },
    {
      "cell_type": "code",
      "metadata": {
        "id": "taMMuxQ2b0wa",
        "colab_type": "code",
        "outputId": "5cc40374-ab07-460f-ec4a-7f122a616a3f",
        "colab": {
          "base_uri": "https://localhost:8080/",
          "height": 72
        }
      },
      "source": [
        "test_data = pd.read_csv('test_data_full.csv')"
      ],
      "execution_count": 0,
      "outputs": [
        {
          "output_type": "stream",
          "text": [
            "/usr/local/lib/python3.6/dist-packages/IPython/core/interactiveshell.py:2718: DtypeWarning: Columns (8,56) have mixed types. Specify dtype option on import or set low_memory=False.\n",
            "  interactivity=interactivity, compiler=compiler, result=result)\n"
          ],
          "name": "stderr"
        }
      ]
    },
    {
      "cell_type": "markdown",
      "metadata": {
        "id": "ZJpie9Qub4V_",
        "colab_type": "text"
      },
      "source": [
        "Replace the 'Unknown' to NA so as to make it recognizable as a missing value."
      ]
    },
    {
      "cell_type": "code",
      "metadata": {
        "id": "qvCzADWmb5rU",
        "colab_type": "code",
        "colab": {}
      },
      "source": [
        "missing=\"Unknown\"\n",
        "testing_data=pd.read_csv('test_data_full.csv',na_values = missing)"
      ],
      "execution_count": 0,
      "outputs": []
    },
    {
      "cell_type": "markdown",
      "metadata": {
        "id": "IMPynqa9b9L3",
        "colab_type": "text"
      },
      "source": [
        "Drop the variables that are not required from the start."
      ]
    },
    {
      "cell_type": "code",
      "metadata": {
        "id": "PuGzUuKZb9tu",
        "colab_type": "code",
        "colab": {}
      },
      "source": [
        "testing_data_copy=testing_data.drop(['Policy_Zip_Code_Garaging_Location','EEA_Policy_Zip_Code_3','EEA_PolicyYear','Vehicle_Make_Description'], axis=1)"
      ],
      "execution_count": 0,
      "outputs": []
    },
    {
      "cell_type": "code",
      "metadata": {
        "id": "TJUQr29ohGWI",
        "colab_type": "code",
        "outputId": "d5e9fa14-56a9-4b08-ffb6-b84e94bb387a",
        "colab": {
          "base_uri": "https://localhost:8080/",
          "height": 35
        }
      },
      "source": [
        "testing_data_copy.shape"
      ],
      "execution_count": 0,
      "outputs": [
        {
          "output_type": "execute_result",
          "data": {
            "text/plain": [
              "(985168, 62)"
            ]
          },
          "metadata": {
            "tags": []
          },
          "execution_count": 5
        }
      ]
    },
    {
      "cell_type": "markdown",
      "metadata": {
        "id": "QYw5ozg8cMaC",
        "colab_type": "text"
      },
      "source": [
        "Make bins for Policy Number."
      ]
    },
    {
      "cell_type": "code",
      "metadata": {
        "id": "M1WUmpgtcNOg",
        "colab_type": "code",
        "colab": {}
      },
      "source": [
        "testing_data_copy['PolicyNo_<210']=testing_data_copy.apply(lambda _: '', axis=1)\n",
        "testing_data_copy['PolicyNo_210-300']=testing_data_copy.apply(lambda _: '', axis=1)\n",
        "testing_data_copy['PolicyNo_300-345']=testing_data_copy.apply(lambda _: '', axis=1)\n",
        "testing_data_copy['PolicyNo_>345']=testing_data_copy.apply(lambda _: '', axis=1)"
      ],
      "execution_count": 0,
      "outputs": []
    },
    {
      "cell_type": "code",
      "metadata": {
        "id": "5GJDYMRXcWcM",
        "colab_type": "code",
        "outputId": "ddd52876-7e98-4954-dc72-f4de72e73ac1",
        "colab": {
          "base_uri": "https://localhost:8080/",
          "height": 72
        }
      },
      "source": [
        "for i in testing_data_copy.index:\n",
        "\n",
        "  record = testing_data_copy.get_value(i,'PolicyNo')\n",
        "\n",
        "  if record <210000000:\n",
        "     testing_data_copy.at[i,'PolicyNo_<210']=1\n",
        "  else:\n",
        "     testing_data_copy.at[ i,'PolicyNo_<210']=0\n",
        "\n",
        "  if record >= 210000000 and record<300000000:\n",
        "     testing_data_copy.at[ i,'PolicyNo_210-300']=1\n",
        "  else:\n",
        "     testing_data_copy.at[ i,'PolicyNo_210-300']=0\n",
        "\n",
        "  if record >=300000000 and record<345000000:\n",
        "     testing_data_copy.at[ i,'PolicyNo_300-345']=1\n",
        "  else:\n",
        "     testing_data_copy.at[ i,'PolicyNo_300-345']=0\n",
        "\n",
        "  if record >=345000000:\n",
        "     testing_data_copy.at[ i,'PolicyNo_>345']=1\n",
        "  else:\n",
        "     testing_data_copy.at[ i,'PolicyNo_>345']=0\n"
      ],
      "execution_count": 0,
      "outputs": [
        {
          "output_type": "stream",
          "text": [
            "/usr/local/lib/python3.6/dist-packages/ipykernel_launcher.py:3: FutureWarning: get_value is deprecated and will be removed in a future release. Please use .at[] or .iat[] accessors instead\n",
            "  This is separate from the ipykernel package so we can avoid doing imports until\n"
          ],
          "name": "stderr"
        }
      ]
    },
    {
      "cell_type": "code",
      "metadata": {
        "id": "VkGV4iI_hhYt",
        "colab_type": "code",
        "outputId": "1a87af3b-4bc5-403f-c141-0f41c209e7e2",
        "colab": {
          "base_uri": "https://localhost:8080/",
          "height": 35
        }
      },
      "source": [
        "testing_data_copy.shape"
      ],
      "execution_count": 0,
      "outputs": [
        {
          "output_type": "execute_result",
          "data": {
            "text/plain": [
              "(985168, 66)"
            ]
          },
          "metadata": {
            "tags": []
          },
          "execution_count": 9
        }
      ]
    },
    {
      "cell_type": "markdown",
      "metadata": {
        "id": "XGaPC3Vkcz4c",
        "colab_type": "text"
      },
      "source": [
        "Encode the data using get_dummies()."
      ]
    },
    {
      "cell_type": "code",
      "metadata": {
        "id": "QhCnfc8Qc1pi",
        "colab_type": "code",
        "colab": {}
      },
      "source": [
        "encod_test = pd.get_dummies(testing_data_copy,dummy_na=False, columns=['Policy_Company',\n",
        " 'Policy_Installment_Term',\n",
        " 'Policy_Billing_Code',\n",
        " 'Policy_Method_Of_Payment',\n",
        " 'Policy_Reinstatement_Fee_Indicator',\n",
        " 'Vehicle_Territory',\n",
        " 'Vehicle_Performance',\n",
        " 'Vehicle_Symbol',\n",
        " 'Vehicle_Usage',\n",
        " 'Vehicle_Days_Per_Week_Driven',\n",
        " 'Vehicle_Anti_Theft_Device',\n",
        " 'Vehicle_Passive_Restraint',\n",
        " 'Vehicle_Age_In_Years',\n",
        " 'Vehicle_Med_Pay_Limit',\n",
        " 'Vehicle_Bodily_Injury_Limit',\n",
        " 'Vehicle_Physical_Damage_Limit',\n",
        " 'Vehicle_Comprehensive_Coverage_Indicator',\n",
        " 'Vehicle_Collision_Coverage_Indicator',\n",
        " 'Vehicle_Collision_Coverage_Deductible',\n",
        " 'Vehicle_Youthful_Driver_Indicator', \n",
        " 'Vehicle_Youthful_Driver_Training_Code',\n",
        " 'Vehicle_Youthful_Good_Student_Code',\n",
        " 'Vehicle_Driver_Points',\n",
        " 'Vehicle_Safe_Driver_Discount_Indicator',\n",
        " 'EEA_Liability_Coverage_Only_Indicator',\n",
        " 'EEA_Multi_Auto_Policies_Indicator',\n",
        " 'EEA_Agency_Type',\n",
        " 'EEA_Packaged_Policy_Indicator',\n",
        " 'EEA_Full_Coverage_Indicator',\n",
        " 'EEA_Prior_Bodily_Injury_Limit',\n",
        " 'SYS_Renewed',\n",
        " 'SYS_New_Business',\n",
        " ])"
      ],
      "execution_count": 0,
      "outputs": []
    },
    {
      "cell_type": "code",
      "metadata": {
        "id": "8Td4hALnhlKS",
        "colab_type": "code",
        "outputId": "4da76a69-67bd-4597-c9fc-24161bbd9105",
        "colab": {
          "base_uri": "https://localhost:8080/",
          "height": 35
        }
      },
      "source": [
        "encod_test.shape"
      ],
      "execution_count": 0,
      "outputs": [
        {
          "output_type": "execute_result",
          "data": {
            "text/plain": [
              "(985168, 201)"
            ]
          },
          "metadata": {
            "tags": []
          },
          "execution_count": 11
        }
      ]
    },
    {
      "cell_type": "markdown",
      "metadata": {
        "id": "jRVNkyXcc761",
        "colab_type": "text"
      },
      "source": [
        "Create new variables to be added to the encod_test data."
      ]
    },
    {
      "cell_type": "code",
      "metadata": {
        "id": "Su2dAgntc8do",
        "colab_type": "code",
        "outputId": "f5bb2e00-c148-4c36-fc92-086cf9aada12",
        "colab": {
          "base_uri": "https://localhost:8080/",
          "height": 143
        }
      },
      "source": [
        "encod_test['Vehicle_Bodily_Injury_Limit_100-500_new']=encod_test['Vehicle_Bodily_Injury_Limit_100-300']+encod_test['Vehicle_Bodily_Injury_Limit_250-500']+encod_test['Vehicle_Bodily_Injury_Limit_300-500']+encod_test['Vehicle_Bodily_Injury_Limit_500-500']+encod_test['Vehicle_Bodily_Injury_Limit_100-500']\n",
        "encod_test['Vehicle_Bodily_Injury_Limit_25-100_new']=encod_test['Vehicle_Bodily_Injury_Limit_25-50  ']+encod_test['Vehicle_Bodily_Injury_Limit_50-100 ']\n",
        "\n",
        "encod_test['Vehicle_Make_Age']=encod_test.apply(lambda _: '', axis=1)\n",
        "encod_test['Vehicle_Make_Age']=abs(2009-encod_test['Vehicle_Make_Year'])\n",
        "encod_test['Vehicle_Make_Age_0-5']=encod_test.apply(lambda _: '', axis=1)\n",
        "encod_test['Vehicle_Make_Age_5-10']=encod_test.apply(lambda _: '', axis=1)\n",
        "encod_test['Vehicle_Make_Age_10-20']=encod_test.apply(lambda _: '', axis=1)\n",
        "encod_test['Vehicle_Make_Age_20-50']=encod_test.apply(lambda _: '', axis=1)\n",
        "encod_test['Vehicle_Make_Age_>50']=encod_test.apply(lambda _: '', axis=1)\n",
        "\n",
        "for i in encod_test.index:\n",
        "\n",
        "  record = encod_test.get_value(i,'Vehicle_Make_Age')\n",
        "\n",
        "  if record >= 0 and record<5:\n",
        "     encod_test.at[i,'Vehicle_Make_Age_0-5']=1\n",
        "  else:\n",
        "     encod_test.at[ i,'Vehicle_Make_Age_0-5']=0\n",
        "\n",
        "  if record >= 5 and record<10:\n",
        "     encod_test.at[ i,'Vehicle_Make_Age_5-10']=1\n",
        "  else:\n",
        "     encod_test.at[ i,'Vehicle_Make_Age_5-10']=0\n",
        "\n",
        "  if record >=10 and record<20:\n",
        "     encod_test.at[ i,'Vehicle_Make_Age_10-20']=1\n",
        "  else:\n",
        "     encod_test.at[ i,'Vehicle_Make_Age_10-20']=0\n",
        "\n",
        "  if record >=20 and record<50:\n",
        "     encod_test.at[ i,'Vehicle_Make_Age_20-50']=1\n",
        "  else:\n",
        "     encod_test.at[ i,'Vehicle_Make_Age_20-50']=0\n",
        "\n",
        "  if record >=50:\n",
        "     encod_test.at[ i,'Vehicle_Make_Age_>50']=1\n",
        "  else:\n",
        "     encod_test.at[ i,'Vehicle_Make_Age_>50']=0\n",
        "     \n",
        "encod_test['Vehicle_Number_Of_Drivers_Assigned_1']=encod_test.apply(lambda _: '', axis=1)\n",
        "encod_test['Vehicle_Number_Of_Drivers_Assigned_2-8']=encod_test.apply(lambda _: '', axis=1)\n",
        "encod_test['Vehicle_Number_Of_Drivers_Assigned_99']=encod_test.apply(lambda _: '', axis=1)\n",
        "\n",
        "for i in encod_test.index:\n",
        "\n",
        "  record = encod_test.get_value(i,'Vehicle_Number_Of_Drivers_Assigned')\n",
        "\n",
        "  if record == 1:\n",
        "    encod_test.at[ i,'Vehicle_Number_Of_Drivers_Assigned_1']=1\n",
        "  else:\n",
        "    encod_test.at[ i,'Vehicle_Number_Of_Drivers_Assigned_1']=0\n",
        "\n",
        "  if record >=2 and record<9:\n",
        "    encod_test.at[i,'Vehicle_Number_Of_Drivers_Assigned_2-8']=1\n",
        "  else:\n",
        "    encod_test.at[i,'Vehicle_Number_Of_Drivers_Assigned_2-8']=0\n",
        "\n",
        "  if record >= 99:\n",
        "    encod_test.at[i,'Vehicle_Number_Of_Drivers_Assigned_99']=1\n",
        "  else:\n",
        "    encod_test.at[i,'Vehicle_Number_Of_Drivers_Assigned_99']=0\n",
        "\n",
        "encod_test['EEA_Policy_Tenure_0-10']=encod_test.apply(lambda _: '', axis=1)\n",
        "encod_test['EEA_Policy_Tenure_10-20']=encod_test.apply(lambda _: '', axis=1)\n",
        "encod_test['EEA_Policy_Tenure_20-30']=encod_test.apply(lambda _: '', axis=1)\n",
        "encod_test['EEA_Policy_Tenure_30-40']=encod_test.apply(lambda _: '', axis=1)\n",
        "encod_test['EEA_Policy_Tenure_40-50']=encod_test.apply(lambda _: '', axis=1)\n",
        "encod_test['EEA_Policy_Tenure_50-60']=encod_test.apply(lambda _: '', axis=1)\n",
        "\n",
        "for i in encod_test.index:\n",
        "\n",
        "  record = encod_test.get_value(i,'EEA_Policy_Tenure')\n",
        "\n",
        "  if record >=0 and record < 10 :\n",
        "    encod_test.at[i,'EEA_Policy_Tenure_0-10']=1\n",
        "  else:\n",
        "    encod_test.at[i,'EEA_Policy_Tenure_0-10']=0\n",
        "\n",
        "  if record >=10 and record < 20 :\n",
        "    encod_test.at[i,'EEA_Policy_Tenure_10-20']=1\n",
        "  else:\n",
        "    encod_test.at[i,'EEA_Policy_Tenure_10-20']=0\n",
        "  \n",
        "  if record >=20 and record < 30 :\n",
        "    encod_test.at[i,'EEA_Policy_Tenure_20-30']=1\n",
        "  else:\n",
        "    encod_test.at[i,'EEA_Policy_Tenure_20-30']=0\n",
        "  \n",
        "  if record >=30 and record < 40 :\n",
        "    encod_test.at[i,'EEA_Policy_Tenure_30-40']=1\n",
        "  else:\n",
        "    encod_test.at[i,'EEA_Policy_Tenure_30-40']=0\n",
        "  \n",
        "  if record >=40 and record < 50 :\n",
        "    encod_test.at[i,'EEA_Policy_Tenure_40-50']=1\n",
        "  else:\n",
        "    encod_test.at[i,'EEA_Policy_Tenure_40-50']=0\n",
        "  \n",
        "  if record >=50 and record < 60 :\n",
        "    encod_test.at[i,'EEA_Policy_Tenure_50-60']=1\n",
        "  else:\n",
        "    encod_test.at[i,'EEA_Policy_Tenure_50-60']=0\n",
        "    \n",
        "encod_test['Annual_Premium_0-1000']=encod_test.apply(lambda _: '', axis=1)\n",
        "encod_test['Annual_Premium_1000-2000']=encod_test.apply(lambda _: '', axis=1)\n",
        "encod_test['Annual_Premium_2000-3000']=encod_test.apply(lambda _: '', axis=1)\n",
        "encod_test['Annual_Premium_3000-4000']=encod_test.apply(lambda _: '', axis=1)\n",
        "\n",
        "for i in encod_test.index:\n",
        "  \n",
        "  record = encod_test.get_value(i,'Annual_Premium')\n",
        "\n",
        "  if record >=0 and record < 1000 :\n",
        "    encod_test.at[i,'Annual_Premium_0-1000']=1\n",
        "  else:\n",
        "    encod_test.at[i,'Annual_Premium_0-1000']=0\n",
        "\n",
        "  if record >=1000 and record < 2000 :\n",
        "    encod_test.at[i,'Annual_Premium_1000-2000']=1\n",
        "  else:\n",
        "    encod_test.at[i,'Annual_Premium_1000-2000']=0\n",
        "\n",
        "  if record >=2000 and record < 3000 :\n",
        "    encod_test.at[i,'Annual_Premium_2000-3000']=1\n",
        "  else:\n",
        "    encod_test.at[i,'Annual_Premium_2000-3000']=0\n",
        "\n",
        "  if record >=3000:\n",
        "    encod_test.at[i,'Annual_Premium_3000-4000']=1\n",
        "  else:\n",
        "    encod_test.at[i,'Annual_Premium_3000-4000']=0\n",
        "\n",
        "\n",
        "encod_test['Vehicle_Miles_To_Work_0-10']=encod_test.apply(lambda _: '', axis=1)\n",
        "encod_test['Vehicle_Miles_To_Work_10-20']=encod_test.apply(lambda _: '', axis=1)\n",
        "encod_test['Vehicle_Miles_To_Work_20-30']=encod_test.apply(lambda _: '', axis=1)\n",
        "encod_test['Vehicle_Miles_To_Work_30-40']=encod_test.apply(lambda _: '', axis=1)\n",
        "encod_test['Vehicle_Miles_To_Work_40-50']=encod_test.apply(lambda _: '', axis=1)\n",
        "encod_test['Vehicle_Miles_To_Work_50-60']=encod_test.apply(lambda _: '', axis=1)\n",
        "encod_test['Vehicle_Miles_To_Work_60-70']=encod_test.apply(lambda _: '', axis=1)\n",
        "encod_test['Vehicle_Miles_To_Work_70-80']=encod_test.apply(lambda _: '', axis=1)\n",
        "encod_test['Vehicle_Miles_To_Work_80-90']=encod_test.apply(lambda _: '', axis=1)\n",
        "encod_test['Vehicle_Miles_To_Work_90-100']=encod_test.apply(lambda _: '', axis=1)\n",
        "\n",
        "for i in encod_test.index:\n",
        "\n",
        "  record = encod_test.get_value(i,'Vehicle_Miles_To_Work')\n",
        "\n",
        "  if record >=0 and record < 10 :\n",
        "    encod_test.at[i,'Vehicle_Miles_To_Work_0-10']=1\n",
        "  else:\n",
        "    encod_test.at[i,'Vehicle_Miles_To_Work_0-10']=0\n",
        "\n",
        "  if record >=10 and record < 20 :\n",
        "    encod_test.at[i,'Vehicle_Miles_To_Work_10-20']=1\n",
        "  else:\n",
        "    encod_test.at[i,'Vehicle_Miles_To_Work_10-20']=0\n",
        "  \n",
        "  if record >=20 and record < 30 :\n",
        "    encod_test.at[i,'Vehicle_Miles_To_Work_20-30']=1\n",
        "  else:\n",
        "    encod_test.at[i,'Vehicle_Miles_To_Work_20-30']=0\n",
        "  \n",
        "  if record >=30 and record < 40 :\n",
        "    encod_test.at[i,'Vehicle_Miles_To_Work_30-40']=1\n",
        "  else:\n",
        "    encod_test.at[i,'Vehicle_Miles_To_Work_30-40']=0\n",
        "  \n",
        "  if record >=40 and record < 50 :\n",
        "    encod_test.at[i,'Vehicle_Miles_To_Work_40-50']=1\n",
        "  else:\n",
        "    encod_test.at[i,'Vehicle_Miles_To_Work_40-50']=0\n",
        "  \n",
        "  if record >=50 and record < 60 :\n",
        "    encod_test.at[i,'Vehicle_Miles_To_Work_50-60']=1\n",
        "  else:\n",
        "    encod_test.at[i,'Vehicle_Miles_To_Work_50-60']=0\n",
        "\n",
        "  if record >=60 and record < 70 :\n",
        "    encod_test.at[i,'Vehicle_Miles_To_Work_60-70']=1\n",
        "  else:\n",
        "    encod_test.at[i,'Vehicle_Miles_To_Work_60-70']=0\n",
        "\n",
        "  if record >=70 and record < 80 :\n",
        "    encod_test.at[i,'Vehicle_Miles_To_Work_70-80']=1\n",
        "  else:\n",
        "    encod_test.at[i,'Vehicle_Miles_To_Work_70-80']=0\n",
        "\n",
        "  if record >=80 and record < 90 :\n",
        "    encod_test.at[i,'Vehicle_Miles_To_Work_80-90']=1\n",
        "  else:\n",
        "    encod_test.at[i,'Vehicle_Miles_To_Work_80-90']=0\n",
        "\n",
        "  if record >=90 and record < 100 :\n",
        "    encod_test.at[i,'Vehicle_Miles_To_Work_90-100']=1\n",
        "  else:\n",
        "    encod_test.at[i,'Vehicle_Miles_To_Work_90-100']=0    "
      ],
      "execution_count": 0,
      "outputs": [
        {
          "output_type": "stream",
          "text": [
            "/usr/local/lib/python3.6/dist-packages/ipykernel_launcher.py:14: FutureWarning: get_value is deprecated and will be removed in a future release. Please use .at[] or .iat[] accessors instead\n",
            "  \n",
            "/usr/local/lib/python3.6/dist-packages/ipykernel_launcher.py:47: FutureWarning: get_value is deprecated and will be removed in a future release. Please use .at[] or .iat[] accessors instead\n",
            "/usr/local/lib/python3.6/dist-packages/ipykernel_launcher.py:73: FutureWarning: get_value is deprecated and will be removed in a future release. Please use .at[] or .iat[] accessors instead\n",
            "/usr/local/lib/python3.6/dist-packages/ipykernel_launcher.py:112: FutureWarning: get_value is deprecated and will be removed in a future release. Please use .at[] or .iat[] accessors instead\n",
            "/usr/local/lib/python3.6/dist-packages/ipykernel_launcher.py:148: FutureWarning: get_value is deprecated and will be removed in a future release. Please use .at[] or .iat[] accessors instead\n"
          ],
          "name": "stderr"
        }
      ]
    },
    {
      "cell_type": "code",
      "metadata": {
        "id": "hLQDdltEhuWf",
        "colab_type": "code",
        "outputId": "dbe70506-4205-4ad2-b1ed-414e9f18e61b",
        "colab": {
          "base_uri": "https://localhost:8080/",
          "height": 35
        }
      },
      "source": [
        "encod_test.shape"
      ],
      "execution_count": 0,
      "outputs": [
        {
          "output_type": "execute_result",
          "data": {
            "text/plain": [
              "(985168, 232)"
            ]
          },
          "metadata": {
            "tags": []
          },
          "execution_count": 13
        }
      ]
    },
    {
      "cell_type": "code",
      "metadata": {
        "id": "Ug_0aZdnkyJE",
        "colab_type": "code",
        "outputId": "88208ffa-12a8-4aec-8f4e-eb37a5cdf67a",
        "colab": {
          "base_uri": "https://localhost:8080/",
          "height": 1000
        }
      },
      "source": [
        "list(encod_test.columns)"
      ],
      "execution_count": 0,
      "outputs": [
        {
          "output_type": "execute_result",
          "data": {
            "text/plain": [
              "['Unnamed: 0',\n",
              " 'Portfolio',\n",
              " 'PolicyNo',\n",
              " 'Vehicle_New_Cost_Amount',\n",
              " 'Vehicle_Number_Of_Drivers_Assigned',\n",
              " 'Vehicle_Miles_To_Work',\n",
              " 'Vehicle_Annual_Miles',\n",
              " 'Vehicle_Comprehensive_Coverage_Limit',\n",
              " 'Driver_Total',\n",
              " 'Driver_Total_Male',\n",
              " 'Driver_Total_Female',\n",
              " 'Driver_Total_Single',\n",
              " 'Driver_Total_Married',\n",
              " 'Driver_Total_Related_To_Insured_Self',\n",
              " 'Driver_Total_Related_To_Insured_Spouse',\n",
              " 'Driver_Total_Related_To_Insured_Child',\n",
              " 'Driver_Total_Licensed_In_State',\n",
              " 'Driver_Minimum_Age',\n",
              " 'Driver_Maximum_Age',\n",
              " 'Driver_Total_Teenager_Age_15_19',\n",
              " 'Driver_Total_College_Ages_20_23',\n",
              " 'Driver_Total_Young_Adult_Ages_24_29',\n",
              " 'Driver_Total_Low_Middle_Adult_Ages_30_39',\n",
              " 'Driver_Total_Middle_Adult_Ages_40_49',\n",
              " 'Driver_Total_Adult_Ages_50_64',\n",
              " 'Driver_Total_Senior_Ages_65_69',\n",
              " 'Driver_Total_Upper_Senior_Ages_70_plus',\n",
              " 'EEA_Policy_Tenure',\n",
              " 'Annual_Premium',\n",
              " 'PolicyNo_<210',\n",
              " 'PolicyNo_210-300',\n",
              " 'PolicyNo_300-345',\n",
              " 'PolicyNo_>345',\n",
              " 'Policy_Company_Preferred',\n",
              " 'Policy_Company_Standard ',\n",
              " 'Policy_Installment_Term_6',\n",
              " 'Policy_Installment_Term_12',\n",
              " 'Policy_Billing_Code_Direct Billed to Insured',\n",
              " 'Policy_Billing_Code_Premium Finance',\n",
              " 'Policy_Method_Of_Payment_Installment',\n",
              " 'Policy_Method_Of_Payment_Pre-paid',\n",
              " 'Policy_Reinstatement_Fee_Indicator_N',\n",
              " 'Policy_Reinstatement_Fee_Indicator_Y',\n",
              " 'Vehicle_Territory_13',\n",
              " 'Vehicle_Territory_15',\n",
              " 'Vehicle_Territory_16',\n",
              " 'Vehicle_Territory_17',\n",
              " 'Vehicle_Territory_18',\n",
              " 'Vehicle_Territory_19',\n",
              " 'Vehicle_Territory_20',\n",
              " 'Vehicle_Territory_22',\n",
              " 'Vehicle_Territory_26',\n",
              " 'Vehicle_Territory_27',\n",
              " 'Vehicle_Territory_30',\n",
              " 'Vehicle_Territory_31',\n",
              " 'Vehicle_Territory_32',\n",
              " 'Vehicle_Territory_35',\n",
              " 'Vehicle_Territory_36',\n",
              " 'Vehicle_Territory_37',\n",
              " 'Vehicle_Performance_High',\n",
              " 'Vehicle_Performance_Intermediate',\n",
              " 'Vehicle_Performance_Sports',\n",
              " 'Vehicle_Performance_Sports Premium',\n",
              " 'Vehicle_Performance_Standard',\n",
              " 'Vehicle_Symbol_-1',\n",
              " 'Vehicle_Symbol_1',\n",
              " 'Vehicle_Symbol_2',\n",
              " 'Vehicle_Symbol_3',\n",
              " 'Vehicle_Symbol_4',\n",
              " 'Vehicle_Symbol_5',\n",
              " 'Vehicle_Symbol_6',\n",
              " 'Vehicle_Symbol_7',\n",
              " 'Vehicle_Symbol_8',\n",
              " 'Vehicle_Symbol_9',\n",
              " 'Vehicle_Symbol_10',\n",
              " 'Vehicle_Symbol_11',\n",
              " 'Vehicle_Symbol_12',\n",
              " 'Vehicle_Symbol_13',\n",
              " 'Vehicle_Symbol_14',\n",
              " 'Vehicle_Symbol_15',\n",
              " 'Vehicle_Symbol_16',\n",
              " 'Vehicle_Symbol_17',\n",
              " 'Vehicle_Symbol_18',\n",
              " 'Vehicle_Symbol_19',\n",
              " 'Vehicle_Symbol_20',\n",
              " 'Vehicle_Symbol_21',\n",
              " 'Vehicle_Symbol_22',\n",
              " 'Vehicle_Symbol_23',\n",
              " 'Vehicle_Symbol_24',\n",
              " 'Vehicle_Symbol_25',\n",
              " 'Vehicle_Symbol_26',\n",
              " 'Vehicle_Symbol_27',\n",
              " 'Vehicle_Usage_Business',\n",
              " 'Vehicle_Usage_Farm    ',\n",
              " 'Vehicle_Usage_Pleasure',\n",
              " 'Vehicle_Usage_Work    ',\n",
              " 'Vehicle_Days_Per_Week_Driven_-1',\n",
              " 'Vehicle_Days_Per_Week_Driven_0',\n",
              " 'Vehicle_Days_Per_Week_Driven_1',\n",
              " 'Vehicle_Days_Per_Week_Driven_2',\n",
              " 'Vehicle_Days_Per_Week_Driven_3',\n",
              " 'Vehicle_Days_Per_Week_Driven_4',\n",
              " 'Vehicle_Days_Per_Week_Driven_5',\n",
              " 'Vehicle_Days_Per_Week_Driven_6',\n",
              " 'Vehicle_Days_Per_Week_Driven_7',\n",
              " 'Vehicle_Days_Per_Week_Driven_8',\n",
              " 'Vehicle_Days_Per_Week_Driven_9',\n",
              " 'Vehicle_Anti_Theft_Device_Active Disabling',\n",
              " 'Vehicle_Anti_Theft_Device_Alarm Only',\n",
              " 'Vehicle_Anti_Theft_Device_Not Applicable',\n",
              " 'Vehicle_Anti_Theft_Device_Passive Disabling-Vehicle Recovery',\n",
              " 'Vehicle_Passive_Restraint_N',\n",
              " 'Vehicle_Passive_Restraint_Y',\n",
              " 'Vehicle_Age_In_Years_1',\n",
              " 'Vehicle_Age_In_Years_2',\n",
              " 'Vehicle_Age_In_Years_3',\n",
              " 'Vehicle_Age_In_Years_4',\n",
              " 'Vehicle_Age_In_Years_5',\n",
              " 'Vehicle_Age_In_Years_6',\n",
              " 'Vehicle_Age_In_Years_7',\n",
              " 'Vehicle_Age_In_Years_8',\n",
              " 'Vehicle_Age_In_Years_9',\n",
              " 'Vehicle_Med_Pay_Limit_-1',\n",
              " 'Vehicle_Med_Pay_Limit_1000',\n",
              " 'Vehicle_Med_Pay_Limit_2000',\n",
              " 'Vehicle_Med_Pay_Limit_5000',\n",
              " 'Vehicle_Med_Pay_Limit_10000',\n",
              " 'Vehicle_Med_Pay_Limit_25000',\n",
              " 'Vehicle_Med_Pay_Limit_50000',\n",
              " 'Vehicle_Bodily_Injury_Limit_100-300',\n",
              " 'Vehicle_Bodily_Injury_Limit_100-500',\n",
              " 'Vehicle_Bodily_Injury_Limit_1M-1M  ',\n",
              " 'Vehicle_Bodily_Injury_Limit_25-50  ',\n",
              " 'Vehicle_Bodily_Injury_Limit_250-500',\n",
              " 'Vehicle_Bodily_Injury_Limit_300-500',\n",
              " 'Vehicle_Bodily_Injury_Limit_50-100 ',\n",
              " 'Vehicle_Bodily_Injury_Limit_500-500',\n",
              " 'Vehicle_Physical_Damage_Limit_-1',\n",
              " 'Vehicle_Physical_Damage_Limit_25000',\n",
              " 'Vehicle_Physical_Damage_Limit_35000',\n",
              " 'Vehicle_Physical_Damage_Limit_50000',\n",
              " 'Vehicle_Physical_Damage_Limit_100000',\n",
              " 'Vehicle_Physical_Damage_Limit_250000',\n",
              " 'Vehicle_Physical_Damage_Limit_500000',\n",
              " 'Vehicle_Physical_Damage_Limit_1000000',\n",
              " 'Vehicle_Comprehensive_Coverage_Indicator_N',\n",
              " 'Vehicle_Comprehensive_Coverage_Indicator_Y',\n",
              " 'Vehicle_Collision_Coverage_Indicator_N',\n",
              " 'Vehicle_Collision_Coverage_Indicator_Y',\n",
              " 'Vehicle_Collision_Coverage_Deductible_-1',\n",
              " 'Vehicle_Collision_Coverage_Deductible_50',\n",
              " 'Vehicle_Collision_Coverage_Deductible_100',\n",
              " 'Vehicle_Collision_Coverage_Deductible_200',\n",
              " 'Vehicle_Collision_Coverage_Deductible_250',\n",
              " 'Vehicle_Collision_Coverage_Deductible_500',\n",
              " 'Vehicle_Collision_Coverage_Deductible_1000',\n",
              " 'Vehicle_Collision_Coverage_Deductible_2000',\n",
              " 'Vehicle_Collision_Coverage_Deductible_3000',\n",
              " 'Vehicle_Youthful_Driver_Indicator_N',\n",
              " 'Vehicle_Youthful_Driver_Indicator_Y',\n",
              " 'Vehicle_Youthful_Driver_Training_Code_Not Applicable                 ',\n",
              " 'Vehicle_Youthful_Driver_Training_Code_With Driver Training           ',\n",
              " 'Vehicle_Youthful_Driver_Training_Code_With or Without Driver Training',\n",
              " 'Vehicle_Youthful_Driver_Training_Code_Without Driver Training        ',\n",
              " 'Vehicle_Youthful_Good_Student_Code_Eligible for Good Student Credit    ',\n",
              " 'Vehicle_Youthful_Good_Student_Code_Not Eligible for Good Student Credit',\n",
              " 'Vehicle_Driver_Points_0',\n",
              " 'Vehicle_Driver_Points_1',\n",
              " 'Vehicle_Driver_Points_2',\n",
              " 'Vehicle_Driver_Points_3',\n",
              " 'Vehicle_Driver_Points_4',\n",
              " 'Vehicle_Driver_Points_5',\n",
              " 'Vehicle_Driver_Points_6',\n",
              " 'Vehicle_Driver_Points_7',\n",
              " 'Vehicle_Safe_Driver_Discount_Indicator_N',\n",
              " 'Vehicle_Safe_Driver_Discount_Indicator_Y',\n",
              " 'EEA_Liability_Coverage_Only_Indicator_N',\n",
              " 'EEA_Liability_Coverage_Only_Indicator_Y',\n",
              " 'EEA_Multi_Auto_Policies_Indicator_N',\n",
              " 'EEA_Multi_Auto_Policies_Indicator_Y',\n",
              " 'EEA_Agency_Type_Hybrid',\n",
              " 'EEA_Agency_Type_Non-standard',\n",
              " 'EEA_Agency_Type_Preferred',\n",
              " 'EEA_Agency_Type_Standard',\n",
              " 'EEA_Packaged_Policy_Indicator_N',\n",
              " 'EEA_Packaged_Policy_Indicator_Y',\n",
              " 'EEA_Full_Coverage_Indicator_N',\n",
              " 'EEA_Full_Coverage_Indicator_Y',\n",
              " 'EEA_Prior_Bodily_Injury_Limit_100-200',\n",
              " 'EEA_Prior_Bodily_Injury_Limit_100-400',\n",
              " 'EEA_Prior_Bodily_Injury_Limit_20-50',\n",
              " 'EEA_Prior_Bodily_Injury_Limit_200-400',\n",
              " 'EEA_Prior_Bodily_Injury_Limit_300-300',\n",
              " 'EEA_Prior_Bodily_Injury_Limit_40-100 ',\n",
              " 'EEA_Prior_Bodily_Injury_Limit_75-300',\n",
              " 'EEA_Prior_Bodily_Injury_Limit_750-750',\n",
              " 'SYS_Renewed_N',\n",
              " 'SYS_Renewed_Y',\n",
              " 'SYS_New_Business_N',\n",
              " 'SYS_New_Business_Y',\n",
              " 'Vehicle_Bodily_Injury_Limit_100-500_new',\n",
              " 'Vehicle_Bodily_Injury_Limit_25-100_new',\n",
              " 'Vehicle_Make_Age',\n",
              " 'Vehicle_Make_Age_0-5',\n",
              " 'Vehicle_Make_Age_5-10',\n",
              " 'Vehicle_Make_Age_10-20',\n",
              " 'Vehicle_Make_Age_20-50',\n",
              " 'Vehicle_Make_Age_>50',\n",
              " 'Vehicle_Number_Of_Drivers_Assigned_1',\n",
              " 'Vehicle_Number_Of_Drivers_Assigned_2-8',\n",
              " 'Vehicle_Number_Of_Drivers_Assigned_99',\n",
              " 'EEA_Policy_Tenure_0-10',\n",
              " 'EEA_Policy_Tenure_10-20',\n",
              " 'EEA_Policy_Tenure_20-30',\n",
              " 'EEA_Policy_Tenure_30-40',\n",
              " 'EEA_Policy_Tenure_40-50',\n",
              " 'EEA_Policy_Tenure_50-60',\n",
              " 'Annual_Premium_0-1000',\n",
              " 'Annual_Premium_1000-2000',\n",
              " 'Annual_Premium_2000-3000',\n",
              " 'Annual_Premium_3000-4000',\n",
              " 'Vehicle_Miles_To_Work_0-10',\n",
              " 'Vehicle_Miles_To_Work_10-20',\n",
              " 'Vehicle_Miles_To_Work_20-30',\n",
              " 'Vehicle_Miles_To_Work_30-40',\n",
              " 'Vehicle_Miles_To_Work_40-50',\n",
              " 'Vehicle_Miles_To_Work_50-60',\n",
              " 'Vehicle_Miles_To_Work_60-70',\n",
              " 'Vehicle_Miles_To_Work_70-80',\n",
              " 'Vehicle_Miles_To_Work_80-90',\n",
              " 'Vehicle_Miles_To_Work_90-100']"
            ]
          },
          "metadata": {
            "tags": []
          },
          "execution_count": 16
        }
      ]
    },
    {
      "cell_type": "markdown",
      "metadata": {
        "id": "pAPKg5ExdC4D",
        "colab_type": "text"
      },
      "source": [
        "Drop 'Vehicle_Make_Year' as not needed anymore."
      ]
    },
    {
      "cell_type": "code",
      "metadata": {
        "id": "oDQlAxMBdDdk",
        "colab_type": "code",
        "colab": {}
      },
      "source": [
        "encod_test = encod_test.drop(['Vehicle_Make_Year'], axis=1)"
      ],
      "execution_count": 0,
      "outputs": []
    },
    {
      "cell_type": "code",
      "metadata": {
        "id": "Yd2MVRwyhxg2",
        "colab_type": "code",
        "outputId": "8cdb0706-4643-41c9-f006-551cb281860c",
        "colab": {
          "base_uri": "https://localhost:8080/",
          "height": 35
        }
      },
      "source": [
        "encod_test.shape"
      ],
      "execution_count": 0,
      "outputs": [
        {
          "output_type": "execute_result",
          "data": {
            "text/plain": [
              "(985168, 231)"
            ]
          },
          "metadata": {
            "tags": []
          },
          "execution_count": 17
        }
      ]
    },
    {
      "cell_type": "code",
      "metadata": {
        "id": "x3kB9R1QlgWT",
        "colab_type": "code",
        "colab": {}
      },
      "source": [
        "# list(encod_test.columns)"
      ],
      "execution_count": 0,
      "outputs": []
    },
    {
      "cell_type": "code",
      "metadata": {
        "id": "UeE2qrtilnU3",
        "colab_type": "code",
        "colab": {}
      },
      "source": [
        "encod_test = encod_test.drop(['PolicyNo'],axis=1)"
      ],
      "execution_count": 0,
      "outputs": []
    },
    {
      "cell_type": "code",
      "metadata": {
        "id": "rSinmINKltm-",
        "colab_type": "code",
        "outputId": "5384bc24-53c5-49ae-dcd2-6b81f9f82d10",
        "colab": {
          "base_uri": "https://localhost:8080/",
          "height": 35
        }
      },
      "source": [
        "encod_test.shape"
      ],
      "execution_count": 0,
      "outputs": [
        {
          "output_type": "execute_result",
          "data": {
            "text/plain": [
              "(985168, 230)"
            ]
          },
          "metadata": {
            "tags": []
          },
          "execution_count": 24
        }
      ]
    },
    {
      "cell_type": "markdown",
      "metadata": {
        "id": "XJRQUnkldHQi",
        "colab_type": "text"
      },
      "source": [
        "Reorder encod_test df after adding all the new variables."
      ]
    },
    {
      "cell_type": "code",
      "metadata": {
        "id": "hf-w8Av1dILo",
        "colab_type": "code",
        "colab": {}
      },
      "source": [
        "encod_test_temp=encod_test[['PolicyNo_<210',\n",
        " 'PolicyNo_210-300',\n",
        " 'PolicyNo_300-345',\n",
        " 'PolicyNo_>345',\n",
        " 'Policy_Company_Preferred',\n",
        " 'Policy_Company_Standard ',\n",
        " 'Policy_Installment_Term_6',\n",
        " 'Policy_Installment_Term_12',\n",
        " 'Policy_Billing_Code_Direct Billed to Insured',\n",
        " 'Policy_Billing_Code_Premium Finance',\n",
        " 'Policy_Method_Of_Payment_Installment',\n",
        " 'Policy_Method_Of_Payment_Pre-paid',\n",
        " 'Policy_Reinstatement_Fee_Indicator_N',\n",
        " 'Policy_Reinstatement_Fee_Indicator_Y',\n",
        " 'Vehicle_Territory_13',\n",
        " 'Vehicle_Territory_15',\n",
        " 'Vehicle_Territory_16',\n",
        " 'Vehicle_Territory_17',\n",
        " 'Vehicle_Territory_18',\n",
        " 'Vehicle_Territory_19',\n",
        " 'Vehicle_Territory_20',\n",
        " 'Vehicle_Territory_22',\n",
        " 'Vehicle_Territory_26',\n",
        " 'Vehicle_Territory_27',\n",
        " 'Vehicle_Territory_30',\n",
        " 'Vehicle_Territory_31',\n",
        " 'Vehicle_Territory_32',\n",
        " 'Vehicle_Territory_35',\n",
        " 'Vehicle_Territory_36',\n",
        " 'Vehicle_Territory_37',\n",
        " 'Vehicle_Make_Age',\n",
        " 'Vehicle_Make_Age_0-5',\n",
        " 'Vehicle_Make_Age_5-10',\n",
        " 'Vehicle_Make_Age_10-20',\n",
        " 'Vehicle_Make_Age_20-50',\n",
        " 'Vehicle_Make_Age_>50',\n",
        " 'Vehicle_Performance_High',\n",
        " 'Vehicle_Performance_Intermediate',\n",
        " 'Vehicle_Performance_Sports',\n",
        " 'Vehicle_Performance_Sports Premium',\n",
        " 'Vehicle_Performance_Standard',\n",
        " 'Vehicle_New_Cost_Amount',\n",
        " 'Vehicle_Symbol_-1',\n",
        " 'Vehicle_Symbol_1',\n",
        " 'Vehicle_Symbol_2',\n",
        " 'Vehicle_Symbol_3',\n",
        " 'Vehicle_Symbol_4',\n",
        " 'Vehicle_Symbol_5',\n",
        " 'Vehicle_Symbol_6',\n",
        " 'Vehicle_Symbol_7',\n",
        " 'Vehicle_Symbol_8',\n",
        " 'Vehicle_Symbol_9',\n",
        " 'Vehicle_Symbol_10',\n",
        " 'Vehicle_Symbol_11',\n",
        " 'Vehicle_Symbol_12',\n",
        " 'Vehicle_Symbol_13',\n",
        " 'Vehicle_Symbol_14',\n",
        " 'Vehicle_Symbol_15',\n",
        " 'Vehicle_Symbol_16',\n",
        " 'Vehicle_Symbol_17',\n",
        " 'Vehicle_Symbol_18',\n",
        " 'Vehicle_Symbol_19',\n",
        " 'Vehicle_Symbol_20',\n",
        " 'Vehicle_Symbol_21',\n",
        " 'Vehicle_Symbol_22',\n",
        " 'Vehicle_Symbol_23',\n",
        " 'Vehicle_Symbol_24',\n",
        " 'Vehicle_Symbol_25',\n",
        " 'Vehicle_Symbol_26',\n",
        " 'Vehicle_Symbol_27',\n",
        " 'Vehicle_Number_Of_Drivers_Assigned',\n",
        " 'Vehicle_Number_Of_Drivers_Assigned_1',\n",
        " 'Vehicle_Number_Of_Drivers_Assigned_2-8',\n",
        " 'Vehicle_Number_Of_Drivers_Assigned_99',\n",
        " 'Vehicle_Usage_Business',\n",
        " 'Vehicle_Usage_Farm    ',\n",
        " 'Vehicle_Usage_Pleasure',\n",
        " 'Vehicle_Usage_Work    ',\n",
        " 'Vehicle_Miles_To_Work',\n",
        " 'Vehicle_Miles_To_Work_0-10',\n",
        " 'Vehicle_Miles_To_Work_10-20',\n",
        " 'Vehicle_Miles_To_Work_20-30',\n",
        " 'Vehicle_Miles_To_Work_30-40',\n",
        " 'Vehicle_Miles_To_Work_40-50',\n",
        " 'Vehicle_Miles_To_Work_50-60',\n",
        " 'Vehicle_Miles_To_Work_60-70',\n",
        " 'Vehicle_Miles_To_Work_70-80',\n",
        " 'Vehicle_Miles_To_Work_80-90',\n",
        " 'Vehicle_Miles_To_Work_90-100',\n",
        " 'Vehicle_Days_Per_Week_Driven_-1',\n",
        " 'Vehicle_Days_Per_Week_Driven_0',\n",
        " 'Vehicle_Days_Per_Week_Driven_1',\n",
        " 'Vehicle_Days_Per_Week_Driven_2',\n",
        " 'Vehicle_Days_Per_Week_Driven_3',\n",
        " 'Vehicle_Days_Per_Week_Driven_4',\n",
        " 'Vehicle_Days_Per_Week_Driven_5',\n",
        " 'Vehicle_Days_Per_Week_Driven_6',\n",
        " 'Vehicle_Days_Per_Week_Driven_7',\n",
        " 'Vehicle_Annual_Miles',\n",
        " 'Vehicle_Anti_Theft_Device_Active Disabling',\n",
        " 'Vehicle_Anti_Theft_Device_Alarm Only',\n",
        " 'Vehicle_Anti_Theft_Device_Not Applicable',\n",
        " 'Vehicle_Anti_Theft_Device_Passive Disabling-Vehicle Recovery',\n",
        " 'Vehicle_Passive_Restraint_N',\n",
        " 'Vehicle_Passive_Restraint_Y',\n",
        " 'Vehicle_Age_In_Years_1',\n",
        " 'Vehicle_Age_In_Years_2',\n",
        " 'Vehicle_Age_In_Years_3',\n",
        " 'Vehicle_Age_In_Years_4',\n",
        " 'Vehicle_Age_In_Years_5',\n",
        " 'Vehicle_Age_In_Years_6',\n",
        " 'Vehicle_Age_In_Years_7',\n",
        " 'Vehicle_Age_In_Years_8',\n",
        " 'Vehicle_Age_In_Years_9',\n",
        " 'Vehicle_Med_Pay_Limit_-1',\n",
        " 'Vehicle_Med_Pay_Limit_1000',\n",
        " 'Vehicle_Med_Pay_Limit_2000',\n",
        " 'Vehicle_Med_Pay_Limit_5000',\n",
        " 'Vehicle_Med_Pay_Limit_10000',\n",
        " 'Vehicle_Med_Pay_Limit_25000',\n",
        " 'Vehicle_Med_Pay_Limit_50000',\n",
        " 'Vehicle_Bodily_Injury_Limit_25-100_new',\n",
        " 'Vehicle_Bodily_Injury_Limit_25-50  ',\n",
        " 'Vehicle_Bodily_Injury_Limit_50-100 ',\n",
        " 'Vehicle_Bodily_Injury_Limit_100-500',\n",
        " 'Vehicle_Bodily_Injury_Limit_100-500_new',\n",
        " 'Vehicle_Bodily_Injury_Limit_100-300',\n",
        " 'Vehicle_Bodily_Injury_Limit_250-500',\n",
        " 'Vehicle_Bodily_Injury_Limit_300-500',\n",
        " 'Vehicle_Bodily_Injury_Limit_500-500',\n",
        " 'Vehicle_Bodily_Injury_Limit_1M-1M  ',\n",
        " 'Vehicle_Physical_Damage_Limit_-1',\n",
        " 'Vehicle_Physical_Damage_Limit_25000',\n",
        " 'Vehicle_Physical_Damage_Limit_35000',\n",
        " 'Vehicle_Physical_Damage_Limit_50000',\n",
        " 'Vehicle_Physical_Damage_Limit_100000',\n",
        " 'Vehicle_Physical_Damage_Limit_250000',\n",
        " 'Vehicle_Physical_Damage_Limit_500000',\n",
        " 'Vehicle_Physical_Damage_Limit_1000000',\n",
        " 'Vehicle_Comprehensive_Coverage_Indicator_N',\n",
        " 'Vehicle_Comprehensive_Coverage_Indicator_Y',\n",
        " 'Vehicle_Comprehensive_Coverage_Limit',\n",
        " 'Vehicle_Collision_Coverage_Indicator_N',\n",
        " 'Vehicle_Collision_Coverage_Indicator_Y',\n",
        " 'Vehicle_Collision_Coverage_Deductible_-1',\n",
        " 'Vehicle_Collision_Coverage_Deductible_50',\n",
        " 'Vehicle_Collision_Coverage_Deductible_100',\n",
        " 'Vehicle_Collision_Coverage_Deductible_200',\n",
        " 'Vehicle_Collision_Coverage_Deductible_250',\n",
        " 'Vehicle_Collision_Coverage_Deductible_500',\n",
        " 'Vehicle_Collision_Coverage_Deductible_1000',\n",
        " 'Vehicle_Collision_Coverage_Deductible_2000',\n",
        " 'Vehicle_Collision_Coverage_Deductible_3000',\n",
        " 'Driver_Total',\n",
        " 'Driver_Total_Male',\n",
        " 'Driver_Total_Female',\n",
        " 'Driver_Total_Single',\n",
        " 'Driver_Total_Married',\n",
        " 'Driver_Total_Related_To_Insured_Self',\n",
        " 'Driver_Total_Related_To_Insured_Spouse',\n",
        " 'Driver_Total_Related_To_Insured_Child',\n",
        " 'Driver_Total_Licensed_In_State',\n",
        " 'Driver_Minimum_Age',\n",
        " 'Driver_Maximum_Age',\n",
        " 'Driver_Total_Teenager_Age_15_19',\n",
        " 'Driver_Total_College_Ages_20_23',\n",
        " 'Driver_Total_Young_Adult_Ages_24_29',\n",
        " 'Driver_Total_Low_Middle_Adult_Ages_30_39',\n",
        " 'Driver_Total_Middle_Adult_Ages_40_49',\n",
        " 'Driver_Total_Adult_Ages_50_64',\n",
        " 'Driver_Total_Senior_Ages_65_69',\n",
        " 'Driver_Total_Upper_Senior_Ages_70_plus',\n",
        " 'Vehicle_Youthful_Driver_Indicator_N',\n",
        " 'Vehicle_Youthful_Driver_Indicator_Y',\n",
        " 'Vehicle_Youthful_Driver_Training_Code_Not Applicable                 ',\n",
        " 'Vehicle_Youthful_Driver_Training_Code_With Driver Training           ',\n",
        " 'Vehicle_Youthful_Driver_Training_Code_With or Without Driver Training',\n",
        " 'Vehicle_Youthful_Driver_Training_Code_Without Driver Training        ',\n",
        " 'Vehicle_Youthful_Good_Student_Code_Eligible for Good Student Credit    ',\n",
        " 'Vehicle_Youthful_Good_Student_Code_Not Eligible for Good Student Credit',\n",
        " 'Vehicle_Driver_Points_0',\n",
        " 'Vehicle_Driver_Points_1',\n",
        " 'Vehicle_Driver_Points_2',\n",
        " 'Vehicle_Driver_Points_3',\n",
        " 'Vehicle_Driver_Points_4',\n",
        " 'Vehicle_Driver_Points_5',\n",
        " 'Vehicle_Driver_Points_6',\n",
        " 'Vehicle_Driver_Points_7',\n",
        " 'Vehicle_Safe_Driver_Discount_Indicator_N',\n",
        " 'Vehicle_Safe_Driver_Discount_Indicator_Y',\n",
        " 'EEA_Liability_Coverage_Only_Indicator_N',\n",
        " 'EEA_Liability_Coverage_Only_Indicator_Y',\n",
        " 'EEA_Multi_Auto_Policies_Indicator_N',\n",
        " 'EEA_Multi_Auto_Policies_Indicator_Y',\n",
        " 'EEA_Policy_Tenure',\n",
        " 'EEA_Policy_Tenure_0-10',\n",
        " 'EEA_Policy_Tenure_10-20',\n",
        " 'EEA_Policy_Tenure_20-30',\n",
        " 'EEA_Policy_Tenure_30-40',\n",
        " 'EEA_Policy_Tenure_40-50',\n",
        " 'EEA_Policy_Tenure_50-60',\n",
        " 'EEA_Agency_Type_Hybrid',\n",
        " 'EEA_Agency_Type_Non-standard',\n",
        " 'EEA_Agency_Type_Preferred',\n",
        " 'EEA_Agency_Type_Standard',\n",
        " 'EEA_Packaged_Policy_Indicator_N',\n",
        " 'EEA_Packaged_Policy_Indicator_Y',\n",
        " 'EEA_Full_Coverage_Indicator_N',\n",
        " 'EEA_Full_Coverage_Indicator_Y',\n",
        " 'EEA_Prior_Bodily_Injury_Limit_100-200',\n",
        " 'EEA_Prior_Bodily_Injury_Limit_100-400',\n",
        " 'EEA_Prior_Bodily_Injury_Limit_20-50',\n",
        " 'EEA_Prior_Bodily_Injury_Limit_200-400',\n",
        " 'EEA_Prior_Bodily_Injury_Limit_300-300',\n",
        " 'EEA_Prior_Bodily_Injury_Limit_40-100 ',\n",
        " 'EEA_Prior_Bodily_Injury_Limit_75-300',\n",
        " 'EEA_Prior_Bodily_Injury_Limit_750-750',\n",
        " 'SYS_Renewed_N',\n",
        " 'SYS_Renewed_Y',\n",
        " 'SYS_New_Business_N',\n",
        " 'SYS_New_Business_Y',\n",
        " 'Annual_Premium',\n",
        " 'Annual_Premium_0-1000',\n",
        " 'Annual_Premium_1000-2000',\n",
        " 'Annual_Premium_2000-3000',\n",
        " 'Annual_Premium_3000-4000'\n",
        "]]"
      ],
      "execution_count": 0,
      "outputs": []
    },
    {
      "cell_type": "code",
      "metadata": {
        "id": "RyBkmM6dns-Y",
        "colab_type": "code",
        "outputId": "4ea031fd-e082-4d39-fc69-4c1c86935bae",
        "colab": {
          "base_uri": "https://localhost:8080/",
          "height": 1000
        }
      },
      "source": [
        "list(encod_test_temp.columns)"
      ],
      "execution_count": 0,
      "outputs": [
        {
          "output_type": "execute_result",
          "data": {
            "text/plain": [
              "['PolicyNo_<210',\n",
              " 'PolicyNo_210-300',\n",
              " 'PolicyNo_300-345',\n",
              " 'PolicyNo_>345',\n",
              " 'Policy_Company_Preferred',\n",
              " 'Policy_Company_Standard ',\n",
              " 'Policy_Installment_Term_6',\n",
              " 'Policy_Installment_Term_12',\n",
              " 'Policy_Billing_Code_Direct Billed to Insured',\n",
              " 'Policy_Billing_Code_Premium Finance',\n",
              " 'Policy_Method_Of_Payment_Installment',\n",
              " 'Policy_Method_Of_Payment_Pre-paid',\n",
              " 'Policy_Reinstatement_Fee_Indicator_N',\n",
              " 'Policy_Reinstatement_Fee_Indicator_Y',\n",
              " 'Vehicle_Territory_13',\n",
              " 'Vehicle_Territory_15',\n",
              " 'Vehicle_Territory_16',\n",
              " 'Vehicle_Territory_17',\n",
              " 'Vehicle_Territory_18',\n",
              " 'Vehicle_Territory_19',\n",
              " 'Vehicle_Territory_20',\n",
              " 'Vehicle_Territory_22',\n",
              " 'Vehicle_Territory_26',\n",
              " 'Vehicle_Territory_27',\n",
              " 'Vehicle_Territory_30',\n",
              " 'Vehicle_Territory_31',\n",
              " 'Vehicle_Territory_32',\n",
              " 'Vehicle_Territory_35',\n",
              " 'Vehicle_Territory_36',\n",
              " 'Vehicle_Territory_37',\n",
              " 'Vehicle_Make_Age',\n",
              " 'Vehicle_Make_Age_0-5',\n",
              " 'Vehicle_Make_Age_5-10',\n",
              " 'Vehicle_Make_Age_10-20',\n",
              " 'Vehicle_Make_Age_20-50',\n",
              " 'Vehicle_Make_Age_>50',\n",
              " 'Vehicle_Performance_High',\n",
              " 'Vehicle_Performance_Intermediate',\n",
              " 'Vehicle_Performance_Sports',\n",
              " 'Vehicle_Performance_Sports Premium',\n",
              " 'Vehicle_Performance_Standard',\n",
              " 'Vehicle_New_Cost_Amount',\n",
              " 'Vehicle_Symbol_-1',\n",
              " 'Vehicle_Symbol_1',\n",
              " 'Vehicle_Symbol_2',\n",
              " 'Vehicle_Symbol_3',\n",
              " 'Vehicle_Symbol_4',\n",
              " 'Vehicle_Symbol_5',\n",
              " 'Vehicle_Symbol_6',\n",
              " 'Vehicle_Symbol_7',\n",
              " 'Vehicle_Symbol_8',\n",
              " 'Vehicle_Symbol_9',\n",
              " 'Vehicle_Symbol_10',\n",
              " 'Vehicle_Symbol_11',\n",
              " 'Vehicle_Symbol_12',\n",
              " 'Vehicle_Symbol_13',\n",
              " 'Vehicle_Symbol_14',\n",
              " 'Vehicle_Symbol_15',\n",
              " 'Vehicle_Symbol_16',\n",
              " 'Vehicle_Symbol_17',\n",
              " 'Vehicle_Symbol_18',\n",
              " 'Vehicle_Symbol_19',\n",
              " 'Vehicle_Symbol_20',\n",
              " 'Vehicle_Symbol_21',\n",
              " 'Vehicle_Symbol_22',\n",
              " 'Vehicle_Symbol_23',\n",
              " 'Vehicle_Symbol_24',\n",
              " 'Vehicle_Symbol_25',\n",
              " 'Vehicle_Symbol_26',\n",
              " 'Vehicle_Symbol_27',\n",
              " 'Vehicle_Number_Of_Drivers_Assigned',\n",
              " 'Vehicle_Number_Of_Drivers_Assigned_1',\n",
              " 'Vehicle_Number_Of_Drivers_Assigned_2-8',\n",
              " 'Vehicle_Number_Of_Drivers_Assigned_99',\n",
              " 'Vehicle_Usage_Business',\n",
              " 'Vehicle_Usage_Farm    ',\n",
              " 'Vehicle_Usage_Pleasure',\n",
              " 'Vehicle_Usage_Work    ',\n",
              " 'Vehicle_Miles_To_Work',\n",
              " 'Vehicle_Miles_To_Work_0-10',\n",
              " 'Vehicle_Miles_To_Work_10-20',\n",
              " 'Vehicle_Miles_To_Work_20-30',\n",
              " 'Vehicle_Miles_To_Work_30-40',\n",
              " 'Vehicle_Miles_To_Work_40-50',\n",
              " 'Vehicle_Miles_To_Work_50-60',\n",
              " 'Vehicle_Miles_To_Work_60-70',\n",
              " 'Vehicle_Miles_To_Work_70-80',\n",
              " 'Vehicle_Miles_To_Work_80-90',\n",
              " 'Vehicle_Miles_To_Work_90-100',\n",
              " 'Vehicle_Days_Per_Week_Driven_-1',\n",
              " 'Vehicle_Days_Per_Week_Driven_0',\n",
              " 'Vehicle_Days_Per_Week_Driven_1',\n",
              " 'Vehicle_Days_Per_Week_Driven_2',\n",
              " 'Vehicle_Days_Per_Week_Driven_3',\n",
              " 'Vehicle_Days_Per_Week_Driven_4',\n",
              " 'Vehicle_Days_Per_Week_Driven_5',\n",
              " 'Vehicle_Days_Per_Week_Driven_6',\n",
              " 'Vehicle_Days_Per_Week_Driven_7',\n",
              " 'Vehicle_Annual_Miles',\n",
              " 'Vehicle_Anti_Theft_Device_Active Disabling',\n",
              " 'Vehicle_Anti_Theft_Device_Alarm Only',\n",
              " 'Vehicle_Anti_Theft_Device_Not Applicable',\n",
              " 'Vehicle_Anti_Theft_Device_Passive Disabling-Vehicle Recovery',\n",
              " 'Vehicle_Passive_Restraint_N',\n",
              " 'Vehicle_Passive_Restraint_Y',\n",
              " 'Vehicle_Age_In_Years_1',\n",
              " 'Vehicle_Age_In_Years_2',\n",
              " 'Vehicle_Age_In_Years_3',\n",
              " 'Vehicle_Age_In_Years_4',\n",
              " 'Vehicle_Age_In_Years_5',\n",
              " 'Vehicle_Age_In_Years_6',\n",
              " 'Vehicle_Age_In_Years_7',\n",
              " 'Vehicle_Age_In_Years_8',\n",
              " 'Vehicle_Age_In_Years_9',\n",
              " 'Vehicle_Med_Pay_Limit_-1',\n",
              " 'Vehicle_Med_Pay_Limit_1000',\n",
              " 'Vehicle_Med_Pay_Limit_2000',\n",
              " 'Vehicle_Med_Pay_Limit_5000',\n",
              " 'Vehicle_Med_Pay_Limit_10000',\n",
              " 'Vehicle_Med_Pay_Limit_25000',\n",
              " 'Vehicle_Med_Pay_Limit_50000',\n",
              " 'Vehicle_Bodily_Injury_Limit_25-100_new',\n",
              " 'Vehicle_Bodily_Injury_Limit_25-50  ',\n",
              " 'Vehicle_Bodily_Injury_Limit_50-100 ',\n",
              " 'Vehicle_Bodily_Injury_Limit_100-500',\n",
              " 'Vehicle_Bodily_Injury_Limit_100-500_new',\n",
              " 'Vehicle_Bodily_Injury_Limit_100-300',\n",
              " 'Vehicle_Bodily_Injury_Limit_250-500',\n",
              " 'Vehicle_Bodily_Injury_Limit_300-500',\n",
              " 'Vehicle_Bodily_Injury_Limit_500-500',\n",
              " 'Vehicle_Bodily_Injury_Limit_1M-1M  ',\n",
              " 'Vehicle_Physical_Damage_Limit_-1',\n",
              " 'Vehicle_Physical_Damage_Limit_25000',\n",
              " 'Vehicle_Physical_Damage_Limit_35000',\n",
              " 'Vehicle_Physical_Damage_Limit_50000',\n",
              " 'Vehicle_Physical_Damage_Limit_100000',\n",
              " 'Vehicle_Physical_Damage_Limit_250000',\n",
              " 'Vehicle_Physical_Damage_Limit_500000',\n",
              " 'Vehicle_Physical_Damage_Limit_1000000',\n",
              " 'Vehicle_Comprehensive_Coverage_Indicator_N',\n",
              " 'Vehicle_Comprehensive_Coverage_Indicator_Y',\n",
              " 'Vehicle_Comprehensive_Coverage_Limit',\n",
              " 'Vehicle_Collision_Coverage_Indicator_N',\n",
              " 'Vehicle_Collision_Coverage_Indicator_Y',\n",
              " 'Vehicle_Collision_Coverage_Deductible_-1',\n",
              " 'Vehicle_Collision_Coverage_Deductible_50',\n",
              " 'Vehicle_Collision_Coverage_Deductible_100',\n",
              " 'Vehicle_Collision_Coverage_Deductible_200',\n",
              " 'Vehicle_Collision_Coverage_Deductible_250',\n",
              " 'Vehicle_Collision_Coverage_Deductible_500',\n",
              " 'Vehicle_Collision_Coverage_Deductible_1000',\n",
              " 'Vehicle_Collision_Coverage_Deductible_2000',\n",
              " 'Vehicle_Collision_Coverage_Deductible_3000',\n",
              " 'Driver_Total',\n",
              " 'Driver_Total_Male',\n",
              " 'Driver_Total_Female',\n",
              " 'Driver_Total_Single',\n",
              " 'Driver_Total_Married',\n",
              " 'Driver_Total_Related_To_Insured_Self',\n",
              " 'Driver_Total_Related_To_Insured_Spouse',\n",
              " 'Driver_Total_Related_To_Insured_Child',\n",
              " 'Driver_Total_Licensed_In_State',\n",
              " 'Driver_Minimum_Age',\n",
              " 'Driver_Maximum_Age',\n",
              " 'Driver_Total_Teenager_Age_15_19',\n",
              " 'Driver_Total_College_Ages_20_23',\n",
              " 'Driver_Total_Young_Adult_Ages_24_29',\n",
              " 'Driver_Total_Low_Middle_Adult_Ages_30_39',\n",
              " 'Driver_Total_Middle_Adult_Ages_40_49',\n",
              " 'Driver_Total_Adult_Ages_50_64',\n",
              " 'Driver_Total_Senior_Ages_65_69',\n",
              " 'Driver_Total_Upper_Senior_Ages_70_plus',\n",
              " 'Vehicle_Youthful_Driver_Indicator_N',\n",
              " 'Vehicle_Youthful_Driver_Indicator_Y',\n",
              " 'Vehicle_Youthful_Driver_Training_Code_Not Applicable                 ',\n",
              " 'Vehicle_Youthful_Driver_Training_Code_With Driver Training           ',\n",
              " 'Vehicle_Youthful_Driver_Training_Code_With or Without Driver Training',\n",
              " 'Vehicle_Youthful_Driver_Training_Code_Without Driver Training        ',\n",
              " 'Vehicle_Youthful_Good_Student_Code_Eligible for Good Student Credit    ',\n",
              " 'Vehicle_Youthful_Good_Student_Code_Not Eligible for Good Student Credit',\n",
              " 'Vehicle_Driver_Points_0',\n",
              " 'Vehicle_Driver_Points_1',\n",
              " 'Vehicle_Driver_Points_2',\n",
              " 'Vehicle_Driver_Points_3',\n",
              " 'Vehicle_Driver_Points_4',\n",
              " 'Vehicle_Driver_Points_5',\n",
              " 'Vehicle_Driver_Points_6',\n",
              " 'Vehicle_Driver_Points_7',\n",
              " 'Vehicle_Safe_Driver_Discount_Indicator_N',\n",
              " 'Vehicle_Safe_Driver_Discount_Indicator_Y',\n",
              " 'EEA_Liability_Coverage_Only_Indicator_N',\n",
              " 'EEA_Liability_Coverage_Only_Indicator_Y',\n",
              " 'EEA_Multi_Auto_Policies_Indicator_N',\n",
              " 'EEA_Multi_Auto_Policies_Indicator_Y',\n",
              " 'EEA_Policy_Tenure',\n",
              " 'EEA_Policy_Tenure_0-10',\n",
              " 'EEA_Policy_Tenure_10-20',\n",
              " 'EEA_Policy_Tenure_20-30',\n",
              " 'EEA_Policy_Tenure_30-40',\n",
              " 'EEA_Policy_Tenure_40-50',\n",
              " 'EEA_Policy_Tenure_50-60',\n",
              " 'EEA_Agency_Type_Hybrid',\n",
              " 'EEA_Agency_Type_Non-standard',\n",
              " 'EEA_Agency_Type_Preferred',\n",
              " 'EEA_Agency_Type_Standard',\n",
              " 'EEA_Packaged_Policy_Indicator_N',\n",
              " 'EEA_Packaged_Policy_Indicator_Y',\n",
              " 'EEA_Full_Coverage_Indicator_N',\n",
              " 'EEA_Full_Coverage_Indicator_Y',\n",
              " 'EEA_Prior_Bodily_Injury_Limit_100-200',\n",
              " 'EEA_Prior_Bodily_Injury_Limit_100-400',\n",
              " 'EEA_Prior_Bodily_Injury_Limit_20-50',\n",
              " 'EEA_Prior_Bodily_Injury_Limit_200-400',\n",
              " 'EEA_Prior_Bodily_Injury_Limit_300-300',\n",
              " 'EEA_Prior_Bodily_Injury_Limit_40-100 ',\n",
              " 'EEA_Prior_Bodily_Injury_Limit_75-300',\n",
              " 'EEA_Prior_Bodily_Injury_Limit_750-750',\n",
              " 'SYS_Renewed_N',\n",
              " 'SYS_Renewed_Y',\n",
              " 'SYS_New_Business_N',\n",
              " 'SYS_New_Business_Y',\n",
              " 'Annual_Premium',\n",
              " 'Annual_Premium_0-1000',\n",
              " 'Annual_Premium_1000-2000',\n",
              " 'Annual_Premium_2000-3000',\n",
              " 'Annual_Premium_3000-4000']"
            ]
          },
          "metadata": {
            "tags": []
          },
          "execution_count": 25
        }
      ]
    },
    {
      "cell_type": "code",
      "metadata": {
        "id": "aXRxjXbYh0te",
        "colab_type": "code",
        "outputId": "a1bdfa66-37c7-4160-bff3-a3ec59b4d5d2",
        "colab": {
          "base_uri": "https://localhost:8080/",
          "height": 35
        }
      },
      "source": [
        "encod_test_temp.shape"
      ],
      "execution_count": 0,
      "outputs": [
        {
          "output_type": "execute_result",
          "data": {
            "text/plain": [
              "(985168, 226)"
            ]
          },
          "metadata": {
            "tags": []
          },
          "execution_count": 23
        }
      ]
    },
    {
      "cell_type": "code",
      "metadata": {
        "id": "O0Sz2vOVdfF1",
        "colab_type": "code",
        "colab": {}
      },
      "source": [
        "#Save as csv\n",
        "\n",
        "encod_test.to_csv('encod_test_first_wPolicyNo.csv', index=False)"
      ],
      "execution_count": 0,
      "outputs": []
    },
    {
      "cell_type": "markdown",
      "metadata": {
        "id": "wOCSgW_8dhxt",
        "colab_type": "text"
      },
      "source": [
        "Divide into portfolios."
      ]
    },
    {
      "cell_type": "code",
      "metadata": {
        "id": "UyTybNQadiew",
        "colab_type": "code",
        "colab": {}
      },
      "source": [
        "val = encod_test['Portfolio'][0]\n",
        "list_of_dataframes = []\n",
        "portfolio=pd.DataFrame()\n",
        "for i in range(len(encod_test)):\n",
        "    if encod_test['Portfolio'][i] == val:\n",
        "        portfolio=portfolio.append(encod_test.iloc[[i]])\n",
        "    else:\n",
        "        val = encod_test['Portfolio'][i]\n",
        "        list_of_dataframes.append(portfolio)\n",
        "        portfolio=pd.DataFrame()\n",
        "        portfolio=portfolio.append(encod_test.iloc[[i]])\n",
        "list_of_dataframes.append(portfolio)"
      ],
      "execution_count": 0,
      "outputs": []
    },
    {
      "cell_type": "markdown",
      "metadata": {
        "id": "4gVi99l-dpbZ",
        "colab_type": "text"
      },
      "source": [
        "Helper functions to summarize the portfolios."
      ]
    },
    {
      "cell_type": "code",
      "metadata": {
        "id": "20EmRATOdqBD",
        "colab_type": "code",
        "colab": {}
      },
      "source": [
        "#For finding sum\n",
        "def portfolio_sum(portfolio,column_name):\n",
        "  sum=0\n",
        "  for record in portfolio[column_name]:\n",
        "    if  (not np.isnan(record)) and record !=-1:\n",
        "      sum+=record\n",
        "  # print(sum)\n",
        "  return sum\n",
        "  \n",
        "def summarize_portfolio(portfolio):\n",
        "  portfolio = portfolio.drop(['Unnamed: 0', 'Portfolio'], axis=1)\n",
        "  new_port=pd.DataFrame()\n",
        "  # new_port=pd.DataFrame([dataframe['Portfolio'].iloc[0]], columns=['Portfolio'])\n",
        "  #For finding percentage\n",
        "  for record in portfolio:\n",
        "    new_port[record]=new_port.apply(lambda _: '', axis=1)\n",
        "    if set([0,1]).issubset(set(portfolio[record].value_counts(normalize=True).keys())) and len(portfolio[record].value_counts(normalize=True))==2:\n",
        "        new_port.at[0,record]=round(portfolio[record].value_counts(normalize=True)[1]*100,2)\n",
        "    if (portfolio[record]==0).all():\n",
        "        new_port.at[0,record]=0\n",
        "    if (portfolio[record]==1).all():\n",
        "        new_port.at[0,record]=1\n",
        "  #For finding mean and median\n",
        "  new_port['Vehicle_Make_Age']=portfolio['Vehicle_Make_Age'].mean()\n",
        "  new_port['Vehicle_Make_Age_Median']=portfolio['Vehicle_Make_Age'].median()\n",
        "  new_port['Driver_Minimum_Age']=portfolio['Driver_Minimum_Age'].mean()\n",
        "  new_port['Driver_Minimum_Age_Median']=portfolio['Driver_Minimum_Age'].median()\n",
        "  new_port['Driver_Maximum_Age']=portfolio['Driver_Maximum_Age'].mean()\n",
        "  new_port['Driver_Maximum_Age_Median']=portfolio['Driver_Maximum_Age'].median()\n",
        "  #For finding sum\n",
        "  new_port['Vehicle_New_Cost_Amount']=portfolio_sum(portfolio,'Vehicle_New_Cost_Amount')\n",
        "  new_port['Vehicle_Number_Of_Drivers_Assigned']=portfolio_sum(portfolio,'Vehicle_Number_Of_Drivers_Assigned')\n",
        "  new_port['Vehicle_Miles_To_Work']=portfolio_sum(portfolio,'Vehicle_Miles_To_Work')\n",
        "  new_port['Vehicle_Annual_Miles']=portfolio_sum(portfolio,'Vehicle_Annual_Miles')\n",
        "  new_port['Vehicle_Comprehensive_Coverage_Limit']=portfolio_sum(portfolio,'Vehicle_Comprehensive_Coverage_Limit')\n",
        "  new_port['Driver_Total']=portfolio_sum(portfolio,'Driver_Total')\n",
        "  new_port['Driver_Total_Male']=portfolio_sum(portfolio,'Driver_Total_Male')\n",
        "  new_port['Driver_Total_Female']=portfolio_sum(portfolio,'Driver_Total_Female')\n",
        "  new_port['Driver_Total_Single']=portfolio_sum(portfolio,'Driver_Total_Single')\n",
        "  new_port['Driver_Total_Married']=portfolio_sum(portfolio,'Driver_Total_Married')\n",
        "  new_port['Driver_Total_Related_To_Insured_Self']=portfolio_sum(portfolio,'Driver_Total_Related_To_Insured_Self')\n",
        "  new_port['Driver_Total_Related_To_Insured_Spouse']=portfolio_sum(portfolio,'Driver_Total_Related_To_Insured_Spouse')\n",
        "  new_port['Driver_Total_Related_To_Insured_Child']=portfolio_sum(portfolio,'Driver_Total_Related_To_Insured_Child')\n",
        "  new_port['Driver_Total_Licensed_In_State']=portfolio_sum(portfolio,'Driver_Total_Licensed_In_State')\n",
        "  new_port['Driver_Total_Teenager_Age_15_19']=portfolio_sum(portfolio,'Driver_Total_Teenager_Age_15_19')\n",
        "  new_port['Driver_Total_College_Ages_20_23']=portfolio_sum(portfolio,'Driver_Total_College_Ages_20_23')\n",
        "  new_port['Driver_Total_Young_Adult_Ages_24_29']=portfolio_sum(portfolio,'Driver_Total_Young_Adult_Ages_24_29')\n",
        "  new_port['Driver_Total_Low_Middle_Adult_Ages_30_39']=portfolio_sum(portfolio,'Driver_Total_Low_Middle_Adult_Ages_30_39')\n",
        "  new_port['Driver_Total_Middle_Adult_Ages_40_49']=portfolio_sum(portfolio,'Driver_Total_Middle_Adult_Ages_40_49')\n",
        "  new_port['Driver_Total_Adult_Ages_50_64']=portfolio_sum(portfolio,'Driver_Total_Adult_Ages_50_64')\n",
        "  new_port['Driver_Total_Senior_Ages_65_69']=portfolio_sum(portfolio,'Driver_Total_Senior_Ages_65_69')\n",
        "  new_port['Driver_Total_Upper_Senior_Ages_70_plus']=portfolio_sum(portfolio,'Driver_Total_Upper_Senior_Ages_70_plus')\n",
        "  new_port['EEA_Policy_Tenure']=portfolio_sum(portfolio,'EEA_Policy_Tenure')\n",
        "  new_port['Annual_Premium']=portfolio_sum(portfolio,'Annual_Premium')\n",
        "  return new_port"
      ],
      "execution_count": 0,
      "outputs": []
    },
    {
      "cell_type": "markdown",
      "metadata": {
        "id": "FSxbd0Ubdudc",
        "colab_type": "text"
      },
      "source": [
        "Summarize the portfolios and stored the portfolio names in an array."
      ]
    },
    {
      "cell_type": "code",
      "metadata": {
        "id": "sEl66O7hdvOM",
        "colab_type": "code",
        "colab": {}
      },
      "source": [
        "summarized_dataframes=pd.DataFrame()\n",
        "i=0\n",
        "port_id=[]\n",
        "for dataframe in list_of_dataframes:\n",
        "  port_id.append(dataframe['Portfolio'].iloc[0])\n",
        "  new=pd.DataFrame()\n",
        "  # print(i)\n",
        "  new=summarize_portfolio(dataframe)\n",
        "  summarized_dataframes=summarized_dataframes.append(new)\n",
        "  i+=1"
      ],
      "execution_count": 0,
      "outputs": []
    },
    {
      "cell_type": "markdown",
      "metadata": {
        "id": "uHBwS9BBd08l",
        "colab_type": "text"
      },
      "source": [
        "Strip 'test_' and '.csv' from the portfolio ID"
      ]
    },
    {
      "cell_type": "code",
      "metadata": {
        "id": "rBpwTa8sd2Hx",
        "colab_type": "code",
        "colab": {}
      },
      "source": [
        "# port_id\n",
        "for i in range (len(port_id)):\n",
        "  port_id[i] = port_id[i].strip('.csv')\n",
        "  port_id[i] = port_id[i].strip('test_')"
      ],
      "execution_count": 0,
      "outputs": []
    },
    {
      "cell_type": "code",
      "metadata": {
        "id": "WANUUchQeDZW",
        "colab_type": "code",
        "colab": {}
      },
      "source": [
        "Final = pd.DataFrame()\n",
        "Final['ID'] = port_id\n",
        "\n",
        "Final"
      ],
      "execution_count": 0,
      "outputs": []
    },
    {
      "cell_type": "markdown",
      "metadata": {
        "id": "BdPjZ3NGeGSy",
        "colab_type": "text"
      },
      "source": [
        "Save Portfolio IDs to csv"
      ]
    },
    {
      "cell_type": "code",
      "metadata": {
        "id": "pAmn6b6jeKeQ",
        "colab_type": "code",
        "colab": {}
      },
      "source": [
        "Final.to_csv('Final.csv', index=False)"
      ],
      "execution_count": 0,
      "outputs": []
    }
  ]
}